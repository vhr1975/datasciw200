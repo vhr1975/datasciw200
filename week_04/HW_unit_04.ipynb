{
 "cells": [
  {
   "cell_type": "markdown",
   "metadata": {},
   "source": [
    "## Week 4 Assignment - W200 Introduction to Data Science Programming, UC Berkeley MIDS"
   ]
  },
  {
   "cell_type": "markdown",
   "metadata": {},
   "source": [
    "Write code in this jupyter Notebook to solve the following problems. Please upload this **Notebook** with your solutions to your GitHub repository in your SUBMISSIONS/week_04 folder by 11:59PM PST the night before class."
   ]
  },
  {
   "cell_type": "markdown",
   "metadata": {},
   "source": [
    "## Objectives:\n",
    "\n",
    "- More practice with for & while loops, if statements and gathering user inputs\n",
    "- Demonstrate use of Python list comprehensions.\n",
    "- Understand the pseudo-coding and algorithm complexities"
   ]
  },
  {
   "cell_type": "markdown",
   "metadata": {},
   "source": [
    "## General Guidelines:\n",
    "\n",
    "- In each code block, do NOT delete the # Q4-x-x comment at the top of a cell (it is needed for the auto-grading!)\n",
    "- Limited user input validation and error checking is encouraged on this assignment. Each question below will indicate the type of input that you can expect. (for example, if the question states the input will be an integer, you can expect the user to input an integer and do not need to check to ensure it is an integer versus a float or a string)\n",
    "- Adding comments in your code is strongly suggested but won't be graded.\n",
    "- The examples given are samples of how we will test/grade your code. Please ensure your code outputs the same information.\n",
    "- If you are stuck on a problem or do not understand a question - please come to office hours or ask questions to the class Google group (please don't post your code though). If it is a coding problem send a private email to all of the instructors at: mids-python-instructors@googlegroups.com\n",
    "- You may use any libraries from the Python Standard Library for this assignment: https://docs.python.org/3/library/\n",
    "- We also have a tutor if you would like a 1 on 1 session!"
   ]
  },
  {
   "cell_type": "markdown",
   "metadata": {},
   "source": [
    "## Grading Rubric\n",
    "\n",
    "General grading rubric guidelines / philosophy:\n",
    "\n",
    "- The total possible points will be shown for each question\n",
    "- Please read each question carefully to understand the requirements\n",
    "- Points for each question are rewarded based on how well your code fulfills those requirements\n",
    "- All of the problems have an example given to help show what is needed and how to format the answer\n",
    "- For the rest of the questions, its up to you to determine the requirements and code them!\n",
    "\n",
    "More on grading:\n",
    "- If the question is blank / not attempted, no points will be given\n",
    "- Most points are given for code that runs (does not crash) and fulfills the requirements\n",
    "- Minor points are given for formatting the answer in accordance with the question"
   ]
  },
  {
   "cell_type": "markdown",
   "metadata": {},
   "source": [
    "## 4-1. Loops\n",
    "### 4-1-1. For Loops (10 points)\n",
    "\n",
    "Write a script that prompts the user for two words (two, one-word strings). Print all the **unique** letters that are common to both words, in alphabetical order, using **for** loops in your solution. A shown below case does not matter.\n",
    "\n",
    "For example:\n",
    "```\n",
    "Enter one word: Home\n",
    "Enter another word: Meter\n",
    "\n",
    "Letters in common: em\n",
    "```"
   ]
  },
  {
   "cell_type": "code",
   "execution_count": 1,
   "metadata": {
    "collapsed": true
   },
   "outputs": [
    {
     "name": "stdout",
     "output_type": "stream",
     "text": [
      "Letters in common:  em\n"
     ]
    }
   ],
   "source": [
    "# Q4-1-1 Grading Tag:\n",
    "\n",
    "user_word1 = input('Enter one word: ')\n",
    "user_word1 = user_word1.lower()\n",
    "user_word2 = input('Enter another word: ')\n",
    "user_word2 = user_word2.lower()\n",
    "\n",
    "common_chars = []\n",
    "word1_length = len(user_word1)\n",
    "word2_length = len(user_word2)    \n",
    "\n",
    "# compare which word is longer\n",
    "if (word1_length <= word2_length): \n",
    "    # word2 is longer\n",
    "    #################################################    \n",
    "    # loop to compare each char\n",
    "    for x in user_word1:        \n",
    "        if (x in user_word2):\n",
    "            common_chars.append(x)\n",
    "    #################################################\n",
    "else:\n",
    "    # word1 is longer\n",
    "    #################################################\n",
    "    # loop to compare each char\n",
    "    for x in user_word2:\n",
    "        if (x in user_word1):\n",
    "            common_chars.append(x)\n",
    "    #################################################\n",
    "    \n",
    "\n",
    "    \n",
    "#####################################################\n",
    "# resubmit update\n",
    "# sort letters\n",
    "common_chars.sort()\n",
    "# remove duplicates with a set\n",
    "common_chars = list(set(common_chars))\n",
    "#####################################################\n",
    "\n",
    "print('Letters in common: ', ''.join(common_chars))\n"
   ]
  },
  {
   "cell_type": "markdown",
   "metadata": {},
   "source": [
    "### 4-1-2. A Game of Chess (20 points: 5 points Pseudo-code / 15 points Chess)\n",
    "You place a pawn at the top left corner of an n-by-n chess board, labeled (0,0).  For each move, you have a choice: move the pawn down a single space, or move the pawn down one space and right one space.  That is, if the pawn is at position (i,j), you can move the pawn to (i+1,j) or (i+1, j+1).\n",
    "\n",
    "Ask the user for the size of a chessboard, n (**integer**).  Find the number of different paths **starting from (0,0)** that the pawn could take to reach each position on the chess board.  For example, there are two different paths the pawn can take to reach (2,1). Look at the diagrams below to convince yourself of this. You can see the four paths that you can take by move 2.\n",
    "```\n",
    "  Start -> Move 1 -> Move 2\n",
    "\n",
    "  (0,0) ->  (1,0) -> (2,1)\n",
    "  \n",
    "  (0,0) ->  (1,0) -> (2,0)\n",
    "  \n",
    "  (0,0) ->  (1,1) -> (2,1)\n",
    "  \n",
    "  (0,0) ->  (1,1) -> (2,2)\n",
    "```\n",
    "\n",
    "Print the board with the number of ways to reach each square labeled as shown below.\n",
    "\n",
    "For example:\n",
    "```\n",
    "Enter a board size: 4\n",
    "\n",
    "1 0 0 0\n",
    "1 1 0 0\n",
    "1 2 1 0\n",
    "1 3 3 1\n",
    "```\n",
    "\n",
    "#### Please create pseudocode for this problem in the first cell then implement your solution in the second cell. \n",
    "- If you need help creating pseudocode, read this article: https://www.geeksforgeeks.org/how-to-write-a-pseudo-code/ (code is java but principles are the same)"
   ]
  },
  {
   "cell_type": "code",
   "execution_count": null,
   "metadata": {
    "collapsed": true
   },
   "outputs": [],
   "source": [
    "# Pseudocode Here\n",
    "# place pawn at top left of the board\n",
    "# permutate thru all the avaibale moves for the pawn\n",
    "# ie move pawn one spot until end of board"
   ]
  },
  {
   "cell_type": "code",
   "execution_count": 1,
   "metadata": {
    "collapsed": true
   },
   "outputs": [
    {
     "name": "stdout",
     "output_type": "stream",
     "text": [
      "1 0 0 0\n",
      "1 1 0 0\n",
      "1 2 1 0\n",
      "1 3 3 1\n"
     ]
    }
   ],
   "source": [
    "# Q4-1-2 Grading Tag:\n",
    "\n",
    "# Implement Here\n",
    "n = int(input(\"Enter a board size: \"))\n",
    "size = n\n",
    "size = int(size)\n",
    "rows = int(size)\n",
    "cols = int(size)\n",
    "\n",
    "board = []\n",
    "\n",
    "# prime with all 0's\n",
    "for x in range (rows):\n",
    "    board.append([])\n",
    "    for y in range(cols):\n",
    "        board[x].append(0)\n",
    " \n",
    "# print(board)\n",
    "\n",
    "# For each move, you have a choice: move the pawn down a single space, \n",
    "# # or move the pawn down one space and right one space.  That is, if \n",
    "# the pawn is at position (i,j), you can move the pawn to (i+1,j) or (i+1, j+1).\n",
    "\n",
    "move1_row = 0\n",
    "move1_col = 0\n",
    "\n",
    "move2_row = 0\n",
    "move2_col = 0\n",
    "\n",
    "board[0][0] = 1\n",
    "length = len(board) - 1\n",
    "\n",
    "#####################################################\n",
    "# resubmit update\n",
    "# fixed loop the and updating the board \n",
    "# fixed the printing of the board\n",
    "#####################################################\n",
    "\n",
    "# exhaustive search \n",
    "# loop the board\n",
    "for i in range(rows - 1):    \n",
    "    # loop the rows\n",
    "    for j in range(rows - 1):\n",
    "        # loop the cols        \n",
    "        \n",
    "        # track pawn position on board                \n",
    "        board[i +1][j] = board[i][j] + board[i+1][j]\n",
    "        board[i +1][j+1] = board[i][j] + board[i+1][j+1]\n",
    "\n",
    "# loop the board to print\n",
    "for i in range(n):\n",
    "    print(*board[i])"
   ]
  },
  {
   "cell_type": "markdown",
   "metadata": {},
   "source": [
    "## 4-2. Algorithms\n",
    "\n",
    "### 4-2-1. Fixing the Bisection Search (15 points)\n",
    "\n",
    "The bisection code below finds the square root of a number. Try inputting 16 into the code to confirm it works. Next, try inputting 0.25 into the bisection search algorithm below and confirm that it doesn't work. Then correct the algorithm so that it works for all positive numbers, including decimals such as 0.25."
   ]
  },
  {
   "cell_type": "code",
   "execution_count": 18,
   "metadata": {},
   "outputs": [
    {
     "name": "stdout",
     "output_type": "stream",
     "text": [
      "low = 0.0 high = 1.0\n",
      "low = 0.0 high = 0.5\n",
      "low = 0.25 high = 0.5\n",
      "low = 0.375 high = 0.5\n",
      "low = 0.4375 high = 0.5\n",
      "low = 0.46875 high = 0.5\n",
      "low = 0.484375 high = 0.5\n",
      "low = 0.4921875 high = 0.5\n",
      "low = 0.49609375 high = 0.5\n",
      "low = 0.498046875 high = 0.5\n",
      "low = 0.4990234375 high = 0.5\n",
      "low = 0.49951171875 high = 0.5\n",
      "low = 0.499755859375 high = 0.5\n",
      "low = 0.4998779296875 high = 0.5\n",
      "low = 0.49993896484375 high = 0.5\n",
      "low = 0.499969482421875 high = 0.5\n",
      "number of guesses = 16\n",
      "0.49999237060546875 is close to square root of 0.25\n"
     ]
    }
   ],
   "source": [
    "# Q4-2-1 Grading Tag:\n",
    "## Please fix the code in this cell (that is don't make a new cell)\n",
    "## Bisection Search to Find a Square Root\n",
    "\n",
    "x = float(input(\"enter a number:\"))\n",
    "epsilon = 0.00001\n",
    "num_guesses = 0\n",
    "low = 0.0\n",
    "\n",
    "# to compute all the roots must set upper bound according\n",
    "if x < 1.0:\n",
    "    high = 1.0\n",
    "else:\n",
    "    high = x\n",
    "\n",
    "ans = (high + low)/2.0\n",
    "while high - low >= 2 * epsilon:\n",
    "    print(\"low =\",low,\"high =\", high)\n",
    "    num_guesses += 1\n",
    "    if ans ** 2 < x:\n",
    "        low = ans\n",
    "    else:\n",
    "        high = ans\n",
    "    ans = (high + low)/2.0\n",
    "print('number of guesses =', num_guesses)\n",
    "print(ans, 'is close to square root of', x)"
   ]
  },
  {
   "cell_type": "markdown",
   "metadata": {},
   "source": [
    "### 4-2-2. Bisection Search vs. Brute Force (5 points)\n",
    "\n",
    "Please answer the following questions as a short answer discussion not more than 1-2 paragraphs.  These methods are described in the async video lectures 4.5, 4.6 & 4.7.\n",
    "\n",
    "In your own words, why does the bisection search algorithm for finding square roots work faster on large numbers than the brute force algorithm? Write your answer below."
   ]
  },
  {
   "cell_type": "markdown",
   "metadata": {},
   "source": [
    "**[Type your answer here]**\n",
    "\n",
    "**Please see my answer below**\n",
    "\n",
    "**The brute force approach is simple and easy to follow but not the most efficient. The bisection search reduces the search range by half. This range reduction allows the search to continue to find the answer, while leveraging a given tolerance. In halving the range every cycle the answer is a much faster and efficient algorithm.**"
   ]
  },
  {
   "cell_type": "markdown",
   "metadata": {},
   "source": [
    "### 4-2-3. Bisection Search vs Newton's Method (5 points)\n",
    "\n",
    "In your own words, why does Newton's method for finding square roots outperform both the brute force and the bisection search algorithms? Write your answer below."
   ]
  },
  {
   "cell_type": "markdown",
   "metadata": {},
   "source": [
    "**[Type your answer here]**\n",
    "\n",
    "**Please see my answer below**\n",
    "\n",
    "**The Newton algorithm is more efficient and faster than the bisection search. This search is not a linear approach like the other search options. This is a quadratic search. In using tangents to find the answer, this search is faster and more efficient.**"
   ]
  },
  {
   "cell_type": "markdown",
   "metadata": {},
   "source": [
    "### 4-2-4. Interpreting Instructions for an Algorithm (20 points)\n",
    "\n",
    "Implement this digit-by-digit algorithm to find the square root of x to a precision of epsilon.\n",
    "  1. Begin with a step size of 1 and guess of zero.\n",
    "  2. Increase the guess by the step size as long as doing so would not cause the guess^2 to exceed x. Repeat this step (step 2) until the next repetition will cause guess^2 to exceed x.\n",
    "  3. If the step size is greater than or equal to epsilon, then divide the step size by 10 and go back to step 2.\n",
    "\n",
    "Notice that once a digit has been found, it is not changed again.  Try using your code to find the square root of 10 to an epsilon of 10 decimal places.  This algorithm should not take over 30 seconds to run (if it does you have coded something incorrectly!). \n",
    "\n",
    "If you are getting an answer that is off by epsilon (for example 3.1622776602 instead of 3.1622776601), this might be caused by the floating point error. You can read more about that here: https://docs.python.org/3/tutorial/floatingpoint.html. To fix this problem, you can use the Decimal library here: https://docs.python.org/3/library/decimal.html#module-decimal\n",
    "\n",
    "Hint: It might be helpful to write out by hand an easier example like '4' to understand how the algorithm works.\n",
    "\n",
    "Example output:\n",
    "\n",
    "```\n",
    "Enter a number to find the square root: 10\n",
    "The square root of 10 is 3.1622776601.\n",
    "```"
   ]
  },
  {
   "cell_type": "code",
   "execution_count": 11,
   "metadata": {
    "collapsed": true
   },
   "outputs": [
    {
     "name": "stdout",
     "output_type": "stream",
     "text": [
      "3.1622776602\n"
     ]
    }
   ],
   "source": [
    "# Q4-2-4 Grading Tag:\n",
    "\n",
    "\n",
    "import sys\n",
    "\n",
    "user_input = input('Enter a number to find the quare root: ')\n",
    "x = float(user_input)\n",
    "\n",
    "# step 1. Begin with a step size of 1 and guess of zero.\n",
    "# in python, epsilon can be found using sys.float_info.epsilon\n",
    "epsilon = sys.float_info.epsilon\n",
    "# print (epsilon)\n",
    "step_size = 1\n",
    "guess = 0\n",
    "bFlag = True\n",
    "\n",
    "# step 2. Increase the guess by the step size as long as doing so would not \n",
    "# cause the guess^2 to exceed x. Repeat this step (step 2) until the next \n",
    "# repetition will cause guess^2 to exceed x.\n",
    "\n",
    "# step2 must be completed in a while loop\n",
    "while bFlag:\n",
    "    \n",
    "     # find the square root of x to a precision of epsilon\n",
    "    if step_size < epsilon:\n",
    "        bFlag = False    \n",
    "    \n",
    "    # increase the guess by the step size and check guess^2 not > x\n",
    "    if (guess + step_size) ** 2 <=  x:    \n",
    "        guess = guess + step_size\n",
    "    else:\n",
    "        # else the step size is greater than or equal to epsilon, then divide the \n",
    "        # step size by 10 repeat loop\n",
    "        step_size = step_size / 10\n",
    "        \n",
    "print(\"%.10f\" % guess)\n"
   ]
  },
  {
   "cell_type": "markdown",
   "metadata": {},
   "source": [
    "## 4-3. List Comprehensions (25 points - 5 points each)\n",
    "\n",
    "Each list comprehension below can be done in just one line/statement and needs to output one list. \n",
    "\n",
    "A note on displaying lists in Python: sometimes Python displays lists like `[1,2,3]` and other times lists display as \n",
    "```\n",
    "[1,\n",
    " 2,\n",
    " 3]\n",
    "```\n",
    "Either way these lists contain the same values and information (and are the same answer for this problem)."
   ]
  },
  {
   "cell_type": "markdown",
   "metadata": {},
   "source": [
    "**4-3-1. Use a single comprehension** to make a list of the square numbers below 100 that give a remainder of 1 when divided by 3.\n",
    "\n",
    "Example output (these are the first two elements of the list - obviously not the full list!):\n",
    "```\n",
    "[1, 4, ... ]\n",
    "```"
   ]
  },
  {
   "cell_type": "code",
   "execution_count": 2,
   "metadata": {
    "collapsed": true
   },
   "outputs": [
    {
     "name": "stdout",
     "output_type": "stream",
     "text": [
      "[1, 4, 16, 25, 49, 64]\n"
     ]
    }
   ],
   "source": [
    "# Q4-3-1 Grading Tag:\n",
    "\n",
    "# resubmit fixed the correct output\n",
    "\n",
    "squared_numbers = [x * x for x in range(10) if (x * x)  % 3 == 1]\n",
    "\n",
    "print(squared_numbers)"
   ]
  },
  {
   "cell_type": "markdown",
   "metadata": {},
   "source": [
    "**4-3-2.** A string is defined in the code snippet below. **Use a single comprehension** to make a list of the first letter of each word in the snippet.\n",
    "\n",
    "Example output (these are the first two elements of the list - obviously not the full list!):\n",
    "```\n",
    "['I', 'l', ... ]\n",
    "```"
   ]
  },
  {
   "cell_type": "code",
   "execution_count": 3,
   "metadata": {
    "collapsed": true
   },
   "outputs": [
    {
     "name": "stdout",
     "output_type": "stream",
     "text": [
      "['I', 'l', 'm', 'l', 'a', 'q', 'm', 'a', 'a', 't', 'N', 'e', 'm', 'n', 't', 'm', 'n', 't', 's', 'n', 'm', 't', 'a', 'a', 't', 'b', 'F', 't', 't', 's', 'o', 'l', 'I', 'f']\n"
     ]
    }
   ],
   "source": [
    "# Q4-3-2 Grading Tag:\n",
    "text = \"I live my life a quarter mile at a time. \\\n",
    "Nothing else matters: not the mortgage, not the store, \\\n",
    "not my team and all their bullshit. \\\n",
    "For those ten seconds or less, I’m free.\"\n",
    "# the slashes just mean that the string continues onto the next line\n",
    "# if you print the text, it will make no difference\n",
    "\n",
    "#resubmit fixed to split the text\n",
    "\n",
    "text_list = [x[0] for x in text.split()]\n",
    "\n",
    "print(text_list)"
   ]
  },
  {
   "cell_type": "markdown",
   "metadata": {},
   "source": [
    "**4-3-3.** A Pythagorean triple is a set (x,y,z), with positive integers x ≤ y ≤ z such that $x^2+y^2=z^2$. **Use a single comprehension** to make a list of all Pythagorean triples such that all 3 numbers are below 25.\n",
    "\n",
    "Example output (these are the first two elements of the list - obviously not the full list!):\n",
    "```\n",
    "[(3, 4, 5), (5, 12, 13), ... ]\n",
    "```"
   ]
  },
  {
   "cell_type": "code",
   "execution_count": 16,
   "metadata": {
    "collapsed": true
   },
   "outputs": [
    {
     "data": {
      "text/plain": [
       "[(3, 4, 5), (5, 12, 13), (6, 8, 10), (8, 15, 17), (9, 12, 15), (12, 16, 20)]"
      ]
     },
     "execution_count": 16,
     "metadata": {},
     "output_type": "execute_result"
    }
   ],
   "source": [
    "# Q4-3-3 Grading Tag:\n",
    "\n",
    "pythagorean_set = []\n",
    "\n",
    "# resumit with constraint in place\n",
    "\n",
    "# generate the 3 random numbers\n",
    "# keep in mind that the vars must positive integers x ≤ y ≤ z\n",
    "x = range(1, 25)      # random 1 - 25\n",
    "y = range(min(x), 25) # bound from x to 25\n",
    "z = range(min(x), 25) # bound from y to 25\n",
    "\n",
    "# generate (abc) set but only if a^2 + b^2 = c^2\n",
    "#pythagorean_set = [(a,b,c) for a in range(1, 25) for b in range(x+1, 25) for c in range(x+1, 25) if ( a ** 2 + b ** 2 == c ** 2)]\n",
    "\n",
    "[(x, y, z) for x in range(1, 25) for y in range(x+1, 25) for z in range(x+1, 25) if x**2 + y**2 == z**2]\n",
    "\n"
   ]
  },
  {
   "cell_type": "markdown",
   "metadata": {},
   "source": [
    "**4-3-4.** Given a word, provided below, **use a single comprehension** to make a list of all strings that can be formed by deleting exactly one character from the word.\n",
    "\n",
    "Required output:\n",
    "```\n",
    "['elcomed', 'Wlcomed', 'Wecomed', 'Welomed', 'Welcmed', 'Welcoed', 'Welcomd', 'Welcome']\n",
    "```"
   ]
  },
  {
   "cell_type": "code",
   "execution_count": 17,
   "metadata": {
    "collapsed": true
   },
   "outputs": [
    {
     "data": {
      "text/plain": [
       "['elcomed',\n",
       " 'Wlcomed',\n",
       " 'Wecomed',\n",
       " 'Welomed',\n",
       " 'Welcmed',\n",
       " 'Welcoed',\n",
       " 'Welcomd',\n",
       " 'Welcome']"
      ]
     },
     "execution_count": 17,
     "metadata": {},
     "output_type": "execute_result"
    }
   ],
   "source": [
    "# Q4-3-4 Grading Tag:\n",
    "word = \"Welcomed\"\n",
    "length = len(word)\n",
    "word_list = []\n",
    "\n",
    "# resubmit removed the extra list\n",
    "\n",
    "# loop each char in the word;  create a new word and append\n",
    "[word[:i] + word[i + 1:] for i in range(length)]   \n",
    "\n"
   ]
  },
  {
   "cell_type": "markdown",
   "metadata": {},
   "source": [
    "**4-3-5.** Given a word, provided below, **use a single comprehension** to make a list of all strings that can be formed by replacing exactly one vowel in the word with a different vowel (a vowel is a,e,i,o,u).\n",
    "\n",
    "Required output:\n",
    "```\n",
    "['Baoted', 'Beoted', 'Bioted', 'Buoted', 'Boated', 'Boeted', 'Boited', 'Bouted', 'Bootad', 'Bootid', 'Bootod', 'Bootud']\n",
    "```"
   ]
  },
  {
   "cell_type": "code",
   "execution_count": 19,
   "metadata": {
    "collapsed": true
   },
   "outputs": [
    {
     "data": {
      "text/plain": [
       "['Baoted',\n",
       " 'Beoted',\n",
       " 'Bioted',\n",
       " 'Buoted',\n",
       " 'Boated',\n",
       " 'Boeted',\n",
       " 'Boited',\n",
       " 'Bouted',\n",
       " 'Bootad',\n",
       " 'Bootid',\n",
       " 'Bootod',\n",
       " 'Bootud']"
      ]
     },
     "execution_count": 19,
     "metadata": {},
     "output_type": "execute_result"
    }
   ],
   "source": [
    "# Q4-3-5 Grading Tag:\n",
    "word2 = \"Booted\"\n",
    "length2 = len(word2)\n",
    "vowels = ['a', 'e', 'i', 'o', 'u']\n",
    "word_list2 = []\n",
    "\n",
    "# resubmit reformatted spacing in code\n",
    "             # concatenate list\n",
    "[word2[:i] + j + word2[i+1:] for i in range(length2) if word2[i] in ['a', 'e', 'i', 'o', 'u'] for j in ['a', 'e', 'i', 'o', 'u'] if word2[i] != j]\n"
   ]
  },
  {
   "cell_type": "markdown",
   "metadata": {},
   "source": [
    "## If you have feedback for this homework, please submit it using the link below:\n",
    "\n",
    "http://goo.gl/forms/74yCiQTf6k"
   ]
  }
 ],
 "metadata": {
  "interpreter": {
   "hash": "8e61c9422603e3d3820d3aeca1b8eefe471d1a1023a28a3903412dc32402bf43"
  },
  "kernelspec": {
   "display_name": "Python 3.7.1 32-bit (system)",
   "name": "python3"
  },
  "language_info": {
   "codemirror_mode": {
    "name": "ipython",
    "version": 3
   },
   "file_extension": ".py",
   "mimetype": "text/x-python",
   "name": "python",
   "nbconvert_exporter": "python",
   "pygments_lexer": "ipython3",
   "version": "3.7.1"
  }
 },
 "nbformat": 4,
 "nbformat_minor": 1
}
