{
 "cells": [
  {
   "cell_type": "markdown",
   "metadata": {},
   "source": [
    "# W200 Introduction to Data Science Programming, UC Berkeley MIDS\n",
    "\n",
    "\n",
    "## Instructions\n",
    "The final exam is designed to evaluate your grasp of Python theory as well as Python coding.\n",
    "\n",
    "- This is an individual exam.\n",
    "- You have 48 hours to complete the exam, starting from the point at which you first access it.\n",
    "- You will be graded on the quality of your answers.  Use clear, persuasive arguments based on concepts we covered in class.\n",
    "- Please double-click the markdown cells where it says \"Your answer here\" to input answers (if you need more cells please make them markdown cells)\n",
    "- Use only Python standard libraries, matplotlib, seaborn, NumPy and Pandas for this exam\n",
    "- Please push the exam to your github repo in the folder /SUBMISSIONS/final_exam/"
   ]
  },
  {
   "cell_type": "markdown",
   "metadata": {},
   "source": [
    "## Victor Ramirez"
   ]
  },
  {
   "cell_type": "markdown",
   "metadata": {},
   "source": [
    "## 1: Short Answer Questions (25 pts - each question = 5 pts)\n",
    "\n",
    "a) The following class ```Cart``` and method ```add_to_cart``` are parts of a larger program used by a mobile phone company.  The method ```add_to_cart``` will work when an object of type MobileDevice or of type ServiceContract is passed to it. State whether the method ```add_to_cart``` is a demonstration of the following items (yes/no) and the reasoning (1-2 sentences): \n",
    "\n",
    "    1. Inheritance\n",
    "    2. Polymorphism\n",
    "    3. Duck typing\n",
    "    4. Top-down design\n",
    "    5. Functional programming"
   ]
  },
  {
   "cell_type": "code",
   "execution_count": 1,
   "metadata": {},
   "outputs": [],
   "source": [
    "# Method:\n",
    "class Cart():\n",
    "    \n",
    "    def __init__(self):\n",
    "        self.cart = []\n",
    "        self.total = 0\n",
    "    \n",
    "    def add_to_cart(self, item):\n",
    "        self.cart.append(item)\n",
    "        self.total += item.price"
   ]
  },
  {
   "cell_type": "markdown",
   "metadata": {},
   "source": [
    "- a) Your answer here\n",
    "\n",
    "\n",
    "1. Inheritance: = No. There is no other class / object inheriting from the Cart class. \n",
    "2. Polymorphism: = No. No other method overriding the inital add_to_cart method. \n",
    "3. Duck typing: = No. There is object using the Cart methods without checking the object type. \n",
    "4. Top-down design: No. There are no set of steps to solve a problem here, only a simply class. \n",
    "5. Functional programming: Yes. This type of code is functional programming. "
   ]
  },
  {
   "cell_type": "markdown",
   "metadata": {},
   "source": [
    "b) Suppose you have a long list of digits (0-9) that you want to write to a file.  From a storage standpoint, would it be more efficient to use ASCII or UTF-8 as an encoding? What is the most efficient way to create an even smaller file to store the information?"
   ]
  },
  {
   "cell_type": "markdown",
   "metadata": {},
   "source": [
    "- b) Answer = The 0-9 digits in both ASCII and UTF-8 only use one byte of storage, so both encodings be equal. The most efficient way to store an even smaller file would be to save it digits in binary format. "
   ]
  },
  {
   "cell_type": "markdown",
   "metadata": {},
   "source": [
    "c) Why is it important to sanity-check your data before you begin your analysis? What could happen if you don't?"
   ]
  },
  {
   "cell_type": "markdown",
   "metadata": {
    "collapsed": true
   },
   "source": [
    "- c) Answer = You should always do a sanity check on data to avoid the following issues:\n",
    "- Remove bad data\n",
    "- Review any outliers\n",
    "- Validate data\n"
   ]
  },
  {
   "cell_type": "markdown",
   "metadata": {},
   "source": [
    "d) How do you determine which variables in your dataset you should check for issues prior to starting an analysis? "
   ]
  },
  {
   "cell_type": "markdown",
   "metadata": {
    "collapsed": true
   },
   "source": [
    "- d) Answer = You must explorer your data. You must be able to know your question. Once you have the question review a subset of your data. Then you can explore trends. Once reviewed you can focus on which variables to explorer. "
   ]
  },
  {
   "cell_type": "markdown",
   "metadata": {},
   "source": [
    "e1) Explain why the following code prints what it does."
   ]
  },
  {
   "cell_type": "code",
   "execution_count": 2,
   "metadata": {},
   "outputs": [
    {
     "name": "stdout",
     "output_type": "stream",
     "text": [
      "<class 'function'>\n"
     ]
    }
   ],
   "source": [
    "def f(): pass\n",
    "print(type(f))"
   ]
  },
  {
   "cell_type": "markdown",
   "metadata": {},
   "source": [
    "- e1) Answer = You have defined a stub function. The print statement prints the object type of the function."
   ]
  },
  {
   "cell_type": "markdown",
   "metadata": {},
   "source": [
    "e2) Explain why the following code prints something different."
   ]
  },
  {
   "cell_type": "code",
   "execution_count": 3,
   "metadata": {},
   "outputs": [
    {
     "name": "stdout",
     "output_type": "stream",
     "text": [
      "<class 'NoneType'>\n"
     ]
    }
   ],
   "source": [
    "def f(): pass\n",
    "print(type(f()))"
   ]
  },
  {
   "cell_type": "markdown",
   "metadata": {},
   "source": [
    "- e2) Answer = Again we have defined a stub function. The print statement prints the type of the type of the item returned by the function. In this case the function returns nothing. "
   ]
  },
  {
   "cell_type": "markdown",
   "metadata": {},
   "source": [
    "## 2:  General Coding Questions (15 pts - each question 5 pts)"
   ]
  },
  {
   "cell_type": "markdown",
   "metadata": {},
   "source": [
    "a) Using a list comprehension: Make a list of the squared numbers greater than 25 that are the square of non-negative integer less than 10. Fill in a list comprehension below so that we get this desired output."
   ]
  },
  {
   "cell_type": "code",
   "execution_count": 4,
   "metadata": {},
   "outputs": [
    {
     "name": "stdout",
     "output_type": "stream",
     "text": [
      "[36, 49, 64, 81]\n"
     ]
    }
   ],
   "source": [
    "# 2a) Your code here\n",
    "\n",
    "lst = [ x**2 for x in range(1,10) if x**2 > 25 ]\n",
    "\n",
    "print(lst)\n"
   ]
  },
  {
   "cell_type": "markdown",
   "metadata": {},
   "source": [
    "b) Below is a data frame of customers that have different cooling systems. Your data science team lead wants the column ```cooling_system``` to be labeled with the integer numbers 1-4 instead of the text as shown below:\n",
    "\n",
    "- 1 = Air Conditioning / AC / Air Con\n",
    "- 2 = Heat Pump / HP\n",
    "- 3 = Evaporative Cooler / Evap Cooler\n",
    "- 4 = Fan\n",
    "\n",
    "Make a new column called ```cooling_type``` that maps the text values to the new numeric values. Filter out the values that are not included in the mapping above. Print out/display this new data frame. Be sure to list any assumptions also!"
   ]
  },
  {
   "cell_type": "code",
   "execution_count": 5,
   "metadata": {},
   "outputs": [
    {
     "data": {
      "text/html": [
       "<div>\n",
       "<style scoped>\n",
       "    .dataframe tbody tr th:only-of-type {\n",
       "        vertical-align: middle;\n",
       "    }\n",
       "\n",
       "    .dataframe tbody tr th {\n",
       "        vertical-align: top;\n",
       "    }\n",
       "\n",
       "    .dataframe thead th {\n",
       "        text-align: right;\n",
       "    }\n",
       "</style>\n",
       "<table border=\"1\" class=\"dataframe\">\n",
       "  <thead>\n",
       "    <tr style=\"text-align: right;\">\n",
       "      <th></th>\n",
       "      <th>Cust_Number</th>\n",
       "      <th>Cooling_System</th>\n",
       "    </tr>\n",
       "  </thead>\n",
       "  <tbody>\n",
       "    <tr>\n",
       "      <th>0</th>\n",
       "      <td>101</td>\n",
       "      <td>AC</td>\n",
       "    </tr>\n",
       "    <tr>\n",
       "      <th>1</th>\n",
       "      <td>102</td>\n",
       "      <td>Heat Pump</td>\n",
       "    </tr>\n",
       "    <tr>\n",
       "      <th>2</th>\n",
       "      <td>103</td>\n",
       "      <td>Air Con</td>\n",
       "    </tr>\n",
       "    <tr>\n",
       "      <th>3</th>\n",
       "      <td>104</td>\n",
       "      <td>Air Conditioning</td>\n",
       "    </tr>\n",
       "    <tr>\n",
       "      <th>4</th>\n",
       "      <td>105</td>\n",
       "      <td>Fan</td>\n",
       "    </tr>\n",
       "    <tr>\n",
       "      <th>5</th>\n",
       "      <td>106</td>\n",
       "      <td>None</td>\n",
       "    </tr>\n",
       "    <tr>\n",
       "      <th>6</th>\n",
       "      <td>107</td>\n",
       "      <td>Evap Cooler</td>\n",
       "    </tr>\n",
       "    <tr>\n",
       "      <th>7</th>\n",
       "      <td>108</td>\n",
       "      <td>None</td>\n",
       "    </tr>\n",
       "    <tr>\n",
       "      <th>8</th>\n",
       "      <td>109</td>\n",
       "      <td>AC</td>\n",
       "    </tr>\n",
       "    <tr>\n",
       "      <th>9</th>\n",
       "      <td>110</td>\n",
       "      <td>Evaporative Cooler</td>\n",
       "    </tr>\n",
       "    <tr>\n",
       "      <th>10</th>\n",
       "      <td>111</td>\n",
       "      <td>geothermal</td>\n",
       "    </tr>\n",
       "    <tr>\n",
       "      <th>11</th>\n",
       "      <td>112</td>\n",
       "      <td>1</td>\n",
       "    </tr>\n",
       "  </tbody>\n",
       "</table>\n",
       "</div>"
      ],
      "text/plain": [
       "    Cust_Number      Cooling_System\n",
       "0           101                  AC\n",
       "1           102           Heat Pump\n",
       "2           103             Air Con\n",
       "3           104    Air Conditioning\n",
       "4           105                 Fan\n",
       "5           106                None\n",
       "6           107         Evap Cooler\n",
       "7           108                None\n",
       "8           109                  AC\n",
       "9           110  Evaporative Cooler\n",
       "10          111          geothermal\n",
       "11          112                   1"
      ]
     },
     "execution_count": 5,
     "metadata": {},
     "output_type": "execute_result"
    }
   ],
   "source": [
    "import pandas\n",
    "\n",
    "# creating a data frame from scratch - list of lists\n",
    "\n",
    "data = [ [101, 'AC'], \n",
    "         [102, 'Heat Pump'], \n",
    "         [103, 'Air Con'], \n",
    "         [104, 'Air Conditioning'],\n",
    "         [105, 'Fan'],\n",
    "         [106, 'None'],\n",
    "         [107, 'Evap Cooler'],\n",
    "         [108, None],\n",
    "         [109, 'AC'],\n",
    "         [110, 'Evaporative Cooler'],\n",
    "         [111, 'geothermal'],\n",
    "         [112, 1]\n",
    "       ]\n",
    "\n",
    "# create a data frame with column names - list of lists\n",
    "\n",
    "col_names = ['Cust_Number', 'Cooling_System']\n",
    "df = pandas.DataFrame(data, columns=col_names)\n",
    "df"
   ]
  },
  {
   "cell_type": "code",
   "execution_count": 6,
   "metadata": {},
   "outputs": [
    {
     "name": "stdout",
     "output_type": "stream",
     "text": [
      "   Cust_Number      Cooling_System  cooling_type\n",
      "0          101                  AC           1.0\n",
      "1          102           Heat Pump           2.0\n",
      "2          103             Air Con           1.0\n",
      "3          104    Air Conditioning           1.0\n",
      "4          105                 Fan           4.0\n",
      "6          107         Evap Cooler           3.0\n",
      "8          109                  AC           1.0\n",
      "9          110  Evaporative Cooler           3.0\n"
     ]
    }
   ],
   "source": [
    "# 2b) Your code here\n",
    "\n",
    "''' code is assuming the only values to map are as follows:\n",
    "        - 1 = Air Conditioning / AC / Air Con\n",
    "        - 2 = Heat Pump / HP\n",
    "        - 3 = Evaporative Cooler / Evap Cooler\n",
    "        - 4 = Fan\n",
    "'''\n",
    "###########################################################################################\n",
    "def map_cooling_type(type):\n",
    "    ''' function to map text values to digit types '''\n",
    "    \n",
    "    digit_type = None    \n",
    "    ''' \n",
    "        - 1 = Air Conditioning / AC / Air Con\n",
    "        - 2 = Heat Pump / HP\n",
    "        - 3 = Evaporative Cooler / Evap Cooler\n",
    "        - 4 = Fan\n",
    "    '''    \n",
    "    if type == 'Air Conditioning' or type == 'AC' or type == 'Air Con':\n",
    "        digit_type = 1   \n",
    "    elif type == 'Heat Pump' or type == 'HP':\n",
    "        digit_type = 2\n",
    "    elif type == 'Evaporative Cooler' or type == 'Evap Cooler':\n",
    "        digit_type = 3\n",
    "    elif type == 'Fan':\n",
    "        digit_type = 4        \n",
    "    \n",
    "    return digit_type\n",
    "###########################################################################################\n",
    "\n",
    "# apply the function to the col Cooling_System while adding the results to the cooling_type col\n",
    "df['cooling_type'] = df['Cooling_System'].apply(map_cooling_type)\n",
    "\n",
    "# remove the NAN values\n",
    "df.dropna(inplace=True)\n",
    "\n",
    "print(df)"
   ]
  },
  {
   "cell_type": "markdown",
   "metadata": {},
   "source": [
    "c) From the dataframe below, use groupby in Pandas to show how many total delegates were obtained grouped by favorite color. Print this out."
   ]
  },
  {
   "cell_type": "code",
   "execution_count": 7,
   "metadata": {},
   "outputs": [
    {
     "data": {
      "text/html": [
       "<div>\n",
       "<style scoped>\n",
       "    .dataframe tbody tr th:only-of-type {\n",
       "        vertical-align: middle;\n",
       "    }\n",
       "\n",
       "    .dataframe tbody tr th {\n",
       "        vertical-align: top;\n",
       "    }\n",
       "\n",
       "    .dataframe thead th {\n",
       "        text-align: right;\n",
       "    }\n",
       "</style>\n",
       "<table border=\"1\" class=\"dataframe\">\n",
       "  <thead>\n",
       "    <tr style=\"text-align: right;\">\n",
       "      <th></th>\n",
       "      <th>name</th>\n",
       "      <th>delegates</th>\n",
       "      <th>color</th>\n",
       "      <th>state</th>\n",
       "    </tr>\n",
       "  </thead>\n",
       "  <tbody>\n",
       "    <tr>\n",
       "      <th>0</th>\n",
       "      <td>marco</td>\n",
       "      <td>165</td>\n",
       "      <td>blue</td>\n",
       "      <td>FL</td>\n",
       "    </tr>\n",
       "    <tr>\n",
       "      <th>1</th>\n",
       "      <td>jeb</td>\n",
       "      <td>0</td>\n",
       "      <td>red</td>\n",
       "      <td>FL</td>\n",
       "    </tr>\n",
       "    <tr>\n",
       "      <th>2</th>\n",
       "      <td>chris</td>\n",
       "      <td>0</td>\n",
       "      <td>white</td>\n",
       "      <td>NJ</td>\n",
       "    </tr>\n",
       "    <tr>\n",
       "      <th>3</th>\n",
       "      <td>donald</td>\n",
       "      <td>1543</td>\n",
       "      <td>white</td>\n",
       "      <td>NY</td>\n",
       "    </tr>\n",
       "    <tr>\n",
       "      <th>4</th>\n",
       "      <td>ted</td>\n",
       "      <td>559</td>\n",
       "      <td>blue</td>\n",
       "      <td>TX</td>\n",
       "    </tr>\n",
       "    <tr>\n",
       "      <th>5</th>\n",
       "      <td>john</td>\n",
       "      <td>161</td>\n",
       "      <td>red</td>\n",
       "      <td>OH</td>\n",
       "    </tr>\n",
       "  </tbody>\n",
       "</table>\n",
       "</div>"
      ],
      "text/plain": [
       "     name  delegates  color state\n",
       "0   marco        165   blue    FL\n",
       "1     jeb          0    red    FL\n",
       "2   chris          0  white    NJ\n",
       "3  donald       1543  white    NY\n",
       "4     ted        559   blue    TX\n",
       "5    john        161    red    OH"
      ]
     },
     "execution_count": 7,
     "metadata": {},
     "output_type": "execute_result"
    }
   ],
   "source": [
    "import pandas\n",
    "\n",
    "# creating a data frame from scratch - list of lists\n",
    "\n",
    "data = [ ['marco', 165, 'blue', 'FL'], \n",
    "         ['jeb', 0, 'red', 'FL'], \n",
    "         ['chris', 0, 'white', 'NJ'], \n",
    "         ['donald', 1543, 'white', 'NY'],\n",
    "         ['ted', 559, 'blue', 'TX'],\n",
    "         ['john', 161, 'red', 'OH']\n",
    "       ]\n",
    "\n",
    "# create a data frame with column names - list of lists\n",
    "\n",
    "col_names = ['name', 'delegates', 'color', 'state']\n",
    "df = pandas.DataFrame(data, columns=col_names)\n",
    "df"
   ]
  },
  {
   "cell_type": "code",
   "execution_count": 8,
   "metadata": {},
   "outputs": [
    {
     "name": "stdout",
     "output_type": "stream",
     "text": [
      "       delegates\n",
      "color           \n",
      "blue         724\n",
      "red          161\n",
      "white       1543\n"
     ]
    }
   ],
   "source": [
    "# 2c) Your code here\n",
    "\n",
    "df_totals = pandas.DataFrame(df.groupby(by='color').sum())\n",
    "\n",
    "print(df_totals)\n"
   ]
  },
  {
   "cell_type": "markdown",
   "metadata": {},
   "source": [
    "## 3: Bitcoin coding problem (20 points):"
   ]
  },
  {
   "cell_type": "markdown",
   "metadata": {},
   "source": [
    "#### Bitcoin\n",
    "\n",
    "Consider a record of a one-time investment in bitcoin with value of that investment tracked monthly, provided as an (ordered) tuple of dictionaries, where each dictionary comprises one key for the month and corresponding one value for the value of the investment, and the first entry (Jan 2018) is the initial investment made on 01 Jan 2018, shown in `data` below.\n",
    "\n",
    "Write Python code to take such a record of any length (the below <i>data</i> is only a sample), and output a table/dataframe comprising a row for each month with columns for date, start balance, and return. **Print out this table/dataframe.**\n",
    "\n",
    "Also, visualize the record as two vertically arranged plots. \n",
    "- The top plot should show a line plot of start balance vs. month\n",
    "- The bottom plot should show a bar plot of return vs. month, with a black horizontal line at return=0, and bars color-coded such that positive returns are green and negative returns are red.  \n",
    "- The two plots' horizontal axes should align. Demonstrate that your code works by applying it to `data`.\n",
    "\n",
    "Notes: <br>\n",
    "- The gain for each period is the end balance minus the start balance. \n",
    "- The growth factor for each period is the end balance divided by the start balance.  \n",
    "- The return for each period is the growth factor minus 1."
   ]
  },
  {
   "cell_type": "code",
   "execution_count": 9,
   "metadata": {},
   "outputs": [
    {
     "data": {
      "text/plain": [
       "({'Jan 2018': 1000},\n",
       " {'Feb 2018': 1100},\n",
       " {'Mar 2018': 1400},\n",
       " {'Apr 2018': 700},\n",
       " {'May 2018': 800},\n",
       " {'Jun 2018': 500})"
      ]
     },
     "execution_count": 9,
     "metadata": {},
     "output_type": "execute_result"
    }
   ],
   "source": [
    "data = ({\"Jan 2018\":1000},{\"Feb 2018\":1100},{\"Mar 2018\":1400},{\"Apr 2018\":700},{\"May 2018\":800},{\"Jun 2018\":500})\n",
    "data"
   ]
  },
  {
   "cell_type": "code",
   "execution_count": 10,
   "metadata": {},
   "outputs": [],
   "source": [
    "\n",
    "# 3) Your code here\n",
    "\n",
    "# all the imports\n",
    "import pandas as pd\n",
    "import numpy as np\n",
    "import matplotlib.pyplot as plt\n",
    "import seaborn as sns\n",
    "import datetime\n"
   ]
  },
  {
   "cell_type": "code",
   "execution_count": 11,
   "metadata": {},
   "outputs": [],
   "source": [
    "\n",
    "# 3) Your code here\n",
    "\n",
    "# load data\n",
    "''' load an (ordered) tuple of dictionaries and return a dataframe '''\n",
    "# set the empty dataframe\n",
    "# columns for date, start balance, and return\n",
    "df = pd.DataFrame(columns=['date', 'start_balance', 'return'])    \n",
    "beginning_value = None\n",
    "length = len(data)\n",
    "\n",
    "# loop the tuple data and save required info to dataframe\n",
    "for index in range(length):         \n",
    "    \n",
    "    # get mo year \n",
    "    month_year = list(data[index].keys())[0]\n",
    "    \n",
    "    # get invested amount using value \n",
    "    amount = data[index][month_year]    \n",
    "    \n",
    "    # prime the initial value\n",
    "    if beginning_value == None:\n",
    "        beginning_value = amount\n",
    "        \n",
    "    # calculate the compound annual growth rate (CAGR)\n",
    "    # CAGR = (EV/BV) - 1 * 100\n",
    "    # where:\n",
    "    # EV = ending value\n",
    "    # BV = beginning value\n",
    "    # calculate as a fraction\n",
    "    cagr = (amount / beginning_value) - 1 \n",
    "    \n",
    "    # save to dataframe\n",
    "    df.loc[index] = [month_year, amount, cagr]\n",
    "    \n",
    "    # set cagr to new value\n",
    "    beginning_value = amount\n"
   ]
  },
  {
   "cell_type": "code",
   "execution_count": 12,
   "metadata": {},
   "outputs": [
    {
     "name": "stdout",
     "output_type": "stream",
     "text": [
      "<class 'pandas.core.frame.DataFrame'>\n",
      "       date start_balance    return\n",
      "0  Jan 2018          1000  0.000000\n",
      "1  Feb 2018          1100  0.100000\n",
      "2  Mar 2018          1400  0.272727\n",
      "3  Apr 2018           700 -0.500000\n",
      "4  May 2018           800  0.142857\n",
      "5  Jun 2018           500 -0.375000\n"
     ]
    }
   ],
   "source": [
    "# 3) Your code here\n",
    "\n",
    "# output data in required format\n",
    "''' output a table/dataframe comprising a row for each month with columns for date, start balance, and return. '''\n",
    "print(type(df))\n",
    "print(df)"
   ]
  },
  {
   "cell_type": "code",
   "execution_count": 13,
   "metadata": {},
   "outputs": [
    {
     "name": "stdout",
     "output_type": "stream",
     "text": [
      "<class 'pandas.core.frame.DataFrame'>\n",
      "       date start_balance    return\n",
      "0  Jan 2018          1000  0.000000\n",
      "1  Feb 2018          1100  0.100000\n",
      "2  Mar 2018          1400  0.272727\n",
      "3  Apr 2018           700 -0.500000\n",
      "4  May 2018           800  0.142857\n",
      "5  Jun 2018           500 -0.375000\n"
     ]
    },
    {
     "data": {
      "image/png": "[encoded data removed]",
      "text/plain": [
       "<Figure size 432x288 with 1 Axes>"
      ]
     },
     "metadata": {
      "needs_background": "light"
     },
     "output_type": "display_data"
    },
    {
     "data": {
      "image/png": "[encoded data removed]",
      "text/plain": [
       "<Figure size 432x288 with 1 Axes>"
      ]
     },
     "metadata": {
      "needs_background": "light"
     },
     "output_type": "display_data"
    },
    {
     "data": {
      "text/plain": [
       "<AxesSubplot:>"
      ]
     },
     "execution_count": 13,
     "metadata": {},
     "output_type": "execute_result"
    },
    {
     "data": {
      "image/png": "[encoded data removed]",
      "text/plain": [
       "<Figure size 432x288 with 1 Axes>"
      ]
     },
     "metadata": {
      "needs_background": "light"
     },
     "output_type": "display_data"
    }
   ],
   "source": [
    "# 3) Your code here\n",
    "\n",
    "# visualize data\n",
    "''' visualize the record as two vertically arranged plots '''\n",
    "'''  TODO\n",
    "    - The top plot should show a line plot of start balance vs. month\n",
    "    - The bottom plot should show a bar plot of return vs. month, with a black horizontal line at return=0, and bars color-coded such that \n",
    "        positive returns are green and negative returns are red.  \n",
    "    - The two plots' horizontal axes should align. Demonstrate that your code works by applying it to `data`.\n",
    "'''\n",
    "print(type(df))\n",
    "print(df)\n",
    "\n",
    "# The top plot should show a line plot of start balance vs. month\n",
    "plt.plot(df['date'], df['start_balance'])\n",
    "plt.show()\n",
    "\n",
    "# The bottom plot should show a bar plot of return vs. month\n",
    "sns.barplot(x='date', y='return', data=df)\n",
    "plt.show()\n",
    "\n",
    "# The bottom plot should show a bar plot of return vs. month with a black horizontal line at return=0, and bars color-coded such that \n",
    "# positive returns are green and negative returns are red.  \n",
    "df['return'].plot(kind='bar',\n",
    "                    color=(df['return'] > 0).map({True: 'g',\n",
    "                                                    False: 'r'}))\n",
    "\n"
   ]
  },
  {
   "cell_type": "markdown",
   "metadata": {},
   "source": [
    "## 4: Clinical disease data (40 pts)\n",
    "\n",
    "Your boss comes to you Monday morning and says “I figured out our next step; we are going to pivot from an online craft store and become a data center for genetic disease information! I found **ClinVar** which is a repository that contains expert curated data, and it is free for the taking. This is a gold mine! Look at the file and tell me what gene and mutation combinations are classified as dangerous.”\n",
    "\n",
    "Make sure that you only give your boss the dangerous mutations and include:\n",
    "\n",
    "1) Gene name\n",
    "\n",
    "2) Mutation ID number\n",
    "\n",
    "3) Mutation Position (chromosome & position)\n",
    "\n",
    "4) Mutation value (reference & alternate bases)\n",
    "\n",
    "5) Clinical significance (CLNSIG)\n",
    "\n",
    "6) Disease that is implicated\n",
    "\n",
    "**Requirements**\n",
    "\n",
    "1) The deliverables are the final result as a dataframe with a short discussion of any specifics. (that is, what data you would present to your boss with the explanation of your results)\n",
    "\n",
    "2) Limit your output to the first 100 harmful mutations and tell your boss how many total harmful mutations were found in the file\n",
    "\n",
    "3) Use the instructor-modified \"clinvar_final.txt\" at this link: https://drive.google.com/file/d/1Zps0YssoJbZHrn6iLte2RDLlgruhAX1s/view?usp=sharing This file was modified to be not exactly the same as 'standard' .vcf file to test your data parsing skills. **This is a large file so do NOT upload it into your github repo!**\n",
    "\n",
    "4) Replace missing values in the dataframe with: 'Not_Given'. Print or display this (including the Not_Given count) for the column `CLNSIG` by using pandas value_counts() function (https://pandas.pydata.org/docs/reference/api/pandas.Series.value_counts.html).\n",
    "\n",
    "5) State in your answer how you define harmful mutations\n",
    "\n",
    "**6) Do your best on getting to above requirements and submit whatever you do before the deadline. If your work is incomplete be sure to describe the blockers that got in your way and how you might get past them (if given more time).**\n",
    "\n",
    "7) You can use as many code blocks as you need. Please clean-up your code and make it readable for the graders!\n",
    "\n",
    "**Hints** \n",
    "* We do not expect you to have any medical knowledge to solve this problem; look at the data, read the documentation provided, and write down your assumptions!\n",
    "\n",
    "* Correct pseudocode will give you partial credit so start with that. \n",
    "\n",
    "* Map out which fields you want to extract: Are they in the same place every time? What strategy will you use to robustly extract and filter your data of interest? How do you plan to handle missing data?\n",
    "\n",
    "* A good way to start is to print out each line, then practice parsing them to see if you can recover the fields of interest\n",
    "\n",
    "* A starting solution for parsing .vcfs can be found here: https://gist.github.com/dceoy/99d976a2c01e7f0ba1c813778f9db744 This solution does **NOT** work due to the changes we've made but can be modified to work. As with any solution that needs modifications, it may take less time to make your own solution!\n",
    "\n",
    "* Filter out junk and lines with no mutation data. Just focus on the data your need to deliver to your boss. \n",
    "\n",
    "* Pandas and NumPy parsers correctly recognize the end of each line in in the ClinVar file.\n",
    "\n",
    "* The unit of observation of this dataset is one row per mutation.\n",
    "\n",
    "* This is similar to a task that one of us tackled at work. You can answer the question with the information provided below or using the (partial) data dictionary file at this link: https://drive.google.com/file/d/1lx9yHdlcqmU_OlHiTUXKC_LQDqYBypH_/view?usp=sharing. Our goal is to see that you can put together a sensible plan, implement a solid parsing strategy, and document and justify the decisions that you made."
   ]
  },
  {
   "cell_type": "markdown",
   "metadata": {
    "collapsed": true
   },
   "source": [
    "### VCF file description (Summarized from version 4.1)\n",
    "\n",
    "```\n",
    "* The VCF specification:\n",
    "\n",
    "VCF is a text file format which contains meta-information lines, a header line, and then data lines each containing information \n",
    "about a position in the genome. The format also can contain genotype information on samples for each position.\n",
    "\n",
    "* Fixed fields:\n",
    "\n",
    "There are 8 fixed fields per record. All data lines are **tab-delimited**. In all cases, missing values are specified with a dot (‘.’). \n",
    "\n",
    "1. CHROM - chromosome number\n",
    "2. POS - position DNA nuceleotide count (bases) along the chromosome\n",
    "3. ID - The unique identifier for each mutation\n",
    "4. REF - reference base(s)\n",
    "5. ALT - alternate base(s)\n",
    "6. FILTER - filter status\n",
    "7. QUAL - quality\n",
    "8. INFO - a semicolon-separated series of keys with values in the format: <key>=<data>\n",
    "\n",
    "```\n",
    "### Applicable INFO field specifications\n",
    "\n",
    "```\n",
    "GENEINFO = <Gene name>\n",
    "CLNSIG =  <Clinical significance>\n",
    "CLNDN = <Disease name>\n",
    "```\n",
    "\n",
    "### Sample ClinVar data (vcf file format - not exactly the same as the file to download!)\n",
    "\n",
    "```\n",
    "##fileformat=VCFv4.1\n",
    "##fileDate=2019-03-19\n",
    "##source=ClinVar\n",
    "##reference=GRCh38\t\t\t\t\t\t\t\n",
    "#CHROM\tPOS\tID\tREF\tALT\tQUAL\tFILTER\tINFO\n",
    "1\t949523\trs786201005\tC\tT\t.\t.\tGENEINFO=ISG15;CLNSIG=5\n",
    "1\t949696\trs672601345\tC\tCG\t.\t.\tGENEINFO=ISG15;CLNSIG=5;CLNDN=Cancer\n",
    "1\t949739\trs672601312\tG\tT\t.\t.\tGENEINFO=ISG15;CLNDBN=Cancer\n",
    "1\t955597\trs115173026\tG\tT\t.\t.\tGENEINFO=AGRN;CLNSIG=2; CLNDN=Cancer\n",
    "1\t955619\trs201073369\tG\tC\t.\t.\tGENEINFO=AGG;CLNDN=Heart_dis \n",
    "1\t957640\trs6657048\tC\tT\t.\t.\tGENEINFO=AGG;CLNSIG=3;CLNDN=Heart_dis \n",
    "1\t976059\trs544749044\tC\tT\t.\t.\tGENEINFO=AGG;CLNSIG=0;CLNDN=Heart_dis \n",
    "```"
   ]
  },
  {
   "cell_type": "markdown",
   "metadata": {},
   "source": [
    "# import all the required libraries"
   ]
  },
  {
   "cell_type": "code",
   "execution_count": 14,
   "metadata": {},
   "outputs": [],
   "source": [
    "# 4) Your code here - can use as many code blocks as you would like\n",
    "\n",
    "import io\n",
    "import os\n",
    "import pandas as pd\n",
    "from collections import OrderedDict\n",
    "import json\n",
    "import re\n"
   ]
  },
  {
   "cell_type": "code",
   "execution_count": 15,
   "metadata": {},
   "outputs": [
    {
     "data": {
      "text/html": [
       "<div>\n",
       "<style scoped>\n",
       "    .dataframe tbody tr th:only-of-type {\n",
       "        vertical-align: middle;\n",
       "    }\n",
       "\n",
       "    .dataframe tbody tr th {\n",
       "        vertical-align: top;\n",
       "    }\n",
       "\n",
       "    .dataframe thead th {\n",
       "        text-align: right;\n",
       "    }\n",
       "</style>\n",
       "<table border=\"1\" class=\"dataframe\">\n",
       "  <thead>\n",
       "    <tr style=\"text-align: right;\">\n",
       "      <th></th>\n",
       "      <th>CHROM</th>\n",
       "      <th>POS</th>\n",
       "      <th>ID</th>\n",
       "      <th>REF</th>\n",
       "      <th>ALT</th>\n",
       "      <th>FILTER</th>\n",
       "      <th>QUAL</th>\n",
       "      <th>INFO</th>\n",
       "    </tr>\n",
       "  </thead>\n",
       "  <tbody>\n",
       "    <tr>\n",
       "      <th>1</th>\n",
       "      <td>1</td>\n",
       "      <td>1014O42</td>\n",
       "      <td>475283</td>\n",
       "      <td>G</td>\n",
       "      <td>A</td>\n",
       "      <td>.</td>\n",
       "      <td>.</td>\n",
       "      <td>AF_ESP=0.00546;AF_EXAC=0.00165;AF_TGP=0.00619;...</td>\n",
       "    </tr>\n",
       "    <tr>\n",
       "      <th>2</th>\n",
       "      <td>1</td>\n",
       "      <td>1O14122</td>\n",
       "      <td>542074</td>\n",
       "      <td>C</td>\n",
       "      <td>T</td>\n",
       "      <td>.</td>\n",
       "      <td>.</td>\n",
       "      <td>AF_ESP=0.00015;AF_EXAC=0.00010;ALLELEID=514926...</td>\n",
       "    </tr>\n",
       "    <tr>\n",
       "      <th>3</th>\n",
       "      <td>1</td>\n",
       "      <td>1014143</td>\n",
       "      <td>183381</td>\n",
       "      <td>C</td>\n",
       "      <td>T</td>\n",
       "      <td>.</td>\n",
       "      <td>.</td>\n",
       "      <td>ALLELEID=181485;CLNDISDB=MedGen:C4015293,OMIM:...</td>\n",
       "    </tr>\n",
       "    <tr>\n",
       "      <th>4</th>\n",
       "      <td>1</td>\n",
       "      <td>1014179</td>\n",
       "      <td>542075</td>\n",
       "      <td>C</td>\n",
       "      <td>T</td>\n",
       "      <td>.</td>\n",
       "      <td>.</td>\n",
       "      <td>ALLELEID=514896;CLNDISDB=MedGen:C4015293,OMIM:...</td>\n",
       "    </tr>\n",
       "    <tr>\n",
       "      <th>5</th>\n",
       "      <td>1</td>\n",
       "      <td>1014217</td>\n",
       "      <td>475278</td>\n",
       "      <td>C</td>\n",
       "      <td>T</td>\n",
       "      <td>.</td>\n",
       "      <td>.</td>\n",
       "      <td>AF_ESP=0.00515;AF_EXAC=0.00831;AF_TGP=0.00339;...</td>\n",
       "    </tr>\n",
       "  </tbody>\n",
       "</table>\n",
       "</div>"
      ],
      "text/plain": [
       "0 CHROM      POS      ID REF ALT FILTER QUAL  \\\n",
       "1     1  1014O42  475283   G   A      .    .   \n",
       "2     1  1O14122  542074   C   T      .    .   \n",
       "3     1  1014143  183381   C   T      .    .   \n",
       "4     1  1014179  542075   C   T      .    .   \n",
       "5     1  1014217  475278   C   T      .    .   \n",
       "\n",
       "0                                               INFO  \n",
       "1  AF_ESP=0.00546;AF_EXAC=0.00165;AF_TGP=0.00619;...  \n",
       "2  AF_ESP=0.00015;AF_EXAC=0.00010;ALLELEID=514926...  \n",
       "3  ALLELEID=181485;CLNDISDB=MedGen:C4015293,OMIM:...  \n",
       "4  ALLELEID=514896;CLNDISDB=MedGen:C4015293,OMIM:...  \n",
       "5  AF_ESP=0.00515;AF_EXAC=0.00831;AF_TGP=0.00339;...  "
      ]
     },
     "execution_count": 15,
     "metadata": {},
     "output_type": "execute_result"
    }
   ],
   "source": [
    "# 4) Your code here - can use as many code blocks as you would like\n",
    "\n",
    "# load data\n",
    "import io\n",
    "import os\n",
    "import pandas as pd\n",
    "\n",
    "path = 'F:/code/uc berkeley/mids-w200-fall21-Victor-RamirezREPO/submissions/final_exam/clinvar_final.txt'\n",
    "\n",
    "vcf_dict = []\n",
    "\n",
    "with open(path, 'r') as invcf:\n",
    "    \n",
    "    for line in invcf:\n",
    "    \n",
    "        if line.startswith('#'):\n",
    "            continue\n",
    "    \n",
    "        line = line.strip().split()            \n",
    "        '''\n",
    "        line[0], # CHROM\n",
    "        line[1], # POS\n",
    "        line[2], # ID\n",
    "        line[3], # REF\n",
    "        line[4], # ALT\n",
    "        line[5], # FILTER\n",
    "        line[6], # QUAL\n",
    "        line[7]  # INFO\n",
    "        ''' \n",
    "        vcf_dict.append((line[0], line[1], line[2], line[3], line[4], line[5], line[6], line[7]))\n",
    "    \n",
    "\n",
    "# create a pnadas dataframe\n",
    "vcf_df = pd.DataFrame.from_dict(vcf_dict)        \n",
    "\n",
    "# set first row to columns\n",
    "vcf_df.columns = vcf_df.iloc[0]\n",
    "\n",
    "# remove first row of dataframe\n",
    "# df.iloc[row_start:row_end , col_start, col_end]\n",
    "vcf_df = vcf_df.iloc[1: , :]\n",
    "\n",
    "vcf_df.head()\n",
    "            "
   ]
  },
  {
   "cell_type": "markdown",
   "metadata": {},
   "source": [
    "## load the VCF data from the given file"
   ]
  },
  {
   "cell_type": "markdown",
   "metadata": {},
   "source": [
    "## clean VCF data\n",
    "### Assumptions\n",
    "    - That any value of '.' will be treated as data / value not given. "
   ]
  },
  {
   "cell_type": "code",
   "execution_count": 16,
   "metadata": {},
   "outputs": [
    {
     "name": "stderr",
     "output_type": "stream",
     "text": [
      "<ipython-input-16-fc6004a2ed54>:12: FutureWarning: The default value of regex will change from True to False in a future version. In addition, single character regular expressions will*not* be treated as literal strings when regex=True.\n",
      "  vcf_df['FILTER'] = vcf_df['FILTER'].str.replace(\".\",\"Not_Given\")\n",
      "<ipython-input-16-fc6004a2ed54>:13: FutureWarning: The default value of regex will change from True to False in a future version. In addition, single character regular expressions will*not* be treated as literal strings when regex=True.\n",
      "  vcf_df['QUAL'] = vcf_df['QUAL'].str.replace(\".\",\"Not_Given\")\n"
     ]
    },
    {
     "data": {
      "text/html": [
       "<div>\n",
       "<style scoped>\n",
       "    .dataframe tbody tr th:only-of-type {\n",
       "        vertical-align: middle;\n",
       "    }\n",
       "\n",
       "    .dataframe tbody tr th {\n",
       "        vertical-align: top;\n",
       "    }\n",
       "\n",
       "    .dataframe thead th {\n",
       "        text-align: right;\n",
       "    }\n",
       "</style>\n",
       "<table border=\"1\" class=\"dataframe\">\n",
       "  <thead>\n",
       "    <tr style=\"text-align: right;\">\n",
       "      <th></th>\n",
       "      <th>CHROM</th>\n",
       "      <th>POS</th>\n",
       "      <th>ID</th>\n",
       "      <th>REF</th>\n",
       "      <th>ALT</th>\n",
       "      <th>FILTER</th>\n",
       "      <th>QUAL</th>\n",
       "      <th>INFO</th>\n",
       "    </tr>\n",
       "  </thead>\n",
       "  <tbody>\n",
       "    <tr>\n",
       "      <th>1</th>\n",
       "      <td>1</td>\n",
       "      <td>1014O42</td>\n",
       "      <td>475283</td>\n",
       "      <td>G</td>\n",
       "      <td>A</td>\n",
       "      <td>Not_Given</td>\n",
       "      <td>Not_Given</td>\n",
       "      <td>AF_ESP=0.00546;AF_EXAC=0.00165;AF_TGP=0.00619;...</td>\n",
       "    </tr>\n",
       "    <tr>\n",
       "      <th>2</th>\n",
       "      <td>1</td>\n",
       "      <td>1O14122</td>\n",
       "      <td>542074</td>\n",
       "      <td>C</td>\n",
       "      <td>T</td>\n",
       "      <td>Not_Given</td>\n",
       "      <td>Not_Given</td>\n",
       "      <td>AF_ESP=0.00015;AF_EXAC=0.00010;ALLELEID=514926...</td>\n",
       "    </tr>\n",
       "    <tr>\n",
       "      <th>3</th>\n",
       "      <td>1</td>\n",
       "      <td>1014143</td>\n",
       "      <td>183381</td>\n",
       "      <td>C</td>\n",
       "      <td>T</td>\n",
       "      <td>Not_Given</td>\n",
       "      <td>Not_Given</td>\n",
       "      <td>ALLELEID=181485;CLNDISDB=MedGen:C4015293,OMIM:...</td>\n",
       "    </tr>\n",
       "    <tr>\n",
       "      <th>4</th>\n",
       "      <td>1</td>\n",
       "      <td>1014179</td>\n",
       "      <td>542075</td>\n",
       "      <td>C</td>\n",
       "      <td>T</td>\n",
       "      <td>Not_Given</td>\n",
       "      <td>Not_Given</td>\n",
       "      <td>ALLELEID=514896;CLNDISDB=MedGen:C4015293,OMIM:...</td>\n",
       "    </tr>\n",
       "    <tr>\n",
       "      <th>5</th>\n",
       "      <td>1</td>\n",
       "      <td>1014217</td>\n",
       "      <td>475278</td>\n",
       "      <td>C</td>\n",
       "      <td>T</td>\n",
       "      <td>Not_Given</td>\n",
       "      <td>Not_Given</td>\n",
       "      <td>AF_ESP=0.00515;AF_EXAC=0.00831;AF_TGP=0.00339;...</td>\n",
       "    </tr>\n",
       "  </tbody>\n",
       "</table>\n",
       "</div>"
      ],
      "text/plain": [
       "0 CHROM      POS      ID REF ALT     FILTER       QUAL  \\\n",
       "1     1  1014O42  475283   G   A  Not_Given  Not_Given   \n",
       "2     1  1O14122  542074   C   T  Not_Given  Not_Given   \n",
       "3     1  1014143  183381   C   T  Not_Given  Not_Given   \n",
       "4     1  1014179  542075   C   T  Not_Given  Not_Given   \n",
       "5     1  1014217  475278   C   T  Not_Given  Not_Given   \n",
       "\n",
       "0                                               INFO  \n",
       "1  AF_ESP=0.00546;AF_EXAC=0.00165;AF_TGP=0.00619;...  \n",
       "2  AF_ESP=0.00015;AF_EXAC=0.00010;ALLELEID=514926...  \n",
       "3  ALLELEID=181485;CLNDISDB=MedGen:C4015293,OMIM:...  \n",
       "4  ALLELEID=514896;CLNDISDB=MedGen:C4015293,OMIM:...  \n",
       "5  AF_ESP=0.00515;AF_EXAC=0.00831;AF_TGP=0.00339;...  "
      ]
     },
     "execution_count": 16,
     "metadata": {},
     "output_type": "execute_result"
    }
   ],
   "source": [
    "'''\n",
    "Make sure that you only give your boss the dangerous mutations and include:\n",
    "1) Gene name\n",
    "2) Mutation ID number\n",
    "3) Mutation Position (chromosome & position)\n",
    "4) Mutation value (reference & alternate bases)\n",
    "5) Clinical significance (CLNSIG)\n",
    "6) Disease that is implicated\n",
    "'''\n",
    "\n",
    "# replace all the missing data with 'Not_Given'\n",
    "vcf_df['FILTER'] = vcf_df['FILTER'].str.replace(\".\",\"Not_Given\")\n",
    "vcf_df['QUAL'] = vcf_df['QUAL'].str.replace(\".\",\"Not_Given\")\n",
    "\n",
    "vcf_df.head()\n"
   ]
  },
  {
   "cell_type": "markdown",
   "metadata": {},
   "source": [
    "### Display a value count of all the cols in the dataframe"
   ]
  },
  {
   "cell_type": "code",
   "execution_count": 17,
   "metadata": {},
   "outputs": [
    {
     "name": "stdout",
     "output_type": "stream",
     "text": [
      "Col CHROM value counts\n",
      "2    49826\n",
      "1    32381\n",
      "3    20114\n",
      "Name: CHROM, dtype: int64\n",
      "Col POS value counts\n",
      "37025629     31\n",
      "73385903     13\n",
      "149172318    13\n",
      "92478757     11\n",
      "178713381    11\n",
      "             ..\n",
      "46193873      1\n",
      "73408754      1\n",
      "178545677     1\n",
      "201089345     1\n",
      "47804938      1\n",
      "Name: POS, Length: 95548, dtype: int64\n",
      "Col ID value counts\n",
      "160063    1\n",
      "552154    1\n",
      "581905    1\n",
      "12553     1\n",
      "167451    1\n",
      "         ..\n",
      "239408    1\n",
      "219768    1\n",
      "67639     1\n",
      "345592    1\n",
      "566254    1\n",
      "Name: ID, Length: 102321, dtype: int64\n",
      "Col REF value counts\n",
      "C                                   31467\n",
      "G                                   31182\n",
      "T                                   16032\n",
      "A                                   15944\n",
      "CT                                    371\n",
      "                                    ...  \n",
      "CAGTAAGGCACATGG                         1\n",
      "CCGTCGCCGGAGTCCAGCA                     1\n",
      "GGCCGGAAAGCGGCTGCCAAGCCTTGGCCTCC        1\n",
      "GATTAAGGAATTATAGACTGACTAC               1\n",
      "GGTAAAAAACCT                            1\n",
      "Name: REF, Length: 2032, dtype: int64\n",
      "Col ALT value counts\n",
      "T                          30115\n",
      "A                          29405\n",
      "C                          19413\n",
      "G                          19070\n",
      "TA                           292\n",
      "                           ...  \n",
      "TGGAGGAGGA                     1\n",
      "TGCTAATCTCCC                   1\n",
      "GTGGGGCCGCTGCTCTTCCCCGC        1\n",
      "CCTGCTGCCG                     1\n",
      "GGGTC                          1\n",
      "Name: ALT, Length: 1196, dtype: int64\n",
      "Col FILTER value counts\n",
      "Not_Given    102321\n",
      "Name: FILTER, dtype: int64\n",
      "Col QUAL value counts\n",
      "Not_Given    102321\n",
      "Name: QUAL, dtype: int64\n",
      "Col INFO value counts\n",
      "ALLELEID=32251;CLNDISDB=MedGen:C0268338,OMIM:130050,Orphanet:ORPHA286,SNOMED_CT:17025000;CLNDN=Ehlers-Danlos_syndrome,_type_4;CLNHGVS=NC_000002.12:g.188996501G>T;CLNREVSTAT=no_assertion_criteria_provided;CLNSIG=Pathogenic;CLNVC=single_nucleotide_variant;CLNVCSO=SO:0001483;CLNVI=OMIM_Allelic_Variant:120180.0011;GENEINFO=COL3A1:1281;MC=SO:0001627|intron_variant;ORIGIN=1;RS=397509372                                                                                                                                                                                                                                   1\n",
      "ALLELEID=414150;CLNDISDB=MedGen:C4552070,OMIM:178600,SNOMED_CT:26174007;CLNDN=Primary_pulmonary_hypertension;CLNHGVS=NC_000002.12:g.202467620T>C;CLNREVSTAT=no_assertion_criteria_provided;CLNSIG=Pathogenic;CLNVC=single_nucleotide_variant;CLNVCSO=SO:0001483;GENEINFO=BMPR2:659;MC=SO:0001583|missense_variant;ORIGIN=1;RS=1085307214                                                                                                                                                                                                                                                                                          1\n",
      "AF_ESP=0.04195;AF_EXAC=0.03916;AF_TGP=0.02256;ALLELEID=542074;CLNDISDB=MedGen:C1850889,OMIM:253601,Orphanet:ORPHA268;CLNDN=Limb-girdle_muscular_dystrophy,_type_2B;CLNHGVS=NC_000002.12:g.71574208_71574219dup;CLNREVSTAT=criteria_provided,_single_submitter;CLNSIG=Uncertain_significance;CLNVC=Duplication;CLNVCSO=SO:1000035;GENEINFO=DYSF:8291;ORIGIN=0;RS=398123779                                                                                                                                                                                                                                                         1\n",
      "AF_ESP=0.00008;AF_EXAC=0.00001;ALLELEID=201237;CLNDISDB=MedGen:CN169374;CLNDN=not_specified;CLNHGVS=NC_000002.12:g.148489771G>A;CLNREVSTAT=criteria_provided,_single_submitter;CLNSIG=Uncertain_significance;CLNVC=single_nucleotide_variant;CLNVCSO=SO:0001483;GENEINFO=MBD5:55777;MC=SO:0001583|missense_variant;ORIGIN=1;RS=368605084                                                                                                                                                                                                                                                                                          1\n",
      "AF_ESP=0.29994;AF_TGP=0.29693;ALLELEID=282254;CLNDISDB=MedGen:CN239466;CLNDN=Retinitis_Pigmentosa,_Recessive;CLNHGVS=NC_000002.12:g.112019402C>A;CLNREVSTAT=criteria_provided,_single_submitter;CLNSIG=Likely_benign;CLNVC=single_nucleotide_variant;CLNVCSO=SO:0001483;CLNVI=Illumina_Clinical_Services_Laboratory,Illumina:25659;GENEINFO=MERTK:10461;MC=SO:0001627|intron_variant;ORIGIN=1;RS=3811640                                                                                                                                                                                                                          1\n",
      "                                                                                                                                                                                                                                                                                                                                                                                                                                                                                                                                                                                                                                 ..\n",
      "ALLELEID=366561;CLNDISDB=MedGen:CN169374;CLNDN=not_specified;CLNHGVS=NC_000002.12:g.47801166G>A;CLNREVSTAT=criteria_provided,_single_submitter;CLNSIG=Likely_benign;CLNVC=single_nucleotide_variant;CLNVCSO=SO:0001483;GENEINFO=MSH6:2956;MC=SO:0001627|intron_variant;ORIGIN=1;RS=1057523866                                                                                                                                                                                                                                                                                                                                     1\n",
      "AF_ESP=0.00115;AF_EXAC=0.00295;AF_TGP=0.00140;ALLELEID=276933;CLNDISDB=MedGen:C2751532,OMIM:605911,Orphanet:ORPHA35701|MedGen:CN169374;CLNDN=mitochondrial_3-hydroxy-3-methylglutaryl-CoA_synthase_deficiency|not_specified;CLNHGVS=NC_000001.11:g.119764461C>T;CLNREVSTAT=criteria_provided,_conflicting_interpretations;CLNSIG=Conflicting_interpretations_of_pathogenicity;CLNSIGCONF=Likely_benign(1)%3BUncertain_significance(1);CLNVC=single_nucleotide_variant;CLNVCSO=SO:0001483;CLNVI=Illumina_Clinical_Services_Laboratory,Illumina:95935;GENEINFO=HMGCS2:3158;MC=SO:0001819|synonymous_variant;ORIGIN=1;RS=41302817    1\n",
      "AF_EXAC=0.00001;ALLELEID=226302;CLNDISDB=MedGen:C0009405,Orphanet:ORPHA443090|MedGen:C0027672,SNOMED_CT:699346009|MedGen:C1333990,Orphanet:ORPHA144,SNOMED_CT:315058005|MedGen:CN169374;CLNDN=Hereditary_nonpolyposis_colon_cancer|Hereditary_cancer-predisposing_syndrome|Lynch_syndrome|not_specified;CLNHGVS=NC_000002.12:g.47799167C>T;CLNREVSTAT=criteria_provided,_multiple_submitters,_no_conflicts;CLNSIG=Uncertain_significance;CLNVC=single_nucleotide_variant;CLNVCSO=SO:0001483;GENEINFO=MSH6:2956;MC=SO:0001583|missense_variant;ORIGIN=1;RS=767658494                                                               1\n",
      "ALLELEID=499995;CLNDISDB=MedGen:CN169374;CLNDN=not_specified;CLNHGVS=NC_000002.12:g.47783200C>G;CLNREVSTAT=criteria_provided,_single_submitter;CLNSIG=Likely_benign;CLNVC=single_nucleotide_variant;CLNVCSO=SO:0001483;GENEINFO=MSH6:2956;ORIGIN=1;RS=771435695                                                                                                                                                                                                                                                                                                                                                                   1\n",
      "ALLELEID=511450;CLNDISDB=MeSH:D030342,MedGen:C0950123;CLNDN=Inborn_genetic_diseases;CLNHGVS=NC_000003.12:g.122257279C>A;CLNREVSTAT=criteria_provided,_single_submitter;CLNSIG=Pathogenic;CLNVC=single_nucleotide_variant;CLNVCSO=SO:0001483;GENEINFO=CASR:846;MC=SO:0001583|missense_variant;ORIGIN=1;RS=1553766262                                                                                                                                                                                                                                                                                                               1\n",
      "Name: INFO, Length: 102321, dtype: int64\n"
     ]
    }
   ],
   "source": [
    "\n",
    "# print('dataframe total Col value counts')\n",
    "# print(vcf_df.count())\n",
    "\n",
    "print('Col CHROM value counts')\n",
    "print(vcf_df['CHROM'].value_counts())\n",
    "\n",
    "print('Col POS value counts')\n",
    "print(vcf_df['POS'].value_counts())\n",
    "\n",
    "print('Col ID value counts')\n",
    "print(vcf_df['ID'].value_counts())\n",
    "\n",
    "print('Col REF value counts')\n",
    "print(vcf_df['REF'].value_counts())\n",
    "\n",
    "print('Col ALT value counts')\n",
    "print(vcf_df['ALT'].value_counts())\n",
    "\n",
    "print('Col FILTER value counts')\n",
    "print(vcf_df['FILTER'].value_counts())\n",
    "\n",
    "print('Col QUAL value counts')\n",
    "print(vcf_df['QUAL'].value_counts())\n",
    "\n",
    "print('Col INFO value counts')\n",
    "print(vcf_df['INFO'].value_counts())\n"
   ]
  },
  {
   "cell_type": "markdown",
   "metadata": {},
   "source": [
    "## Standardize the INFO column to contain only the applicable data:\n",
    "-\tGENEINO\n",
    "-\tCLNSIG\n",
    "-\tCLNDN"
   ]
  },
  {
   "cell_type": "code",
   "execution_count": 18,
   "metadata": {},
   "outputs": [],
   "source": [
    "\n",
    "\n",
    "def update_info(info):   \n",
    "    '''\n",
    "        Update the info col to:\n",
    "        GENEINFO = <Gene name>\n",
    "        CLNSIG =  <Clinical significance>\n",
    "        CLNDN = <Disease name>\n",
    "    '''\n",
    "    \n",
    "    # print(type(info))\n",
    "    \n",
    "    info_split = info.split(';')\n",
    "    # print(info_split)\n",
    "    # print(type(info_split))\n",
    "    # print(len(info_split))\n",
    "    \n",
    "    geneinfo = ''\n",
    "    clnsig = ''\n",
    "    clndn = ''    \n",
    "    \n",
    "    for item in info_split:\n",
    "        \n",
    "        if item.startswith('GENEINFO'): \n",
    "            geneinfo = item\n",
    "            # print('geneinfo', geneinfo)\n",
    "            \n",
    "        if item.startswith('CLNSIG'): \n",
    "            clnsig = item          \n",
    "            # print('clnsig', clnsig)\n",
    "        \n",
    "        if item.startswith('CLNDN'): \n",
    "            clndn = item\n",
    "            # print('clndn', clndn)\n",
    "            \n",
    "    # GENEINFO=AGRN;CLNSIG=2; CLNDN=Cancer      \n",
    "    info = geneinfo + '; ' +  clnsig + '; ' + clndn\n",
    "    # print(info)\n",
    "    \n",
    "    return info\n",
    "    \n",
    "# apply the function to the col Cooling_System while adding the results to the cooling_type col\n",
    "vcf_df['INFO'] = vcf_df['INFO'].apply(update_info)\n",
    "# vcf_df.head(50)\n",
    "\n"
   ]
  },
  {
   "cell_type": "markdown",
   "metadata": {},
   "source": [
    "## Data INFO value counts"
   ]
  },
  {
   "cell_type": "code",
   "execution_count": 19,
   "metadata": {},
   "outputs": [
    {
     "data": {
      "text/plain": [
       "GENEINFO=TTN:7273|TTN-AS1:100506866; CLNSIG=Uncertain_significance; CLNDN=Limb-girdle_muscular_dystrophy,_type_2J|Dilated_cardiomyopathy_1G    1017\n",
       "GENEINFO=TTN:7273; CLNSIG=Uncertain_significance; CLNDN=Limb-girdle_muscular_dystrophy,_type_2J|Dilated_cardiomyopathy_1G                       840\n",
       "GENEINFO=TTN:7273|TTN-AS1:100506866; CLNSIG=Uncertain_significance;                                                                             769\n",
       "GENEINFO=TTN:7273; CLNSIG=Uncertain_significance;                                                                                               706\n",
       "GENEINFO=TTN:7273|TTN-AS1:100506866; CLNSIG=Uncertain_significance; CLNDN=not_specified                                                         619\n",
       "                                                                                                                                               ... \n",
       "GENEINFO=JAGN1:84522; CLNSIG=Likely_benign; CLNDN=Severe_congenital_neutropenia_6,_autosomal_recessive                                            1\n",
       "GENEINFO=PRICKLE2:166336; CLNSIG=Benign/Likely_benign; CLNDN=Progressive_myoclonic_epilepsy|not_specified|Epilepsy,_progressive_myoclonic_5       1\n",
       "GENEINFO=ZP4:57829; CLNSIG=Uncertain_significance; CLNDN=Malignant_tumor_of_prostate                                                              1\n",
       "GENEINFO=MLH1:4292; CLNSIG=Benign; CLNDN=Hereditary_nonpolyposis_colon_cancer|Lynch_syndrome_I|not_provided                                       1\n",
       "GENEINFO=MMACHC:25974; CLNSIG=Likely_pathogenic;                                                                                                  1\n",
       "Name: INFO, Length: 18704, dtype: int64"
      ]
     },
     "execution_count": 19,
     "metadata": {},
     "output_type": "execute_result"
    }
   ],
   "source": [
    "\n",
    "# display all the INFO col vaule counts\n",
    "vcf_df['INFO'].value_counts()\n",
    "\n",
    "# print(vcf_df.head())"
   ]
  },
  {
   "cell_type": "markdown",
   "metadata": {},
   "source": [
    "## Filter the data based on the dangerous classification"
   ]
  },
  {
   "cell_type": "code",
   "execution_count": 20,
   "metadata": {},
   "outputs": [
    {
     "name": "stdout",
     "output_type": "stream",
     "text": [
      "filtered the data frame based on classification:\n",
      "<class 'pandas.core.frame.DataFrame'>\n",
      "Int64Index: 13704 entries, 3 to 102308\n",
      "Data columns (total 8 columns):\n",
      " #   Column  Non-Null Count  Dtype \n",
      "---  ------  --------------  ----- \n",
      " 0   CHROM   13704 non-null  object\n",
      " 1   POS     13704 non-null  object\n",
      " 2   ID      13704 non-null  object\n",
      " 3   REF     13704 non-null  object\n",
      " 4   ALT     13704 non-null  object\n",
      " 5   FILTER  13704 non-null  object\n",
      " 6   QUAL    13704 non-null  object\n",
      " 7   INFO    13704 non-null  object\n",
      "dtypes: object(8)\n",
      "memory usage: 535.3+ KB\n",
      "None\n",
      "total pathogenic rows found =  13704\n",
      "0    CHROM      POS      ID REF     ALT     FILTER       QUAL  \\\n",
      "3        1  1014143  183381   C       T  Not_Given  Not_Given   \n",
      "9        1  1014316  161455   C      CG  Not_Given  Not_Given   \n",
      "10       1  1014359  161454   G       T  Not_Given  Not_Given   \n",
      "25       1  1022225  243036   G       A  Not_Given  Not_Given   \n",
      "27       1  1022313  243037   A       T  Not_Given  Not_Given   \n",
      "...    ...      ...     ...  ..     ...        ...        ...   \n",
      "1309     1  3844977  221276   G       A  Not_Given  Not_Given   \n",
      "1404     1  5873294    3403  CA       C  Not_Given  Not_Given   \n",
      "1446     1  5874946    3402   A       G  Not_Given  Not_Given   \n",
      "1452     1  5874973  496917   T  TGGAGC  Not_Given  Not_Given   \n",
      "1499     1  5880113  595124   C       T  Not_Given  Not_Given   \n",
      "\n",
      "0                                                  INFO  \n",
      "3     GENEINFO=ISG15:9636; CLNSIG=Pathogenic; CLNDN=...  \n",
      "9     GENEINFO=ISG15:9636; CLNSIG=Pathogenic; CLNDN=...  \n",
      "10    GENEINFO=ISG15:9636; CLNSIG=Pathogenic; CLNDN=...  \n",
      "25    GENEINFO=AGRN:375790; CLNSIG=Pathogenic; CLNDN...  \n",
      "27    GENEINFO=AGRN:375790; CLNSIG=Pathogenic; CLNDN...  \n",
      "...                                                 ...  \n",
      "1309  GENEINFO=CEP104:9731; CLNSIG=Pathogenic; CLNDN...  \n",
      "1404  GENEINFO=NPHP4:261734; CLNSIG=Pathogenic; CLND...  \n",
      "1446  GENEINFO=NPHP4:261734; CLNSIG=Pathogenic; CLND...  \n",
      "1452         GENEINFO=NPHP4:261734; CLNSIG=Pathogenic;   \n",
      "1499         GENEINFO=NPHP4:261734; CLNSIG=Pathogenic;   \n",
      "\n",
      "[100 rows x 8 columns]\n"
     ]
    }
   ],
   "source": [
    "\n",
    "print('filtered the data frame based on classification:')\n",
    "# print(vcf_df[vcf_df['INFO'].str.contains('GENEINFO')])\n",
    "vcf_pathogenic = vcf_df[vcf_df['INFO'].str.contains('Pathogenic')]\n",
    "\n",
    "print(vcf_pathogenic.info())\n",
    "print('total pathogenic rows found = ', len(vcf_pathogenic))\n",
    "print(vcf_pathogenic.head(100))\n",
    "\n",
    "# this is the end result afer all the processign is completed. \n",
    "end_df = vcf_pathogenic.head(100)\n",
    "\n"
   ]
  },
  {
   "cell_type": "markdown",
   "metadata": {},
   "source": [
    "4) Please Write your assumptions here:"
   ]
  },
  {
   "cell_type": "markdown",
   "metadata": {},
   "source": [
    "# Assumptions\n",
    "\n",
    "### Here are all the assumptions made while completing this research project:\n",
    "\n",
    "## Assumption 1 \n",
    "Acces to the data file. On my system is was located here: \n",
    "* path = 'F:/code/uc berkeley/mids-w200-fall21-Victor-RamirezREPO/submissions/final_exam/clinvar_final.txt'\n",
    "\n",
    "## Assumption 2\n",
    "\tThe only required info values are as follows:\n",
    "\t* GENEINFO = <Gene name>\n",
    "\t* CLNSIG =  <Clinical significance>\n",
    "\t* CLNDN = <Disease name>\n",
    "\n",
    "## Assumption 3\n",
    "\n",
    "That any value of '.' will be treated as data / value not given. \n",
    "\n",
    "## Note on classification\n",
    "\n",
    "How did I categorize the dangerous classification? I used the American College os Medical classification which is stated below: \n",
    "\t\n",
    "The American College of Medical Genetics and Genomics categorizes genetic variants into five risk levels, ranked from most to least severe.\n",
    "\n",
    "1.\tPathogenic (harmful)\n",
    "2.\tLikely pathogenic\n",
    "3. Variant of uncertain significance\n",
    "4. Likely benign\n",
    "5. Benign (harmless)\n",
    "\n",
    "Pathogenic variants are least common. You’re much more likely to have a VUS or a benign variant.\n"
   ]
  },
  {
   "cell_type": "markdown",
   "metadata": {},
   "source": [
    "4) Findings / What would you present to your boss?"
   ]
  },
  {
   "cell_type": "markdown",
   "metadata": {},
   "source": [
    "# Presentation\n",
    "\n",
    "## After careful discovery and exploration of the data I have an initial research decision. \n",
    "\n",
    "## The question being asked was what mutations can be classified as dangerous?\n",
    "\n",
    "Please all the steps completed:\n",
    "1. Data loaded\n",
    "2. Completed sanity check\n",
    "3. Standardized data\n",
    "4. Remove out of scope data\n",
    "5. Update the INFO classifications\n",
    "6. Filter data to required dangerous category\n",
    "\n",
    "After processing the data there are a total of 13704 entries categorized as dangerous, based on the infomation in the assumptions section. \n"
   ]
  }
 ],
 "metadata": {
  "kernelspec": {
   "display_name": "Python 3",
   "language": "python",
   "name": "python3"
  },
  "language_info": {
   "codemirror_mode": {
    "name": "ipython",
    "version": 3
   },
   "file_extension": ".py",
   "mimetype": "text/x-python",
   "name": "python",
   "nbconvert_exporter": "python",
   "pygments_lexer": "ipython3",
   "version": "3.8.8"
  }
 },
 "nbformat": 4,
 "nbformat_minor": 1
}
