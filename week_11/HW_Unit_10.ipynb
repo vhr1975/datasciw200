{
 "cells": [
  {
   "cell_type": "markdown",
   "metadata": {
    "deletable": false,
    "editable": false,
    "nbgrader": {
     "cell_type": "markdown",
     "checksum": "00b675f80cec0b02f01b07feeb88813b",
     "grade": false,
     "grade_id": "cell-4cc0ffd6a5810c6d",
     "locked": true,
     "schema_version": 3,
     "solution": false
    }
   },
   "source": [
    "## Unit 10 Assignment - W200 Introduction to Data Science Programming, UC Berkeley MIDS\n",
    "\n",
    "Write code in this Jupyter Notebook to solve the following problems. Please upload this **Notebook** with your solutions to your GitHub repository in your SUBMISSIONS/week_11 folder by 11:59PM PST the night before class. Do not push the data files to your repo."
   ]
  },
  {
   "cell_type": "markdown",
   "metadata": {
    "deletable": false,
    "editable": false,
    "nbgrader": {
     "cell_type": "markdown",
     "checksum": "a92fc4676cda916f921341132ae88dfb",
     "grade": false,
     "grade_id": "cell-1f3ffd327d56ecbc",
     "locked": true,
     "schema_version": 3,
     "solution": false
    }
   },
   "source": [
    "This homework assignment is Week 11 which corresponds to the Unit #10 and a small part of Unit #11 async. "
   ]
  },
  {
   "cell_type": "markdown",
   "metadata": {
    "deletable": false,
    "editable": false,
    "nbgrader": {
     "cell_type": "markdown",
     "checksum": "9024dc80ab22e33198f91320d65a593a",
     "grade": false,
     "grade_id": "cell-c398835a920065f4",
     "locked": true,
     "schema_version": 3,
     "solution": false
    }
   },
   "source": [
    "## Objectives\n",
    "- Demonstrate use of map and filter commands\n",
    "- Practice list comprehensions and lambda functions\n",
    "- Understand different ways to manipulate and perform calculations on Numpy arrays including:\n",
    "-   Changing datatypes, getting the max values in each column and row, calculating the mean of a matrix\n",
    "-   Matrix value comparisons and slicing of values\n",
    "- Load a file into a pandas dataframe and demonstrate some filtering"
   ]
  },
  {
   "cell_type": "markdown",
   "metadata": {
    "deletable": false,
    "editable": false,
    "nbgrader": {
     "cell_type": "markdown",
     "checksum": "8567ea813027ec2494a660c445e4a9f9",
     "grade": false,
     "grade_id": "cell-bc58b3da65c5de3c",
     "locked": true,
     "schema_version": 3,
     "solution": false
    }
   },
   "source": [
    "## General Guidelines:\n",
    "\n",
    "- All calculations need to be done in the functions (that includes any formatting of the output)\n",
    "- Name your functions exactly as written in the problem statement\n",
    "- Please have your functions return the answer rather than printing it inside the function\n",
    "- Do not make a separate input() statement.  The functions will be passed the input as shown in the examples\n",
    "- The examples given are samples of how we will test/grade your code. Please ensure your functions output the same information\n",
    "- Answer format is graded - please match the examples\n",
    "- Docstrings and comments in your code are strongly suggested but won't be graded\n",
    "- This homework is mostly auto-graded.  The blank code blocks are the auto-grading scripts - please do not delete these!\n",
    "- Your code needs to be written in the #Your Code Here blocks or it wont be graded correctly.\n"
   ]
  },
  {
   "cell_type": "markdown",
   "metadata": {
    "deletable": false,
    "editable": false,
    "nbgrader": {
     "cell_type": "markdown",
     "checksum": "ad9412d3653684f40616663dbe2261a0",
     "grade": false,
     "grade_id": "cell-0719bd99a26f5a20",
     "locked": true,
     "schema_version": 3,
     "solution": false
    }
   },
   "source": [
    "## Project 2 Proposal\n",
    "\n",
    "**Reminder!** Please complete your project 2 proposal, as discussed in class and outlined in the project_2 folder. As a group, submit your 1-2 page proposal as a PDF in your group project 2 repo. Please only submit one final version to be graded to your group repo!\n",
    "\n",
    "This is worth 10 points of your **project 2** grade (not the grade for this homework)."
   ]
  },
  {
   "cell_type": "markdown",
   "metadata": {
    "deletable": false,
    "editable": false,
    "nbgrader": {
     "cell_type": "markdown",
     "checksum": "97574d222090b936bfdf3ba78f538ae5",
     "grade": false,
     "grade_id": "cell-855c75985f9edefd",
     "locked": true,
     "schema_version": 3,
     "solution": false
    }
   },
   "source": [
    "## 1. List, Mapping, Filtering, and Reducing Comprehensions (30 points)\n",
    "\n",
    "A. Write a function named `compute` below that: \n",
    "- Returns the square of any number for integer or floating type values\n",
    "- Returns the reverse of the content if it is a string\n",
    "- Or returns the **value None** (not the string 'None') if it is another kind of value."
   ]
  },
  {
   "cell_type": "code",
   "execution_count": 3,
   "metadata": {
    "deletable": false,
    "nbgrader": {
     "cell_type": "code",
     "checksum": "933d3d8fe603a01febac026c8a2c9852",
     "grade": false,
     "grade_id": "cell-dfddd13006f81c36",
     "locked": false,
     "schema_version": 3,
     "solution": true
    }
   },
   "outputs": [],
   "source": [
    "def compute(value):\n",
    "    ''' method input int, float or string; returns square of number or reverse of string '''\n",
    "    \n",
    "    if type(value) == int:\n",
    "        # print('This number is an int')\n",
    "        value = value ** 2\n",
    "    elif type(value) == float:\n",
    "        # print('This number is a float')\n",
    "        value = value ** 2\n",
    "    elif isinstance(value, str):\n",
    "        # print('a string')\n",
    "        value = value[::-1]        \n",
    "    else:\n",
    "        # None\n",
    "        # print('None')\n",
    "        value = None\n",
    "    \n",
    "    return value\n"
   ]
  },
  {
   "cell_type": "code",
   "execution_count": null,
   "metadata": {
    "deletable": false,
    "editable": false,
    "nbgrader": {
     "cell_type": "code",
     "checksum": "5c1423b7df242ddf203f4ffa45d55ce7",
     "grade": true,
     "grade_id": "cell-88242cbaef2afe19",
     "locked": true,
     "points": 1,
     "schema_version": 3,
     "solution": false
    }
   },
   "outputs": [],
   "source": [
    "### Autograded cells. Do not remove."
   ]
  },
  {
   "cell_type": "code",
   "execution_count": null,
   "metadata": {
    "deletable": false,
    "editable": false,
    "nbgrader": {
     "cell_type": "code",
     "checksum": "3d5d4e06f87cf4ecc78d1af83d7df3d2",
     "grade": true,
     "grade_id": "cell-a54757f9e0cf6953",
     "locked": true,
     "points": 1,
     "schema_version": 3,
     "solution": false
    }
   },
   "outputs": [],
   "source": [
    "### Autograded cells. Do not remove."
   ]
  },
  {
   "cell_type": "code",
   "execution_count": null,
   "metadata": {
    "deletable": false,
    "editable": false,
    "nbgrader": {
     "cell_type": "code",
     "checksum": "605432815c3ba407a52d91dbcdc4da00",
     "grade": true,
     "grade_id": "cell-61c74abebff6dbc1",
     "locked": true,
     "points": 1,
     "schema_version": 3,
     "solution": false
    }
   },
   "outputs": [],
   "source": [
    "### Autograded cells. Do not remove."
   ]
  },
  {
   "cell_type": "code",
   "execution_count": null,
   "metadata": {
    "deletable": false,
    "editable": false,
    "nbgrader": {
     "cell_type": "code",
     "checksum": "613249a69014af1411ef4ea121c07c7e",
     "grade": true,
     "grade_id": "cell-257a5430df922fd1",
     "locked": true,
     "points": 1,
     "schema_version": 3,
     "solution": false
    }
   },
   "outputs": [],
   "source": [
    "### Autograded cells. Do not remove."
   ]
  },
  {
   "cell_type": "code",
   "execution_count": null,
   "metadata": {
    "deletable": false,
    "editable": false,
    "nbgrader": {
     "cell_type": "code",
     "checksum": "d78da69fc4a639a3388e2853a7e9786b",
     "grade": true,
     "grade_id": "cell-5d03b88c9be3c01b",
     "locked": true,
     "points": 1,
     "schema_version": 3,
     "solution": false
    }
   },
   "outputs": [],
   "source": [
    "### Autograded cells. Do not remove."
   ]
  },
  {
   "cell_type": "code",
   "execution_count": null,
   "metadata": {
    "deletable": false,
    "editable": false,
    "nbgrader": {
     "cell_type": "code",
     "checksum": "a7b34628894a9862ffd51083b72ec18f",
     "grade": true,
     "grade_id": "cell-0638d1c51a1805d6",
     "locked": true,
     "points": 1,
     "schema_version": 3,
     "solution": false
    }
   },
   "outputs": [],
   "source": [
    "### Autograded cells. Do not remove."
   ]
  },
  {
   "cell_type": "code",
   "execution_count": null,
   "metadata": {
    "deletable": false,
    "editable": false,
    "nbgrader": {
     "cell_type": "code",
     "checksum": "c0817af212ad1b59e57ab4e183a89c27",
     "grade": true,
     "grade_id": "cell-90fd0a6f7ef73ec9",
     "locked": true,
     "points": 1,
     "schema_version": 3,
     "solution": false
    }
   },
   "outputs": [],
   "source": [
    "### Autograded cells. Do not remove."
   ]
  },
  {
   "cell_type": "code",
   "execution_count": null,
   "metadata": {
    "deletable": false,
    "editable": false,
    "nbgrader": {
     "cell_type": "code",
     "checksum": "9c976c777f416aada68f305496aa279b",
     "grade": true,
     "grade_id": "cell-ecdc2af266b16e43",
     "locked": true,
     "points": 1,
     "schema_version": 3,
     "solution": false
    }
   },
   "outputs": [],
   "source": [
    "### Autograded cells. Do not remove."
   ]
  },
  {
   "cell_type": "code",
   "execution_count": null,
   "metadata": {
    "deletable": false,
    "editable": false,
    "nbgrader": {
     "cell_type": "code",
     "checksum": "eb27d6025ea32e8769b11a0258c7cba9",
     "grade": true,
     "grade_id": "cell-6045cb8b4c8c6c0b",
     "locked": true,
     "points": 2,
     "schema_version": 3,
     "solution": false
    }
   },
   "outputs": [],
   "source": [
    "### Autograded cells. Do not remove."
   ]
  },
  {
   "cell_type": "markdown",
   "metadata": {
    "deletable": false,
    "editable": false,
    "nbgrader": {
     "cell_type": "markdown",
     "checksum": "7c00b2499c221dc70610b85b0db0c389",
     "grade": false,
     "grade_id": "cell-0f13fa84ab6c1b52",
     "locked": true,
     "schema_version": 3,
     "solution": false
    }
   },
   "source": [
    "B. Now apply the `compute` function made in 1A. (above) using `map` to a list of values. Write this `map` statement in the new function named `map_compute`. Return the values as a `list` (not a `map_object`). You should be able to do this in ONE single line! \n",
    "\n",
    "Example function call: \n",
    "\n",
    "```map_compute(['cup', '321', 12, ['x'], 4, True])```\n",
    "\n",
    "Expected returned output: \n",
    "\n",
    "```['puc', '123', 144, None, 16, None]```\n"
   ]
  },
  {
   "cell_type": "code",
   "execution_count": 4,
   "metadata": {
    "deletable": false,
    "nbgrader": {
     "cell_type": "code",
     "checksum": "219c211d3d557e9d3d5880168d18cf73",
     "grade": false,
     "grade_id": "cell-da6d422423b3c077",
     "locked": false,
     "schema_version": 3,
     "solution": true
    }
   },
   "outputs": [
    {
     "data": {
      "text/plain": [
       "['puc', '123', 144, None, 16, None]"
      ]
     },
     "execution_count": 4,
     "metadata": {},
     "output_type": "execute_result"
    }
   ],
   "source": [
    "def map_compute(my_list):\n",
    "    ''' method calls compute funtion via a map call '''\n",
    "    \n",
    "    return list(map(compute, my_list))\n",
    "\n",
    "map_compute(['cup', '321', 12, ['x'], 4, True])    \n"
   ]
  },
  {
   "cell_type": "code",
   "execution_count": null,
   "metadata": {
    "deletable": false,
    "editable": false,
    "nbgrader": {
     "cell_type": "code",
     "checksum": "a9280db9bac2ae45654805fc39ce11a4",
     "grade": true,
     "grade_id": "cell-2664bfa811f05f4f",
     "locked": true,
     "points": 5,
     "schema_version": 3,
     "solution": false
    }
   },
   "outputs": [],
   "source": [
    "### Autograded cells. Do not remove."
   ]
  },
  {
   "cell_type": "markdown",
   "metadata": {
    "deletable": false,
    "editable": false,
    "nbgrader": {
     "cell_type": "markdown",
     "checksum": "fb8a216c8ef468551795363f8d36be6e",
     "grade": false,
     "grade_id": "cell-9e20909606598336",
     "locked": true,
     "schema_version": 3,
     "solution": false
    }
   },
   "source": [
    "C. Write a new function named `filter_compute` to remove any **integer** values that are less than 5 in your `map` result and return this result as a `list`. You should be able to this in ONE single line. Some pseudo-code below:\n",
    "\n",
    "- Step 1: Use `map` to apply ```compute``` function from Part 1A to your list (as you did above in 1B)\n",
    "- Step 2: Use `filter` to apply the above constraint to your output of Step 1. You might want to re-factor your filter logic in a separate function (it won't be counted against the single line constraint imposed above)\n",
    "\n",
    "Example function call: \n",
    "```filter_compute(['cup', '321', 2, ['x'], 4, True])```\n",
    "\n",
    "Expected returned output: \n",
    "\n",
    "```['puc', '123', None, 16, None]```"
   ]
  },
  {
   "cell_type": "code",
   "execution_count": 8,
   "metadata": {
    "deletable": false,
    "nbgrader": {
     "cell_type": "code",
     "checksum": "6044d774a907903c2c2c40338014253f",
     "grade": false,
     "grade_id": "cell-66df364de55a24a3",
     "locked": false,
     "schema_version": 3,
     "solution": true
    }
   },
   "outputs": [
    {
     "data": {
      "text/plain": [
       "['puc', '123', None, 16, None]"
      ]
     },
     "execution_count": 8,
     "metadata": {},
     "output_type": "execute_result"
    }
   ],
   "source": [
    "def filter_compute(my_list):\n",
    "    ''' method removes any **integer** values that are less than 5 in ''' \n",
    "        \n",
    "    ''' \n",
    "        if else in lamda function to return True or False\n",
    "        lambda <arguments> : <Return Value if condition is True> if <condition> else <Return Value if condition is False>\n",
    "    ''' \n",
    "    \n",
    "    ''' filter() function accepts a callback() function and a list of elements. It iterates over all elements in list and \n",
    "        calls the given callback() function on each element. If callback() returns True then it appends that element in \n",
    "        the new list. In the end it returns a new list of filtered elements only.\n",
    "    '''\n",
    "    \n",
    "    return list( # iterate the list and execute the lamda function on each list item\n",
    "                filter (\n",
    "                            lambda value : \n",
    "                            # if value is an int or float and is less than 5 return False\n",
    "                            False if ( \n",
    "                                      (type(value) == int or \n",
    "                                       type(value) == float) and \n",
    "                                       value < 5\n",
    "                                    )\n",
    "                            else True, # else return True\n",
    "                            # call map on list of elements\n",
    "                            map( compute, my_list) \n",
    "                        )\n",
    "                )    \n",
    "\n",
    "filter_compute(['cup', '321', 2, ['x'], 4, True])\n",
    "    "
   ]
  },
  {
   "cell_type": "code",
   "execution_count": null,
   "metadata": {
    "deletable": false,
    "editable": false,
    "nbgrader": {
     "cell_type": "code",
     "checksum": "63abd2e0d8468b25334fbebda16fcdbd",
     "grade": true,
     "grade_id": "cell-4223e633a4ff1d77",
     "locked": true,
     "points": 2,
     "schema_version": 3,
     "solution": false
    }
   },
   "outputs": [],
   "source": [
    "### Autograded cells. Do not remove."
   ]
  },
  {
   "cell_type": "code",
   "execution_count": null,
   "metadata": {
    "deletable": false,
    "editable": false,
    "nbgrader": {
     "cell_type": "code",
     "checksum": "3317427f16375217cbc930dc0b129552",
     "grade": true,
     "grade_id": "cell-5000c212c192ee9d",
     "locked": true,
     "points": 3,
     "schema_version": 3,
     "solution": false
    }
   },
   "outputs": [],
   "source": [
    "### Autograded cells. Do not remove."
   ]
  },
  {
   "cell_type": "markdown",
   "metadata": {
    "deletable": false,
    "editable": false,
    "nbgrader": {
     "cell_type": "markdown",
     "checksum": "6f070c0b07cb7771ea5ad7e72d90f8f7",
     "grade": false,
     "grade_id": "cell-4f7277d7cf12a572",
     "locked": true,
     "schema_version": 3,
     "solution": false
    }
   },
   "source": [
    "D. Now that you are an expert in maps and filters, write the above logic from Part 1B & 1C in ONE line using 2 `lambda` functions, 1 for the `map`, and 1 for the `filter` part in the function named `lambda_compute`. This should be one line with one lambda for the map and one lambda for the filter.  Do **NOT** use the lambdas to call the functions you already made in the parts above (1A, 1B or 1C), instead make the same logic in a lambda function. \n",
    "\n",
    "Hint: It could be easier to start with separate lambda functions and then combine then into one."
   ]
  },
  {
   "cell_type": "code",
   "execution_count": 9,
   "metadata": {
    "deletable": false,
    "nbgrader": {
     "cell_type": "code",
     "checksum": "4d05e5f3848c042d960fa1c59d78882c",
     "grade": false,
     "grade_id": "cell-9c917cb0bb771ad9",
     "locked": false,
     "schema_version": 3,
     "solution": true
    }
   },
   "outputs": [],
   "source": [
    "def lambda_compute(my_list):\n",
    "    ''' method that calls all the previous actions on one line '''     \n",
    "    \n",
    "    return list ( \n",
    "                 filter ( lambda value :\n",
    "                            False  if (\n",
    "                                        (type(value) == int or \n",
    "                                         type(value) == float ) and \n",
    "                                         value < 5 )\n",
    "                            else True, \n",
    "                            list ( map ( lambda value : value ** 2 \n",
    "                                        if( type(value) == int or\n",
    "                                            type(value) == float ) \n",
    "                                        else value [::-1] \n",
    "                                    if ( type(value) == str) \n",
    "                                    else None, my_list )\n",
    "                                 )\n",
    "                        )\n",
    "                )"
   ]
  },
  {
   "cell_type": "code",
   "execution_count": null,
   "metadata": {
    "deletable": false,
    "editable": false,
    "nbgrader": {
     "cell_type": "code",
     "checksum": "3d5e35689834703ee335101d93740fd6",
     "grade": true,
     "grade_id": "cell-e1378a17ce05ee60",
     "locked": true,
     "points": 2,
     "schema_version": 3,
     "solution": false
    }
   },
   "outputs": [],
   "source": [
    "### Autograded cells. Do not remove."
   ]
  },
  {
   "cell_type": "code",
   "execution_count": null,
   "metadata": {
    "deletable": false,
    "editable": false,
    "nbgrader": {
     "cell_type": "code",
     "checksum": "03e4db85b8c0106d798e5d219b3e9894",
     "grade": true,
     "grade_id": "cell-6cf9e33c874af18a",
     "locked": true,
     "points": 4,
     "schema_version": 3,
     "solution": false
    }
   },
   "outputs": [],
   "source": [
    "### Autograded cells. Do not remove."
   ]
  },
  {
   "cell_type": "code",
   "execution_count": null,
   "metadata": {
    "deletable": false,
    "editable": false,
    "nbgrader": {
     "cell_type": "code",
     "checksum": "b9d5d16ab248b503266a63890a09ce45",
     "grade": true,
     "grade_id": "cell-6b640ea2a1288292",
     "locked": true,
     "points": 4,
     "schema_version": 3,
     "solution": false
    }
   },
   "outputs": [],
   "source": [
    "### Autograded cells. Do not remove."
   ]
  },
  {
   "cell_type": "markdown",
   "metadata": {
    "deletable": false,
    "editable": false,
    "nbgrader": {
     "cell_type": "markdown",
     "checksum": "8774220445a3bb08ec43409aa998c328",
     "grade": false,
     "grade_id": "cell-4fe5ba9f67aac0d8",
     "locked": true,
     "schema_version": 3,
     "solution": false
    }
   },
   "source": [
    "## 2. NumPy (40 points)\n",
    "In this next section, we will work with NumPy. For each question below, use NumPy functionality to execute the logic of your answer. (**Do not use ```For``` loops!**)"
   ]
  },
  {
   "cell_type": "markdown",
   "metadata": {
    "deletable": false,
    "editable": false,
    "nbgrader": {
     "cell_type": "markdown",
     "checksum": "f927a8ef47c5b43c2628b986786b29da",
     "grade": false,
     "grade_id": "cell-beb2cf017d0e0c6c",
     "locked": true,
     "schema_version": 3,
     "solution": false
    }
   },
   "source": [
    "#### Generating Random Data and Filtering That Data\n",
    "\n",
    "Please run the two cells below to set your random seed. (This makes the 'randomness' of the array the same for everyone)"
   ]
  },
  {
   "cell_type": "code",
   "execution_count": 16,
   "metadata": {
    "deletable": false,
    "editable": false,
    "nbgrader": {
     "cell_type": "code",
     "checksum": "0b4fb0a957c9ffc89bb92c4e4ef6790f",
     "grade": false,
     "grade_id": "cell-2eef38fa43df4ac5",
     "locked": true,
     "schema_version": 3,
     "solution": false
    }
   },
   "outputs": [],
   "source": [
    "import numpy as np\n",
    "np.random.seed(25)\n",
    "ar = np.random.randn(1000)"
   ]
  },
  {
   "cell_type": "code",
   "execution_count": 17,
   "metadata": {
    "deletable": false,
    "editable": false,
    "nbgrader": {
     "cell_type": "code",
     "checksum": "d0fa76ea11fabcf0176c9703a31b1318",
     "grade": false,
     "grade_id": "cell-d091070fb4fa4d8e",
     "locked": true,
     "schema_version": 3,
     "solution": false
    }
   },
   "outputs": [
    {
     "data": {
      "text/plain": [
       "array([  22,  102,  -83,  -59,  -95,  -22,  -61,  -73,   51,   86,  -92,\n",
       "        -23,  -41,  123,    7, -124,  120, -104,  105,  -41,  -27,   -3,\n",
       "         26,   68,   99,   59,   53,  -29,  -51,  -58,   22,   73,  -96,\n",
       "         38,   39,   40,   21,  -63,   24,   63,   11,   68,   24,  -70,\n",
       "         36,  -50,  -22,  -56,   10,  -55,  109,  -90,  -62,  -94,  117,\n",
       "        -37,  -54,   28,  -20,  118,   72,  -22,   94,   31, -116,   31,\n",
       "         47,   57,   50,  -62,  -34,   50,   76,  112,   16,  -96,   49,\n",
       "        -55,   -8,  -60,   -6,  -85,   42,  -27,  119,   -9,   83,  -78,\n",
       "        104,  -64,   67,   -9,  121,   49, -114,  -53,  -91,  -21,   19,\n",
       "        -32,   84,   76,   44,   43,  102,  -58,    4,   56, -114,    0,\n",
       "        -29,   23,   67,  122,  -60,  -16,  -65,  -19,   17,    3, -126,\n",
       "        -53,   52,   38,  -76,   -5,  -24,   20,  -30,   15,    3,  -32,\n",
       "        -77,  -33,   54, -115,  -74,  101,   96,  -18,  -54, -109,   43,\n",
       "        -73,   16,  -67,  -16,  -54,  -35,  -88,    9,  112,  -45,   87,\n",
       "       -114,  -85,   93,  -17,   41,  -28,  -90,   48,   -4,   64,    1,\n",
       "        -97,   59, -126, -100,  -48,   39,   62,   53,   37,  -52,   30,\n",
       "        -66,  -19,   92,  -84,  -77, -120,  -87, -128,   63,   50,  -39,\n",
       "        -64,  -50,  101, -118,   40, -126,   90,   73, -126,  120,  -36,\n",
       "         87,   84, -121,  111, -103,  -44,    5,  -56,    0,   17,   97,\n",
       "        -70,   11,   64,    1,  -43,   -6,   -6,  -39,   40,  -74,  -65,\n",
       "        -16, -115,   25,  -98,   98,  -53,  -26, -115,  -14,  106,   54,\n",
       "       -118,  -28,  -99,   96,   80,  -56,  -92,  -41,    0,   47,   71,\n",
       "        -96,   45,  -11, -118, -108, -108,   59,    8,  -88,   30,   59,\n",
       "        -17,   73,   14,  -15,   24,  -26,  -37,   34, -102,   57, -126,\n",
       "          8,  -82,   68, -103, -111,    9,   15,  -79,  -59,  -55,   65,\n",
       "        -20,  120,  -83,  -40,   69,  -57,   61,   19,  117,   11,   94,\n",
       "         15, -125, -117,    4, -110,  -37,  -50,  102,   27,  -64,  -17,\n",
       "        -17,   28,    2, -124,  -25,  -89,  -88,    2,   41,   31,   93,\n",
       "         77,   40, -116,   66,   -6, -113,   64,    1,   58,   57,    7,\n",
       "        -44,    3, -109,   74,  111,  -23,  -87,   23,  -80,   21,   83,\n",
       "        -60,    6,  126,   27,  -60, -118,  -29, -119, -120,   17,   73,\n",
       "         -1, -114,   -7,  111,    8,   28,   35,  -54,  111, -110,  -12,\n",
       "         -1,   46,  -54,    2,   70,   14,  -37,   46,   88,  -61,  121,\n",
       "         74,   88,  -30,   89,  -50,    4,  124,  -59,  -65,   89,   23,\n",
       "         82,  -70,   98,   -9,  -67,  -31,   -6,   43,   11,  -12,    0,\n",
       "        -18,   47,   58,   72,   98,  -20,   94,    6,  -10,  106,   43,\n",
       "         66,  -77,   58,   94,  100,  -97, -103, -104,   12,   78,   55,\n",
       "        -40,   78,  -65, -117,   47,  -98,   78,    8,   45,   20, -110,\n",
       "         16,   21,   64,   71,  -51,  -52,  -97, -100,   22, -109,  -45,\n",
       "         53,   -6,  -27, -127,    6,  -51,  -51,   45,   -2,   24,   86,\n",
       "       -103,   57,  -18,  -93, -127, -117,   55, -108,  119,  -23,   35,\n",
       "        125,   68,  -39,   54,  -74,  -46, -121,   -7,   37,  -33,  -20,\n",
       "        -86, -117,   74,   22,   72,   61,   60,  -46,  105,   27,  -12,\n",
       "        -28,  -31,   61,   40, -125,    4,    6,  -77,  -30,  116,  -35,\n",
       "         89,   63,   80, -103,  -28, -112,   43,  -97,  -70,  -41,  123,\n",
       "        -25,  -92,  -59,   41,  -45,  -77,  -24,  -21,  117,   68,    0,\n",
       "         69,   17,   62,   50,   42,   -5,   71,    5,   56,  -36,   48,\n",
       "         62,  -35,  110,   63,    3,  105,  -41,   38,   71,   48,   73,\n",
       "         91,   67,   25,  -50,   33,  -11,  -25,  111,   40,  106,  -57,\n",
       "         71,  -39,  125,   64,    9,   62,   29,  -14,  -54,  -91,  114,\n",
       "         31,  118,  121,  -41,   91,    1,   44,    5,  -46,  -52,   98,\n",
       "        124,  -19, -122,   29,  116,   81,  -30,   49,   94,   -9,  -24,\n",
       "        -44,  -52,   28,  -45,   89,  -35,  -78,   18,   -1,  -11,  -73,\n",
       "        -91,  -65,    0,   34,   67,  -14,  -40,  -83,   48,  124,  -47,\n",
       "        -22,   10,   23,  -30,  117,   81,   40,  -97,  126,   14, -106,\n",
       "         45, -112, -108,   37,    0,  -21,   93,  -93,   86,   61, -103,\n",
       "         63,  106,  -83, -117,  100,   35,   69,  -29,   42,  -14,  -33,\n",
       "        -97,   66,   97,   12,  113,  101, -112,  -19, -116,   64, -113,\n",
       "        -92, -127,  -14, -110,  -82,   29,  112,    2,  -97,   39,   44,\n",
       "         74,  118,  -21,   30,    5,  109,  -11,    1,   82,   -6,  -41,\n",
       "         97, -123,  103,    4,   70,    1,  -70,  -39,  -28,  -25,   -8,\n",
       "        -64,   57,  -79, -118,  123,  -45,   31,  -86,   83,   50,   -7,\n",
       "         41,   33,    4,  -16,   91,  -29,  126,  -19,   87,  119,  -20,\n",
       "        -49,  112,   -8,  -11,   24,  -31,  -51,    1,   -3, -117,  -41,\n",
       "        -41, -123, -112,  119,  -56,   42,  -22,   80,   33,  -51,  -16,\n",
       "        109,   60,   47,  -87,   13,  -76,   19,  -96,  -25,  126,   84,\n",
       "        -78,  -70,  -35,   85,   76,   49,    6,  110,   95,  -68,   30,\n",
       "         73,  -86, -111,   37,  115,  -52,   90,   68,   52, -111,  -83,\n",
       "        -36, -117,  -81,  -89,   77,  115,  -64,   12,   51,  -53,  -57,\n",
       "         62,  -10,   48,  -29,  -44,   54, -105,  -93,   23, -117,   46,\n",
       "        -96,   64,   48,  102,   30, -122, -125,  107,  -24,  -54,  106,\n",
       "         77,  -61,    1, -118, -120,  -54,   68, -120,  -38,   79, -112,\n",
       "         36,   54,   41,  -20,  -96,   98,    0,  -32,  -57, -115,   43,\n",
       "       -110,   98,  -59,   37,   78,  -39,   65,   68,   -9,   -5,  -73,\n",
       "        -90,  -70,   58,  -61,   45,  -90,  -15,   88,   57,  -60,   53,\n",
       "         51,  -95,  -88,   43,   86,  -95,  -62,   19,   44,   52,  -21,\n",
       "          9,   93,   81,    7,   63,   32,  -42, -107,   75,   19,  -36,\n",
       "         -1,  -81,   81,   44,  -97,   -6,   22,  126,  -57,   42,  104,\n",
       "        -61,    7,   -9,   26,   94,   33, -122,  -16, -110,  -16,   -9,\n",
       "        -83,  -20,   39,   76,  123,  -20,  -20,  -46,   25,    2,  118,\n",
       "       -103, -114,   65,   -4,   -7, -124,  -68,  104,  -55,  121,   64,\n",
       "       -102,  -34,   58,   79, -124, -114,  -51,   18, -109,  -60,  -64,\n",
       "         22,  -66, -116,   81,   44,  -57,   35,   40,    9,   27,   48,\n",
       "         -8,  -71,   92,  100,  108,   36,   75,  119,  -97,  -58,   31,\n",
       "        116,   14,  103,  116, -120,   73,  118,  -51,  -80, -117,   93,\n",
       "       -112,  -47,   98, -115,  -90, -100,   22,  -33,  121,   25,  -40,\n",
       "         26,   -1,  -91,   36,  -58,   67,  125, -118, -114, -127, -127,\n",
       "        -30,  -42,  -67,   87, -126,  -26, -109,  -66,  -64,  -55,  -19,\n",
       "         11,  -26,  -52,    9,    9,  -97,   18,  114,   -6,  110,  106,\n",
       "         -3,   80,  -65,   93,   21,  -53,   95,   24,   63,  -51,  -71,\n",
       "        -34,  -56,  -38,   -2,  -47,   86,   17,   59,  121,  127],\n",
       "      dtype=int8)"
      ]
     },
     "execution_count": 17,
     "metadata": {},
     "output_type": "execute_result"
    }
   ],
   "source": [
    "\n",
    "# Do NOT change this code!\n",
    "ar = ar * 100\n",
    "ar = ar.astype('int8')\n",
    "ar\n"
   ]
  },
  {
   "cell_type": "code",
   "execution_count": null,
   "metadata": {
    "deletable": false,
    "editable": false,
    "nbgrader": {
     "cell_type": "code",
     "checksum": "7a0289614b4ce068b19383f8ee06526c",
     "grade": true,
     "grade_id": "cell-122df6676e7ea0b4",
     "locked": true,
     "points": 0,
     "schema_version": 3,
     "solution": false
    }
   },
   "outputs": [],
   "source": [
    "## Autograded cells. Do not remove"
   ]
  },
  {
   "cell_type": "markdown",
   "metadata": {
    "deletable": false,
    "editable": false,
    "nbgrader": {
     "cell_type": "markdown",
     "checksum": "958822756ed8569faa6897c66b673eb6",
     "grade": false,
     "grade_id": "cell-20f89916d2da1dd6",
     "locked": true,
     "schema_version": 3,
     "solution": false
    }
   },
   "source": [
    "A. Write code in the function ```reshape``` that takes an array of size 1000 and reshapes the array into a set of five columns with 200 rows. Return this new array and replace the original ```ar``` array with it."
   ]
  },
  {
   "cell_type": "code",
   "execution_count": 18,
   "metadata": {
    "deletable": false,
    "nbgrader": {
     "cell_type": "code",
     "checksum": "ba0a20428b16e17207decc3cc7d5b451",
     "grade": false,
     "grade_id": "cell-0d019784425900d3",
     "locked": false,
     "schema_version": 3,
     "solution": true
    }
   },
   "outputs": [
    {
     "name": "stdout",
     "output_type": "stream",
     "text": [
      "[[  22  102  -83  -59  -95]\n",
      " [ -22  -61  -73   51   86]\n",
      " [ -92  -23  -41  123    7]\n",
      " [-124  120 -104  105  -41]\n",
      " [ -27   -3   26   68   99]\n",
      " [  59   53  -29  -51  -58]\n",
      " [  22   73  -96   38   39]\n",
      " [  40   21  -63   24   63]\n",
      " [  11   68   24  -70   36]\n",
      " [ -50  -22  -56   10  -55]\n",
      " [ 109  -90  -62  -94  117]\n",
      " [ -37  -54   28  -20  118]\n",
      " [  72  -22   94   31 -116]\n",
      " [  31   47   57   50  -62]\n",
      " [ -34   50   76  112   16]\n",
      " [ -96   49  -55   -8  -60]\n",
      " [  -6  -85   42  -27  119]\n",
      " [  -9   83  -78  104  -64]\n",
      " [  67   -9  121   49 -114]\n",
      " [ -53  -91  -21   19  -32]\n",
      " [  84   76   44   43  102]\n",
      " [ -58    4   56 -114    0]\n",
      " [ -29   23   67  122  -60]\n",
      " [ -16  -65  -19   17    3]\n",
      " [-126  -53   52   38  -76]\n",
      " [  -5  -24   20  -30   15]\n",
      " [   3  -32  -77  -33   54]\n",
      " [-115  -74  101   96  -18]\n",
      " [ -54 -109   43  -73   16]\n",
      " [ -67  -16  -54  -35  -88]\n",
      " [   9  112  -45   87 -114]\n",
      " [ -85   93  -17   41  -28]\n",
      " [ -90   48   -4   64    1]\n",
      " [ -97   59 -126 -100  -48]\n",
      " [  39   62   53   37  -52]\n",
      " [  30  -66  -19   92  -84]\n",
      " [ -77 -120  -87 -128   63]\n",
      " [  50  -39  -64  -50  101]\n",
      " [-118   40 -126   90   73]\n",
      " [-126  120  -36   87   84]\n",
      " [-121  111 -103  -44    5]\n",
      " [ -56    0   17   97  -70]\n",
      " [  11   64    1  -43   -6]\n",
      " [  -6  -39   40  -74  -65]\n",
      " [ -16 -115   25  -98   98]\n",
      " [ -53  -26 -115  -14  106]\n",
      " [  54 -118  -28  -99   96]\n",
      " [  80  -56  -92  -41    0]\n",
      " [  47   71  -96   45  -11]\n",
      " [-118 -108 -108   59    8]\n",
      " [ -88   30   59  -17   73]\n",
      " [  14  -15   24  -26  -37]\n",
      " [  34 -102   57 -126    8]\n",
      " [ -82   68 -103 -111    9]\n",
      " [  15  -79  -59  -55   65]\n",
      " [ -20  120  -83  -40   69]\n",
      " [ -57   61   19  117   11]\n",
      " [  94   15 -125 -117    4]\n",
      " [-110  -37  -50  102   27]\n",
      " [ -64  -17  -17   28    2]\n",
      " [-124  -25  -89  -88    2]\n",
      " [  41   31   93   77   40]\n",
      " [-116   66   -6 -113   64]\n",
      " [   1   58   57    7  -44]\n",
      " [   3 -109   74  111  -23]\n",
      " [ -87   23  -80   21   83]\n",
      " [ -60    6  126   27  -60]\n",
      " [-118  -29 -119 -120   17]\n",
      " [  73   -1 -114   -7  111]\n",
      " [   8   28   35  -54  111]\n",
      " [-110  -12   -1   46  -54]\n",
      " [   2   70   14  -37   46]\n",
      " [  88  -61  121   74   88]\n",
      " [ -30   89  -50    4  124]\n",
      " [ -59  -65   89   23   82]\n",
      " [ -70   98   -9  -67  -31]\n",
      " [  -6   43   11  -12    0]\n",
      " [ -18   47   58   72   98]\n",
      " [ -20   94    6  -10  106]\n",
      " [  43   66  -77   58   94]\n",
      " [ 100  -97 -103 -104   12]\n",
      " [  78   55  -40   78  -65]\n",
      " [-117   47  -98   78    8]\n",
      " [  45   20 -110   16   21]\n",
      " [  64   71  -51  -52  -97]\n",
      " [-100   22 -109  -45   53]\n",
      " [  -6  -27 -127    6  -51]\n",
      " [ -51   45   -2   24   86]\n",
      " [-103   57  -18  -93 -127]\n",
      " [-117   55 -108  119  -23]\n",
      " [  35  125   68  -39   54]\n",
      " [ -74  -46 -121   -7   37]\n",
      " [ -33  -20  -86 -117   74]\n",
      " [  22   72   61   60  -46]\n",
      " [ 105   27  -12  -28  -31]\n",
      " [  61   40 -125    4    6]\n",
      " [ -77  -30  116  -35   89]\n",
      " [  63   80 -103  -28 -112]\n",
      " [  43  -97  -70  -41  123]\n",
      " [ -25  -92  -59   41  -45]\n",
      " [ -77  -24  -21  117   68]\n",
      " [   0   69   17   62   50]\n",
      " [  42   -5   71    5   56]\n",
      " [ -36   48   62  -35  110]\n",
      " [  63    3  105  -41   38]\n",
      " [  71   48   73   91   67]\n",
      " [  25  -50   33  -11  -25]\n",
      " [ 111   40  106  -57   71]\n",
      " [ -39  125   64    9   62]\n",
      " [  29  -14  -54  -91  114]\n",
      " [  31  118  121  -41   91]\n",
      " [   1   44    5  -46  -52]\n",
      " [  98  124  -19 -122   29]\n",
      " [ 116   81  -30   49   94]\n",
      " [  -9  -24  -44  -52   28]\n",
      " [ -45   89  -35  -78   18]\n",
      " [  -1  -11  -73  -91  -65]\n",
      " [   0   34   67  -14  -40]\n",
      " [ -83   48  124  -47  -22]\n",
      " [  10   23  -30  117   81]\n",
      " [  40  -97  126   14 -106]\n",
      " [  45 -112 -108   37    0]\n",
      " [ -21   93  -93   86   61]\n",
      " [-103   63  106  -83 -117]\n",
      " [ 100   35   69  -29   42]\n",
      " [ -14  -33  -97   66   97]\n",
      " [  12  113  101 -112  -19]\n",
      " [-116   64 -113  -92 -127]\n",
      " [ -14 -110  -82   29  112]\n",
      " [   2  -97   39   44   74]\n",
      " [ 118  -21   30    5  109]\n",
      " [ -11    1   82   -6  -41]\n",
      " [  97 -123  103    4   70]\n",
      " [   1  -70  -39  -28  -25]\n",
      " [  -8  -64   57  -79 -118]\n",
      " [ 123  -45   31  -86   83]\n",
      " [  50   -7   41   33    4]\n",
      " [ -16   91  -29  126  -19]\n",
      " [  87  119  -20  -49  112]\n",
      " [  -8  -11   24  -31  -51]\n",
      " [   1   -3 -117  -41  -41]\n",
      " [-123 -112  119  -56   42]\n",
      " [ -22   80   33  -51  -16]\n",
      " [ 109   60   47  -87   13]\n",
      " [ -76   19  -96  -25  126]\n",
      " [  84  -78  -70  -35   85]\n",
      " [  76   49    6  110   95]\n",
      " [ -68   30   73  -86 -111]\n",
      " [  37  115  -52   90   68]\n",
      " [  52 -111  -83  -36 -117]\n",
      " [ -81  -89   77  115  -64]\n",
      " [  12   51  -53  -57   62]\n",
      " [ -10   48  -29  -44   54]\n",
      " [-105  -93   23 -117   46]\n",
      " [ -96   64   48  102   30]\n",
      " [-122 -125  107  -24  -54]\n",
      " [ 106   77  -61    1 -118]\n",
      " [-120  -54   68 -120  -38]\n",
      " [  79 -112   36   54   41]\n",
      " [ -20  -96   98    0  -32]\n",
      " [ -57 -115   43 -110   98]\n",
      " [ -59   37   78  -39   65]\n",
      " [  68   -9   -5  -73  -90]\n",
      " [ -70   58  -61   45  -90]\n",
      " [ -15   88   57  -60   53]\n",
      " [  51  -95  -88   43   86]\n",
      " [ -95  -62   19   44   52]\n",
      " [ -21    9   93   81    7]\n",
      " [  63   32  -42 -107   75]\n",
      " [  19  -36   -1  -81   81]\n",
      " [  44  -97   -6   22  126]\n",
      " [ -57   42  104  -61    7]\n",
      " [  -9   26   94   33 -122]\n",
      " [ -16 -110  -16   -9  -83]\n",
      " [ -20   39   76  123  -20]\n",
      " [ -20  -46   25    2  118]\n",
      " [-103 -114   65   -4   -7]\n",
      " [-124  -68  104  -55  121]\n",
      " [  64 -102  -34   58   79]\n",
      " [-124 -114  -51   18 -109]\n",
      " [ -60  -64   22  -66 -116]\n",
      " [  81   44  -57   35   40]\n",
      " [   9   27   48   -8  -71]\n",
      " [  92  100  108   36   75]\n",
      " [ 119  -97  -58   31  116]\n",
      " [  14  103  116 -120   73]\n",
      " [ 118  -51  -80 -117   93]\n",
      " [-112  -47   98 -115  -90]\n",
      " [-100   22  -33  121   25]\n",
      " [ -40   26   -1  -91   36]\n",
      " [ -58   67  125 -118 -114]\n",
      " [-127 -127  -30  -42  -67]\n",
      " [  87 -126  -26 -109  -66]\n",
      " [ -64  -55  -19   11  -26]\n",
      " [ -52    9    9  -97   18]\n",
      " [ 114   -6  110  106   -3]\n",
      " [  80  -65   93   21  -53]\n",
      " [  95   24   63  -51  -71]\n",
      " [ -34  -56  -38   -2  -47]\n",
      " [  86   17   59  121  127]]\n"
     ]
    }
   ],
   "source": [
    "def reshape(my_array):\n",
    "    ''' method takes an array of size 1000 and reshapes the array into a set of five columns with \n",
    "        200 rows.''' \n",
    "    \n",
    "    new_array = np.reshape(my_array, (200, 5))\n",
    "        \n",
    "    return new_array\n",
    "\n",
    "ar = reshape(ar)\n",
    "\n",
    "print(ar)"
   ]
  },
  {
   "cell_type": "code",
   "execution_count": null,
   "metadata": {
    "deletable": false,
    "editable": false,
    "nbgrader": {
     "cell_type": "code",
     "checksum": "d0a6ba802c2b59e5c846b9ad8ab7beea",
     "grade": true,
     "grade_id": "cell-5ee412cb4b703023",
     "locked": true,
     "points": 5,
     "schema_version": 3,
     "solution": false
    }
   },
   "outputs": [],
   "source": [
    "### Autograded cells. Do not remove."
   ]
  },
  {
   "cell_type": "markdown",
   "metadata": {
    "deletable": false,
    "editable": false,
    "nbgrader": {
     "cell_type": "markdown",
     "checksum": "3b160b825461519e08bd4682ca7ce551",
     "grade": false,
     "grade_id": "cell-a32291f630413c09",
     "locked": true,
     "schema_version": 3,
     "solution": false
    }
   },
   "source": [
    "B. Now that `ar` is a matrix, create a function named ```row_min_max``` to get the maximum and minimum values from the matrix, row wise. This function returns a tuple of a list of row max values and a list of row min values (in that order). Be sure to remember how many total values you should be outputting (one for every row).\n",
    "\n",
    "For example: if my_matrix is:\n",
    "\n",
    "```\n",
    "4 1 5\n",
    "5 6 7\n",
    "4 5 6\n",
    "```\n",
    "\n",
    "\n",
    "The returned value should be:\n",
    "\n",
    "```\n",
    "([5,7,6], [1,5,4])\n",
    "```"
   ]
  },
  {
   "cell_type": "code",
   "execution_count": null,
   "metadata": {
    "deletable": false,
    "nbgrader": {
     "cell_type": "code",
     "checksum": "14031178142d305a5d96ea6af7cd21f5",
     "grade": false,
     "grade_id": "cell-b471db922002b45e",
     "locked": false,
     "schema_version": 3,
     "solution": true
    }
   },
   "outputs": [],
   "source": [
    "def row_min_max(my_matrix):\n",
    "    ''' method gets the maximum and minimum values from the matrix, row wise.''' \n",
    "        \n",
    "    max_list = []\n",
    "    min_list = []\n",
    "    \n",
    "    for row in my_matrix:\n",
    "        \n",
    "        max_list.append( max (row) )\n",
    "        min_list.append( min (row) )\n",
    "    \n",
    "    max_min = (max_list, min_list)\n",
    "    \n",
    "    return max_min\n",
    "    \n",
    "row_min_max(ar)"
   ]
  },
  {
   "cell_type": "code",
   "execution_count": null,
   "metadata": {
    "deletable": false,
    "editable": false,
    "nbgrader": {
     "cell_type": "code",
     "checksum": "a98b87f8553a85a20d50e3a482bf7c7b",
     "grade": true,
     "grade_id": "cell-954080f6af7c07aa",
     "locked": true,
     "points": 5,
     "schema_version": 3,
     "solution": false
    }
   },
   "outputs": [],
   "source": [
    "### Autograded cells. Do not remove."
   ]
  },
  {
   "cell_type": "code",
   "execution_count": null,
   "metadata": {
    "deletable": false,
    "editable": false,
    "nbgrader": {
     "cell_type": "code",
     "checksum": "81d52b2c35332d1b0cfc642d02cfac8f",
     "grade": true,
     "grade_id": "cell-43f412becdd55cd9",
     "locked": true,
     "points": 5,
     "schema_version": 3,
     "solution": false
    }
   },
   "outputs": [],
   "source": [
    "### Autograded cells. Do not remove."
   ]
  },
  {
   "cell_type": "markdown",
   "metadata": {
    "deletable": false,
    "editable": false,
    "nbgrader": {
     "cell_type": "markdown",
     "checksum": "3430c4a82ac0e976863cf2062ead141b",
     "grade": false,
     "grade_id": "cell-7c427d8be0250ebb",
     "locked": true,
     "schema_version": 3,
     "solution": false
    }
   },
   "source": [
    "C. Write a function named ```less_than_mean``` that returns the total **number** of values in the `ar` matrix that are less than the mean of all values in the matrix. This should be a single number."
   ]
  },
  {
   "cell_type": "code",
   "execution_count": 8,
   "metadata": {
    "deletable": false,
    "nbgrader": {
     "cell_type": "code",
     "checksum": "8e3e66d5c6f588f46bb865088d340098",
     "grade": false,
     "grade_id": "cell-94c5aa4964f3d1f2",
     "locked": false,
     "schema_version": 3,
     "solution": true
    }
   },
   "outputs": [
    {
     "name": "stdout",
     "output_type": "stream",
     "text": [
      "502\n"
     ]
    }
   ],
   "source": [
    "def calculate_mean(my_matrix, total):\n",
    "    ''' calculate the mean of the matrix '''\n",
    "    mean = 0\n",
    "    \n",
    "    for row in my_matrix:\n",
    "        sum_total = sum(row)\n",
    "        \n",
    "    mean = sum_total / total\n",
    "       \n",
    "    return mean\n",
    "\n",
    "def less_than_mean(my_matrix):\n",
    "    # YOUR CODE HERE\n",
    "    # raise NotImplementedError()\n",
    "    \n",
    "    mean = calculate_mean(my_matrix, my_matrix.size)\n",
    "    less_than_mean = 0\n",
    "    \n",
    "    for row in my_matrix:\n",
    "        for num in row:\n",
    "            if num < mean:\n",
    "                less_than_mean += 1\n",
    "    \n",
    "    return less_than_mean\n",
    "\n",
    "print(less_than_mean(ar))"
   ]
  },
  {
   "cell_type": "code",
   "execution_count": null,
   "metadata": {
    "deletable": false,
    "editable": false,
    "nbgrader": {
     "cell_type": "code",
     "checksum": "66d6195ded054dd9f8100fc2ef997971",
     "grade": true,
     "grade_id": "cell-68acd2e1a791ca95",
     "locked": true,
     "points": 5,
     "schema_version": 3,
     "solution": false
    }
   },
   "outputs": [],
   "source": [
    "### Autograded cells. Do not remove."
   ]
  },
  {
   "cell_type": "markdown",
   "metadata": {
    "deletable": false,
    "editable": false,
    "nbgrader": {
     "cell_type": "markdown",
     "checksum": "3757008b5f6d3b492b3798b146b0a1f1",
     "grade": false,
     "grade_id": "cell-d8a6701aeae23f71",
     "locked": true,
     "schema_version": 3,
     "solution": false
    }
   },
   "source": [
    "D. Write a function called ```max_position``` that returns the position (as a tuple) of the max value in the passed matrix. \n",
    "\n",
    "For example: if ```my_matrix``` is:\n",
    "```\n",
    "4 1 5\n",
    "5 6 7\n",
    "4 5 6\n",
    "```\n",
    "The returned value should be:\n",
    "```\n",
    "(1, 2)\n",
    "```"
   ]
  },
  {
   "cell_type": "code",
   "execution_count": 26,
   "metadata": {
    "deletable": false,
    "nbgrader": {
     "cell_type": "code",
     "checksum": "0f0f43392b91ce2ecd8efb3b7c0ab73d",
     "grade": false,
     "grade_id": "cell-dd7e2cf875c5c658",
     "locked": false,
     "schema_version": 3,
     "solution": true
    }
   },
   "outputs": [
    {
     "name": "stdout",
     "output_type": "stream",
     "text": [
      "(199, 4)\n"
     ]
    }
   ],
   "source": [
    "\n",
    "def max_position(my_matrix):\n",
    "    ''' returns postion of largest value in the matrix ''' \n",
    "    max_value = 0\n",
    "    \n",
    "    # loop the rows to find the largest value\n",
    "    for row in my_matrix:\n",
    "        if max_value < max(row):\n",
    "            max_value = max(row)\n",
    "    \n",
    "    # loop the rows\n",
    "    for row in range(200):\n",
    "        # loop the col\n",
    "        for col in range(5):\n",
    "            if my_matrix[row][col] == max_value:\n",
    "                return (row, col)\n",
    "    \n",
    "print(max_position(ar))\n"
   ]
  },
  {
   "cell_type": "code",
   "execution_count": null,
   "metadata": {
    "deletable": false,
    "editable": false,
    "nbgrader": {
     "cell_type": "code",
     "checksum": "bfa56824fb183a1a94a2448555c26944",
     "grade": true,
     "grade_id": "cell-2f68514d7603a461",
     "locked": true,
     "points": 5,
     "schema_version": 3,
     "solution": false
    }
   },
   "outputs": [],
   "source": [
    "### Autograded cells. Do not remove."
   ]
  },
  {
   "cell_type": "markdown",
   "metadata": {
    "deletable": false,
    "editable": false,
    "nbgrader": {
     "cell_type": "markdown",
     "checksum": "2b8dc64363d7e8d911bdfb397d6ccc6c",
     "grade": false,
     "grade_id": "cell-6391ee7588430f0b",
     "locked": true,
     "schema_version": 3,
     "solution": false
    }
   },
   "source": [
    "E. Lastly, write a function named ```select_sum``` that returns the sum of all the values of a boolean array indexed `ar` matrix. Use the boolean array index of the `ar` matrix by: \n",
    "- values greater than 100 -boolean or-\n",
    "- values less than 5 -boolean and- greater than or equal to -20"
   ]
  },
  {
   "cell_type": "code",
   "execution_count": 25,
   "metadata": {
    "deletable": false,
    "nbgrader": {
     "cell_type": "code",
     "checksum": "cfe320f577bdf2436c22a8c49d47d380",
     "grade": false,
     "grade_id": "cell-e4d8cc0f8b6aaaa7",
     "locked": false,
     "schema_version": 3,
     "solution": true
    }
   },
   "outputs": [
    {
     "data": {
      "text/plain": [
       "array([-110,  -76,  -63,   60,  -90], dtype=int8)"
      ]
     },
     "execution_count": 25,
     "metadata": {},
     "output_type": "execute_result"
    }
   ],
   "source": [
    "def select_sum(my_matrix):\n",
    "    ''' returns the sum of all the values greater than 100 or less than 5 or equal to 20 ''' \n",
    "\n",
    "    sum = 0\n",
    "    \n",
    "    # loop the matrix\n",
    "    for i in my_matrix:\n",
    "        # if greater than 100 \n",
    "        if [my_matrix > 100]:\n",
    "            sum += i\n",
    "        \n",
    "    return sum   \n",
    "\n",
    "select_sum(ar)"
   ]
  },
  {
   "cell_type": "code",
   "execution_count": null,
   "metadata": {
    "deletable": false,
    "editable": false,
    "nbgrader": {
     "cell_type": "code",
     "checksum": "a4667a70edbabd1487742435582a49ee",
     "grade": true,
     "grade_id": "cell-e39d29342e27b90c",
     "locked": true,
     "points": 5,
     "schema_version": 3,
     "solution": false
    }
   },
   "outputs": [],
   "source": [
    "### Autograded cells. Do not remove."
   ]
  },
  {
   "cell_type": "code",
   "execution_count": null,
   "metadata": {
    "deletable": false,
    "editable": false,
    "nbgrader": {
     "cell_type": "code",
     "checksum": "8a2b01ed90aca2a4082960bfa18c6c31",
     "grade": true,
     "grade_id": "cell-dbf2b3b44a75122f",
     "locked": true,
     "points": 10,
     "schema_version": 3,
     "solution": false
    }
   },
   "outputs": [],
   "source": [
    "### Autograded cells. Do not remove."
   ]
  },
  {
   "cell_type": "markdown",
   "metadata": {
    "deletable": false,
    "editable": false,
    "nbgrader": {
     "cell_type": "markdown",
     "checksum": "dbe9e8fcd08a097b743e439cb81c6c33",
     "grade": false,
     "grade_id": "cell-3eafc252df099313",
     "locked": true,
     "schema_version": 3,
     "solution": false
    }
   },
   "source": [
    "## 3. Data loading and indexing using Pandas (30 points)"
   ]
  },
  {
   "cell_type": "markdown",
   "metadata": {
    "deletable": false,
    "editable": false,
    "nbgrader": {
     "cell_type": "markdown",
     "checksum": "37484d8219f88597d9470fe8f49cb919",
     "grade": false,
     "grade_id": "cell-b1ae895eef6e2aed",
     "locked": true,
     "schema_version": 3,
     "solution": false
    }
   },
   "source": [
    "A. For this part of the homework, we will work with the airline safety dataset. As the first step, load the dataset from `airline-safety.csv` by defining the `load_data` function below. Have this function return the following (in order):\n",
    "\n",
    "1. The entire data frame\n",
    "2. Total number of rows\n",
    "3. Total number of columns"
   ]
  },
  {
   "cell_type": "code",
   "execution_count": 2,
   "metadata": {
    "deletable": false,
    "nbgrader": {
     "cell_type": "code",
     "checksum": "a048bf5f1f97799860737b76d554d3f8",
     "grade": false,
     "grade_id": "cell-ef6a22dec940a01a",
     "locked": false,
     "schema_version": 3,
     "solution": true
    }
   },
   "outputs": [
    {
     "data": {
      "text/html": [
       "<div>\n",
       "<style scoped>\n",
       "    .dataframe tbody tr th:only-of-type {\n",
       "        vertical-align: middle;\n",
       "    }\n",
       "\n",
       "    .dataframe tbody tr th {\n",
       "        vertical-align: top;\n",
       "    }\n",
       "\n",
       "    .dataframe thead th {\n",
       "        text-align: right;\n",
       "    }\n",
       "</style>\n",
       "<table border=\"1\" class=\"dataframe\">\n",
       "  <thead>\n",
       "    <tr style=\"text-align: right;\">\n",
       "      <th></th>\n",
       "      <th>airline</th>\n",
       "      <th>avail_seat_km_per_week</th>\n",
       "      <th>incidents_85_99</th>\n",
       "      <th>fatal_accidents_85_99</th>\n",
       "      <th>fatalities_85_99</th>\n",
       "      <th>incidents_00_14</th>\n",
       "      <th>fatal_accidents_00_14</th>\n",
       "      <th>fatalities_00_14</th>\n",
       "    </tr>\n",
       "  </thead>\n",
       "  <tbody>\n",
       "    <tr>\n",
       "      <th>0</th>\n",
       "      <td>Aer Lingus</td>\n",
       "      <td>320906734</td>\n",
       "      <td>2</td>\n",
       "      <td>0</td>\n",
       "      <td>0</td>\n",
       "      <td>0</td>\n",
       "      <td>0</td>\n",
       "      <td>0</td>\n",
       "    </tr>\n",
       "    <tr>\n",
       "      <th>1</th>\n",
       "      <td>Aeroflot*</td>\n",
       "      <td>1197672318</td>\n",
       "      <td>76</td>\n",
       "      <td>14</td>\n",
       "      <td>128</td>\n",
       "      <td>6</td>\n",
       "      <td>1</td>\n",
       "      <td>88</td>\n",
       "    </tr>\n",
       "    <tr>\n",
       "      <th>2</th>\n",
       "      <td>Aerolineas Argentinas</td>\n",
       "      <td>385803648</td>\n",
       "      <td>6</td>\n",
       "      <td>0</td>\n",
       "      <td>0</td>\n",
       "      <td>1</td>\n",
       "      <td>0</td>\n",
       "      <td>0</td>\n",
       "    </tr>\n",
       "    <tr>\n",
       "      <th>3</th>\n",
       "      <td>Aeromexico*</td>\n",
       "      <td>596871813</td>\n",
       "      <td>3</td>\n",
       "      <td>1</td>\n",
       "      <td>64</td>\n",
       "      <td>5</td>\n",
       "      <td>0</td>\n",
       "      <td>0</td>\n",
       "    </tr>\n",
       "    <tr>\n",
       "      <th>4</th>\n",
       "      <td>Air Canada</td>\n",
       "      <td>1865253802</td>\n",
       "      <td>2</td>\n",
       "      <td>0</td>\n",
       "      <td>0</td>\n",
       "      <td>2</td>\n",
       "      <td>0</td>\n",
       "      <td>0</td>\n",
       "    </tr>\n",
       "  </tbody>\n",
       "</table>\n",
       "</div>"
      ],
      "text/plain": [
       "                 airline  avail_seat_km_per_week  incidents_85_99  \\\n",
       "0             Aer Lingus               320906734                2   \n",
       "1              Aeroflot*              1197672318               76   \n",
       "2  Aerolineas Argentinas               385803648                6   \n",
       "3            Aeromexico*               596871813                3   \n",
       "4             Air Canada              1865253802                2   \n",
       "\n",
       "   fatal_accidents_85_99  fatalities_85_99  incidents_00_14  \\\n",
       "0                      0                 0                0   \n",
       "1                     14               128                6   \n",
       "2                      0                 0                1   \n",
       "3                      1                64                5   \n",
       "4                      0                 0                2   \n",
       "\n",
       "   fatal_accidents_00_14  fatalities_00_14  \n",
       "0                      0                 0  \n",
       "1                      1                88  \n",
       "2                      0                 0  \n",
       "3                      0                 0  \n",
       "4                      0                 0  "
      ]
     },
     "execution_count": 2,
     "metadata": {},
     "output_type": "execute_result"
    }
   ],
   "source": [
    "\n",
    "import pandas as pd \n",
    "\n",
    "def load_data():\n",
    "    ''' method to load data from file ''' \n",
    "    # YOUR CODE HERE\n",
    "    # load data frame\n",
    "    \n",
    "    df = pd.read_csv('airline-safety.csv')\n",
    "    # load rows    \n",
    "    num_rows = df.shape[0]\n",
    "    # load cols\n",
    "    num_cols = df.shape[1]\n",
    "    \n",
    "    return(df, num_rows, num_cols)\n",
    "\n",
    "df, num_rows, num_cols = load_data()\n",
    "\n",
    "df.head()\n",
    "\n"
   ]
  },
  {
   "cell_type": "code",
   "execution_count": null,
   "metadata": {
    "deletable": false,
    "editable": false,
    "nbgrader": {
     "cell_type": "code",
     "checksum": "8d6dece2ce5396296f55056d0d4e8448",
     "grade": true,
     "grade_id": "cell-5512005b0518cb19",
     "locked": true,
     "points": 3,
     "schema_version": 3,
     "solution": false
    }
   },
   "outputs": [],
   "source": [
    "### Autograded cells. Do not remove."
   ]
  },
  {
   "cell_type": "code",
   "execution_count": null,
   "metadata": {
    "deletable": false,
    "editable": false,
    "nbgrader": {
     "cell_type": "code",
     "checksum": "dcdeb526ba6cb94cb43029c8d9181c81",
     "grade": true,
     "grade_id": "cell-e38b3d9cf3848445",
     "locked": true,
     "points": 3,
     "schema_version": 3,
     "solution": false
    }
   },
   "outputs": [],
   "source": [
    "### Autograded cells. Do not remove."
   ]
  },
  {
   "cell_type": "code",
   "execution_count": null,
   "metadata": {
    "deletable": false,
    "editable": false,
    "nbgrader": {
     "cell_type": "code",
     "checksum": "e985aa3e9f73251a6a7b579d5e7add61",
     "grade": true,
     "grade_id": "cell-e638ee9afc9eda4c",
     "locked": true,
     "points": 4,
     "schema_version": 3,
     "solution": false
    }
   },
   "outputs": [],
   "source": [
    "### Autograded cells. Do not remove."
   ]
  },
  {
   "cell_type": "markdown",
   "metadata": {
    "deletable": false,
    "editable": false,
    "nbgrader": {
     "cell_type": "markdown",
     "checksum": "76482fcd9078016d81563642da23ae88",
     "grade": false,
     "grade_id": "cell-274266303e7099d3",
     "locked": true,
     "schema_version": 3,
     "solution": false
    }
   },
   "source": [
    "B. Write the function `select_airlines` that returns the ith to jth airline name as a **list** (both inclusive) from the dataframe. \n",
    "\n",
    "For example: if i=2 and j=5, your code should return 4 airline names: airline name from the 3rd, 4th, 5th and 6th row (assuming that the first row starts from 0). \n",
    "\n",
    "##### Note on loc and iloc\n",
    "\n",
    "Selection Using Label:\n",
    "\n",
    "To select a column of a DataFrame by column label, the safest and fastest way is to use the .loc method. General usage looks like frame.loc[rowname,colname]. (Reminder that the colon : means \"everything\"). For example, if we want the color column of a data frame, we would use : ex.loc[:, 'color']\n",
    "\n",
    "You can also slice across columns. For example, frame.loc[:, 'Name':] would give select the columns Name and the columns after.\n"
   ]
  },
  {
   "cell_type": "code",
   "execution_count": 3,
   "metadata": {
    "deletable": false,
    "nbgrader": {
     "cell_type": "code",
     "checksum": "f10cba62fb27409f107df241986a552f",
     "grade": false,
     "grade_id": "cell-c7c0518e6cbd3979",
     "locked": false,
     "schema_version": 3,
     "solution": true
    }
   },
   "outputs": [
    {
     "data": {
      "text/plain": [
       "['Aerolineas Argentinas', 'Aeromexico*', 'Air Canada', 'Air France']"
      ]
     },
     "execution_count": 3,
     "metadata": {},
     "output_type": "execute_result"
    }
   ],
   "source": [
    "def select_airlines(df, i, j):\n",
    "    ''' method returns the ith to jth airline name as a list ''' \n",
    "    \n",
    "    # frame.loc[row, col]\n",
    "    airline_names = list(df.loc[i:j,'airline'])\n",
    "    \n",
    "    return(airline_names)    \n",
    "\n",
    "sliced_df = select_airlines(df, 2, 5)\n",
    "\n",
    "sliced_df\n"
   ]
  },
  {
   "cell_type": "code",
   "execution_count": null,
   "metadata": {
    "deletable": false,
    "editable": false,
    "nbgrader": {
     "cell_type": "code",
     "checksum": "2d3da4d229ec864240854f3f93818d1e",
     "grade": true,
     "grade_id": "cell-b16eb5d2ca860801",
     "locked": true,
     "points": 5,
     "schema_version": 3,
     "solution": false
    }
   },
   "outputs": [],
   "source": [
    "### Autograded cells. Do not remove."
   ]
  },
  {
   "cell_type": "code",
   "execution_count": null,
   "metadata": {
    "deletable": false,
    "editable": false,
    "nbgrader": {
     "cell_type": "code",
     "checksum": "327c1d06a3b8d99d5ce4e481d074983b",
     "grade": true,
     "grade_id": "cell-22bc6e87acd50834",
     "locked": true,
     "points": 5,
     "schema_version": 3,
     "solution": false
    }
   },
   "outputs": [],
   "source": [
    "### Autograded cells. Do not remove."
   ]
  },
  {
   "cell_type": "markdown",
   "metadata": {
    "deletable": false,
    "editable": false,
    "nbgrader": {
     "cell_type": "markdown",
     "checksum": "df355b5cb9fbc09c639390f6a54e5ff5",
     "grade": false,
     "grade_id": "cell-c734a84d4bbfbfb2",
     "locked": true,
     "schema_version": 3,
     "solution": false
    }
   },
   "source": [
    "C. Filtering or slicing with boolean arrays\n",
    "\n",
    "In your quest for cleaner data, you will undoubtedly filter your data at some point: whether it be for clearing up cases with missing values, culling out fishy outliers, or analyzing subgroups of your data set. Note: compound expressions have to be grouped with parentheses. \n",
    "\n",
    "A filter example:  \n",
    "`df[df[column name] < 5]]`\n",
    "\n",
    "Write the function `fatalities_filter` to return just the airline names with more than 100 and less than 300 fatalities, between the years 85 and 99. Your function needs to return a **list** of **airline names only**."
   ]
  },
  {
   "cell_type": "code",
   "execution_count": 4,
   "metadata": {
    "deletable": false,
    "nbgrader": {
     "cell_type": "code",
     "checksum": "2523fb3331a917ed998399ee77b79a95",
     "grade": false,
     "grade_id": "cell-4b18133b2693dc16",
     "locked": false,
     "schema_version": 3,
     "solution": true
    }
   },
   "outputs": [
    {
     "data": {
      "text/plain": [
       "['Aeroflot*',\n",
       " 'American*',\n",
       " 'Egyptair',\n",
       " 'Ethiopian Airlines',\n",
       " 'Garuda Indonesia',\n",
       " 'Iberia',\n",
       " 'Pakistan International',\n",
       " 'South African',\n",
       " 'SWISS*',\n",
       " 'US Airways / America West*',\n",
       " 'Vietnam Airlines']"
      ]
     },
     "execution_count": 4,
     "metadata": {},
     "output_type": "execute_result"
    }
   ],
   "source": [
    "def fatalities_filter(df):\n",
    "    ''' method return just the airline names with more than 100 and less than 300 fatalities, \n",
    "        between the years 85 and 99. '''\n",
    "    \n",
    "    airlines_names = list(\n",
    "        # return just the airline names with more than 100 and less than 300 fatalities, \n",
    "        # between the years 85 and 99.\n",
    "        df [ df ['fatalities_85_99'].between(100, 300)] ['airline'] )\n",
    "    \n",
    "    return(airlines_names)\n",
    "\n",
    "fatalities_filter(df)"
   ]
  },
  {
   "cell_type": "code",
   "execution_count": null,
   "metadata": {
    "deletable": false,
    "editable": false,
    "nbgrader": {
     "cell_type": "code",
     "checksum": "6d814adfbdd545ca22bfd09e440860ae",
     "grade": true,
     "grade_id": "cell-1791d836b0f19870",
     "locked": true,
     "points": 10,
     "schema_version": 3,
     "solution": false
    }
   },
   "outputs": [],
   "source": [
    "### Autograded cells. Do not remove."
   ]
  },
  {
   "cell_type": "markdown",
   "metadata": {
    "deletable": false,
    "editable": false,
    "nbgrader": {
     "cell_type": "markdown",
     "checksum": "bad0de3b400629d5db5cfae61133ef5e",
     "grade": false,
     "grade_id": "cell-e6c080c80504b5d1",
     "locked": true,
     "schema_version": 3,
     "solution": false
    }
   },
   "source": [
    "## If you have feedback for this homework, please submit it using the link below:\n",
    "\n",
    "http://goo.gl/forms/74yCiQTf6k"
   ]
  }
 ],
 "metadata": {
  "anaconda-cloud": {},
  "kernelspec": {
   "display_name": "Python 3",
   "language": "python",
   "name": "python3"
  },
  "language_info": {
   "codemirror_mode": {
    "name": "ipython",
    "version": 3
   },
   "file_extension": ".py",
   "mimetype": "text/x-python",
   "name": "python",
   "nbconvert_exporter": "python",
   "pygments_lexer": "ipython3",
   "version": "3.8.8"
  }
 },
 "nbformat": 4,
 "nbformat_minor": 1
}
