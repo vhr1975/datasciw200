{
 "cells": [
  {
   "cell_type": "markdown",
   "metadata": {
    "deletable": false,
    "editable": false,
    "nbgrader": {
     "cell_type": "markdown",
     "checksum": "c256a997490a91f0708490a794d55a2b",
     "grade": false,
     "grade_id": "cell-76038a88b4d3af8c",
     "locked": true,
     "schema_version": 3,
     "solution": false
    }
   },
   "source": [
    "## Unit 9 Assignment - W200 Introduction to Data Science Programming, UC Berkeley MIDS\n",
    "\n",
    "Write code in this Jupyter Notebook to solve the following problems. Please upload this **Notebook** with your solutions to your GitHub repository in your SUBMISSIONS/week_10 folder by 11:59PM PST the night before class.  Do not upload the data files or the answer .csv (we want your notebook to make the answers when we run it)"
   ]
  },
  {
   "cell_type": "markdown",
   "metadata": {
    "deletable": false,
    "editable": false,
    "nbgrader": {
     "cell_type": "markdown",
     "checksum": "c23f7fc9d9970d3da7cc114e7d58d8de",
     "grade": false,
     "grade_id": "cell-ae5d30c3c3f47580",
     "locked": true,
     "schema_version": 3,
     "solution": false
    }
   },
   "source": [
    "This homework assignment is assigned during Week 10 but corresponds to the Unit #9 async."
   ]
  },
  {
   "cell_type": "markdown",
   "metadata": {
    "deletable": false,
    "editable": false,
    "nbgrader": {
     "cell_type": "markdown",
     "checksum": "6b52c4ac0395c1e0a459473b439e2153",
     "grade": false,
     "grade_id": "cell-5977c1d8f1d55d67",
     "locked": true,
     "schema_version": 3,
     "solution": false
    }
   },
   "source": [
    "## Objectives\n",
    "\n",
    "- Demonstrate how to import different data files\n",
    "- Get a small glimpse on how messy data can be\n",
    "- Design and implement an algorithm to standardize the information and fix the messiness\n",
    "- Work with Python data structures to sort and output the correct information\n",
    "- Demonstrate how to export required information to a .csv file"
   ]
  },
  {
   "cell_type": "markdown",
   "metadata": {
    "deletable": false,
    "editable": false,
    "nbgrader": {
     "cell_type": "markdown",
     "checksum": "2c14663ff2d7819ac8f8abe12c58dd5e",
     "grade": false,
     "grade_id": "cell-f3df226b1112e4f1",
     "locked": true,
     "schema_version": 3,
     "solution": false
    }
   },
   "source": [
    "## Reading and Writing Data (25 Points)\n",
    "\n",
    "In this assignment, you will be reading and writing data. Yes, finally some data science (or at least some exploratory data analysis)! In the week_10 assignment folder, there are three data files named: \n",
    "\n",
    "* data.csv\n",
    "* data.json\n",
    "* data.pkl\n",
    "\n",
    "These are three common file formats. You can run the following **on the bash command line** to see what is in each file (this will not work from a Windows prompt but will work in git bash):\n",
    "\n",
    "```sh\n",
    "head data.csv\n",
    "head data.pkl\n",
    "head data.json\n",
    "```\n",
    "\n",
    "You'll see that there is some method to the madness but that each file format has its peculiarities. Each file contains a portion of the total dataset that altogether comprises 100 records, so you need to **read in all of the files and combine them into some standard format** with which you are comfortable. Aim for something standard where each \"row\" is represented in the same format. **Name this object that contains the data for all three files combined ```full_data```**\n",
    "\n",
    "### Questions to answer (75 points: each question is worth 15 points):\n",
    "After you've standardized all of the data, report the following information: \n",
    "\n",
    "1. What are the unique countries in the dataset, sorted alphabetically?  Write to a new file called question_1.csv.\n",
    "2. What are the unique complete email domains in the dataset, sorted alphabetically?  Write to a new file called question_2.csv. \n",
    "3. What are the first names of everyone (including duplicates) that do not have a P.O. Box address, sorted alphabetically?  Write to a new file called question_3.csv.\n",
    "4. What are the full names of the first 5 people when you sort the data alphabetically by country?  Write to a new file called question_4.csv.\n",
    "5. What are the full names of the first 5 people when you sort the data numerically ascending by phone number?  Write to a new file called question_5.csv.\n",
    "\n",
    "We will be using a script to examine and grade your .csv files so please make sure: \n",
    "- The answers are all in one **column** with one list item per cell, sorted as stated in the question. I.e., looking at the .csv in a spreadsheet editor like Google Sheets, all answers would be in the 'A' column, with the first entry in A1, the second in A2, etc.\n",
    "- Please do not include a header; just the answers to the questions.\n",
    "- It is strongly recommended that you open each .csv file to ensure the answers are there and displayed correctly! \n",
    "- Don't include quotes around the list items.  I.e., strip the leading and trailing quotes, if necessary, from items when you write to the .csv files.  For example, a list entry should look like ```Spain``` rather than ```\"Spain\"```. One exception: Some country names do contain commas and it is ok to have quotes: ```\"\"``` around just those country names so that they will be in one cell in the .csv. \n",
    "\n",
    "\n",
    "In addition, show all of your work in this **Jupyter notebook**."
   ]
  },
  {
   "cell_type": "markdown",
   "metadata": {
    "deletable": false,
    "editable": false,
    "nbgrader": {
     "cell_type": "markdown",
     "checksum": "635f227045350bca94591906e3873ad2",
     "grade": false,
     "grade_id": "cell-ad4b864c26503a51",
     "locked": true,
     "schema_version": 3,
     "solution": false
    }
   },
   "source": [
    "### Assumptions\n",
    "\n",
    "- You might have to make decisions about the data. For example, what to do with ties or how to sort the phone numbers numerically. \n",
    "- Write your assumptions in this Jupyter notebook at the top of your code under the heading below that says ASSUMPTIONS\n",
    "- Please do some research before making an assumption (e.g. what is a domain name?); put your notes inside that assumption so we can understand your thought process. \n",
    "  - NOTE: If you don't know what an email domain is - do some research and write what you found in your assumptions; there is a correct answer to this question! \n",
    "- This is a good habit to do as you analyze data so that you can remember why you made the decisions you did and other people can follow your analysis later!"
   ]
  },
  {
   "cell_type": "markdown",
   "metadata": {
    "deletable": false,
    "editable": false,
    "nbgrader": {
     "cell_type": "markdown",
     "checksum": "57450666cda1cb410247d946aa6801fe",
     "grade": false,
     "grade_id": "cell-ac3d57f37fc71750",
     "locked": true,
     "schema_version": 3,
     "solution": false
    }
   },
   "source": [
    "### Restrictions\n",
    "You should use these standard library imports:\n",
    "\n",
    "```python\n",
    "import json\n",
    "import csv\n",
    "import pickle\n",
    "```\n",
    "\n",
    "Some of you may be familiar with a Python package called `pandas` which would greatly speed up this sort of file processing.  The point of this homework is to do the work manually.  You can use `pandas` to independently check your work if you are so inclined but do not use `pandas` as the sole solution method. Don't worry if you are not familiar with `pandas`.  We will do this homework as a class exercise using `pandas` in the near future."
   ]
  },
  {
   "cell_type": "markdown",
   "metadata": {
    "deletable": false,
    "editable": false,
    "nbgrader": {
     "cell_type": "markdown",
     "checksum": "86514456a34f356155016417a7d3a6e8",
     "grade": false,
     "grade_id": "cell-f8df9d752522f9cd",
     "locked": true,
     "schema_version": 3,
     "solution": false
    }
   },
   "source": [
    "### Hints (optional)\n",
    "\n",
    "- You may use regular expressions if you wish to extract data from each row. You do not need to use them if you do not want to or see a need to. The Python regular expression module is called `re`.\n",
    "- You may want to use the operator library or the sorted function to help in sorting.\n",
    "- There are many data structures and formats that you might use to solve this problem.  You will have to decide if you want to keep the information for each person together as one record or all the information for each of the fields together.\n",
    "- You can put these files into sensible structures such as lists or or dictionaries. The async covers how to do this for csv and json. For pickle this might help https://wiki.python.org/moin/UsingPickle \n",
    "- .items() or .key() can be useful for dictionaries\n",
    "- Once again, it is strongly recommended that you open each .csv file to ensure the answers are there and displayed correctly! "
   ]
  },
  {
   "cell_type": "markdown",
   "metadata": {},
   "source": []
  },
  {
   "cell_type": "code",
   "execution_count": 1,
   "metadata": {
    "deletable": false,
    "nbgrader": {
     "cell_type": "code",
     "checksum": "97005fc8cbd95ef4164db798e727a63f",
     "grade": true,
     "grade_id": "cell-360398972d1182f1",
     "locked": false,
     "points": 0,
     "schema_version": 3,
     "solution": true
    }
   },
   "outputs": [],
   "source": [
    "\n",
    "# Your name here\n",
    "\n",
    "### ASSUMPTIONS:\n",
    "# Please write the assumptions here that you made during your data analysis\n",
    "# Please keep this code at the very top of your code block so we can easily see it while grading!\n",
    "\n",
    "# YOU MAY USE ANY NUMBER OF CELLS AS YOU NEED\n",
    "# YOUR CODE HERE\n",
    "# raise NotImplementedError()\n",
    "\n",
    "import json\n",
    "import csv\n",
    "import pickle\n",
    "from itertools import zip_longest\n",
    "import re\n",
    "\n",
    "full_data = []\n",
    "csv_data = []\n",
    "json_data = []\n",
    "pkl_data = []\n",
    "\n",
    "# opening CSV file\n",
    "with open('data.csv', 'r') as f:\n",
    "    # cvs_data.append(f.read())\n",
    "    reader = csv.reader(f)\n",
    "    csv_data = list(reader)\n",
    "\n",
    "# opening JSON file\n",
    "with open('data.json') as json_file:\n",
    "    full_data = json.load(json_file)\n",
    "\n",
    "# load pickle file\n",
    "pkl_data = pickle.load(open ('data.pkl', 'rb' ))\n",
    "\n",
    "newIndex = 00\n",
    "\n",
    "for index in range( len(csv_data) - 1 ):\n",
    "    \n",
    "    name = csv_data[index + 1 ][1]\n",
    "    phone = csv_data[index + 1 ][2]\n",
    "    address = csv_data[index + 1 ][3]\n",
    "    city = csv_data[index + 1 ][4]\n",
    "    country = csv_data[index + 1 ][5]\n",
    "    email = csv_data[index + 1 ][6]\n",
    "\n",
    "    # Using dictionary brackets\n",
    "    # Update nested dictionary keys\n",
    "    full_data['Name'][str(newIndex)] = name\n",
    "    full_data['Phone'][str(newIndex)] = phone\n",
    "    full_data['Address'][str(newIndex)] = address\n",
    "    full_data['City'][str(newIndex)] = city\n",
    "    full_data['Country'][str(newIndex)] = country\n",
    "    full_data['Email'][str(newIndex)] = email\n",
    "    newIndex += 1 \n",
    "   \n",
    "newIndex = 40 \n",
    "\n",
    "for index in range( len(pkl_data['Name'])):\n",
    "    \n",
    "    name = pkl_data['Name'][newIndex]\n",
    "    phone = pkl_data['Phone'][newIndex]\n",
    "    address = pkl_data['Address'][newIndex]\n",
    "    city = pkl_data['City'][newIndex]\n",
    "    country = pkl_data['Country'][newIndex]\n",
    "    email = pkl_data['Email'][newIndex]\n",
    "\n",
    "    # Using dictionary brackets\n",
    "    # Update nested dictionary keys\n",
    "    full_data['Name'][str(newIndex)] = name\n",
    "    full_data['Phone'][str(newIndex)] = phone\n",
    "    full_data['Address'][str(newIndex)] = address\n",
    "    full_data['City'][str(newIndex)] = city\n",
    "    full_data['Country'][str(newIndex)] = country\n",
    "    full_data['Email'][str(newIndex)] = email\n",
    "    newIndex += 1 \n",
    "\n",
    "uniqueCountries = set(full_data['Country'].values())\n",
    "uniqueCountries = list(uniqueCountries)\n",
    "uniqueCountries.sort()\n",
    "\n",
    "# write city list to csv file\n",
    "#########################################################################################\n",
    "countryList = uniqueCountries\n",
    "\n",
    "writeData = [countryList]\n",
    "exportData = zip_longest(*writeData, fillvalue = '')\n",
    "\n",
    "with open('question_1.csv', 'w', encoding=\"ISO-8859-1\", newline='') as myfile:\n",
    "      wr = csv.writer(myfile)      \n",
    "      wr.writerows(exportData)\n",
    "myfile.close()\n",
    "#########################################################################################\n",
    "\n",
    "rawEmailList = list(full_data['Email'].values())\n",
    "domainList = list()\n",
    "\n",
    "lowerEmail = (map(lambda x: x.lower(), rawEmailList))\n",
    "emailList = list(lowerEmail)\n",
    "\n",
    "for email in emailList:\n",
    "    # print(type(email))\n",
    "    if \"@\" in email:       \n",
    "       domain = \"@\" + email.split(\"@\")[-1]\n",
    "       domainList.append(domain)\n",
    "       \n",
    "uniqueDomains = set(domainList)\n",
    "uniqueDomains = list(uniqueDomains)\n",
    "uniqueDomains.sort()\n",
    "\n",
    "# write domain list to csv file\n",
    "#########################################################################################\n",
    "domainList = uniqueDomains\n",
    "\n",
    "writeData = [domainList]\n",
    "exportData = zip_longest(*writeData, fillvalue = '')\n",
    "\n",
    "with open('question_2.csv', 'w', encoding=\"ISO-8859-1\", newline='') as myfile:\n",
    "      wr = csv.writer(myfile)      \n",
    "      wr.writerows(exportData)\n",
    "myfile.close()\n",
    "#########################################################################################\n",
    "\n",
    "firstNames = list()\n",
    "\n",
    "# loop all the data\n",
    "for n in full_data['Name']:\n",
    "    # check if the address contains P.O. Box\n",
    "    if 'P.O. Box' not in full_data['Address'][n]:\n",
    "        firstLastName = full_data['Name'][n].split()        \n",
    "        firstNames.append(firstLastName[0])\n",
    "        \n",
    "firstNames.sort()\n",
    "\n",
    "# write first names list to csv file\n",
    "#########################################################################################\n",
    "\n",
    "writeData = [firstNames]\n",
    "exportData = zip_longest(*writeData, fillvalue = '')\n",
    "\n",
    "with open('question_3.csv', 'w', encoding=\"ISO-8859-1\", newline='') as myfile:\n",
    "      wr = csv.writer(myfile)      \n",
    "      wr.writerows(exportData)\n",
    "myfile.close()\n",
    "#########################################################################################\n",
    "\n",
    "sortedCountries = sorted( full_data['Country'].values()) \n",
    "\n",
    "sortedCountryList = list()\n",
    "sortedCountryList.append(sortedCountries[0])\n",
    "sortedCountryList.append(sortedCountries[1])\n",
    "sortedCountryList.append(sortedCountries[2])\n",
    "sortedCountryList.append(sortedCountries[3])\n",
    "sortedCountryList.append(sortedCountries[4])\n",
    "\n",
    "nameList = list()\n",
    "\n",
    "# loop all the data\n",
    "for n in full_data['Name']:\n",
    "    # check if the address contains P.O. Box\n",
    "    if full_data['Country'][n] in sortedCountryList and len(nameList) < 5:        \n",
    "        nameList.append(full_data['Name'][n]) \n",
    "        \n",
    "# write names list to csv file\n",
    "#########################################################################################\n",
    "\n",
    "writeData = [nameList]\n",
    "exportData = zip_longest(*writeData, fillvalue = '')\n",
    "\n",
    "with open('question_4.csv', 'w', encoding=\"ISO-8859-1\", newline='') as myfile:\n",
    "      wr = csv.writer(myfile)      \n",
    "      wr.writerows(exportData)\n",
    "myfile.close()\n",
    "\n",
    "#########################################################################################\n",
    "\n",
    "sortedPhone = sorted( full_data['Phone'].values()) \n",
    "\n",
    "sortedPhoneList = list()\n",
    "sortedPhoneList.append(sortedPhone[0])\n",
    "sortedPhoneList.append(sortedPhone[1])\n",
    "sortedPhoneList.append(sortedPhone[2])\n",
    "sortedPhoneList.append(sortedPhone[3])\n",
    "sortedPhoneList.append(sortedPhone[4])\n",
    "\n",
    "phoneList = list()\n",
    "\n",
    "# loop all the data\n",
    "for n in full_data['Name']:\n",
    "    # check if the address contains P.O. Box\n",
    "    if full_data['Phone'][n] in sortedPhoneList and len(phoneList) < 5:        \n",
    "        phoneList.append(full_data['Name'][n]) \n",
    "\n",
    "# write names list to csv file\n",
    "#########################################################################################\n",
    "\n",
    "writeData = [phoneList]\n",
    "exportData = zip_longest(*writeData, fillvalue = '')\n",
    "\n",
    "with open('question_5.csv', 'w', encoding=\"ISO-8859-1\", newline='') as myfile:\n",
    "      wr = csv.writer(myfile)      \n",
    "      wr.writerows(exportData)\n",
    "myfile.close()\n"
   ]
  },
  {
   "cell_type": "code",
   "execution_count": null,
   "metadata": {
    "deletable": false,
    "editable": false,
    "nbgrader": {
     "cell_type": "code",
     "checksum": "b72924766f14c62e1e59d2a7fa58fac9",
     "grade": true,
     "grade_id": "cell-74508624757f05eb",
     "locked": true,
     "points": 15,
     "schema_version": 3,
     "solution": false
    }
   },
   "outputs": [],
   "source": [
    "# Autograde cell - do not erase/delete"
   ]
  },
  {
   "cell_type": "code",
   "execution_count": null,
   "metadata": {
    "deletable": false,
    "editable": false,
    "nbgrader": {
     "cell_type": "code",
     "checksum": "61094a28e1c8a229ddc972e1decaaa7c",
     "grade": true,
     "grade_id": "cell-3279313500065f9f",
     "locked": true,
     "points": 10,
     "schema_version": 3,
     "solution": false
    }
   },
   "outputs": [],
   "source": [
    "# Autograde cell - do not erase/delete"
   ]
  },
  {
   "cell_type": "code",
   "execution_count": null,
   "metadata": {
    "deletable": false,
    "editable": false,
    "nbgrader": {
     "cell_type": "code",
     "checksum": "a9c88cdddbf58183e90a3778ad1fe5b4",
     "grade": true,
     "grade_id": "cell-3e8cd92ecc8d286f",
     "locked": true,
     "points": 15,
     "schema_version": 3,
     "solution": false
    }
   },
   "outputs": [],
   "source": [
    "# Autograde cell - do not erase/delete"
   ]
  },
  {
   "cell_type": "code",
   "execution_count": null,
   "metadata": {
    "deletable": false,
    "editable": false,
    "nbgrader": {
     "cell_type": "code",
     "checksum": "d6ead2aaf9e4412073744c9e8e307a9b",
     "grade": true,
     "grade_id": "cell-4c4abfb9df4037df",
     "locked": true,
     "points": 15,
     "schema_version": 3,
     "solution": false
    }
   },
   "outputs": [],
   "source": [
    "# Autograde cell - do not erase/delete"
   ]
  },
  {
   "cell_type": "code",
   "execution_count": null,
   "metadata": {
    "deletable": false,
    "editable": false,
    "nbgrader": {
     "cell_type": "code",
     "checksum": "e2db3c9236bccf54a1aca338f9a4607d",
     "grade": true,
     "grade_id": "cell-43e8a4cadc4f7f39",
     "locked": true,
     "points": 15,
     "schema_version": 3,
     "solution": false
    }
   },
   "outputs": [],
   "source": [
    "# Autograde cell - do not erase/delete"
   ]
  },
  {
   "cell_type": "code",
   "execution_count": null,
   "metadata": {
    "deletable": false,
    "editable": false,
    "nbgrader": {
     "cell_type": "code",
     "checksum": "cd709de9cced0764ed39edc63e0da0b9",
     "grade": true,
     "grade_id": "cell-e5bf902a45a8dd69",
     "locked": true,
     "points": 15,
     "schema_version": 3,
     "solution": false
    }
   },
   "outputs": [],
   "source": [
    "# Autograde cell - do not erase/delete"
   ]
  },
  {
   "cell_type": "code",
   "execution_count": null,
   "metadata": {
    "deletable": false,
    "editable": false,
    "nbgrader": {
     "cell_type": "code",
     "checksum": "b59a38d2f8056f5b6a3492a5e4525ea7",
     "grade": true,
     "grade_id": "cell-2f15bb137bfe5b16",
     "locked": true,
     "points": 15,
     "schema_version": 3,
     "solution": false
    }
   },
   "outputs": [],
   "source": [
    "# Autograde cell - do not erase/delete"
   ]
  }
 ],
 "metadata": {
  "anaconda-cloud": {},
  "interpreter": {
   "hash": "b3ba2566441a7c06988d0923437866b63cedc61552a5af99d1f4fb67d367b25f"
  },
  "kernelspec": {
   "display_name": "Python 3.8.8 32-bit ('base': conda)",
   "name": "python3"
  },
  "language_info": {
   "codemirror_mode": {
    "name": "ipython",
    "version": 3
   },
   "file_extension": ".py",
   "mimetype": "text/x-python",
   "name": "python",
   "nbconvert_exporter": "python",
   "pygments_lexer": "ipython3",
   "version": "3.8.8"
  }
 },
 "nbformat": 4,
 "nbformat_minor": 1
}
