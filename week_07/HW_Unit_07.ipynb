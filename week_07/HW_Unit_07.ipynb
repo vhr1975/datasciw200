{
 "cells": [
  {
   "cell_type": "markdown",
   "metadata": {
    "deletable": false,
    "editable": false,
    "nbgrader": {
     "cell_type": "markdown",
     "checksum": "7e8798bbe291cf264f775a05ad795f1d",
     "grade": false,
     "grade_id": "cell-527229cf042812ef",
     "locked": true,
     "schema_version": 3,
     "solution": false
    }
   },
   "source": [
    "## Week 7 Assignment - W200 Introduction to Data Science Programming, UC Berkeley MIDS\n",
    "\n",
    "Write code in this Jupyter Notebook to solve each of the following problems. Each problem should have its solution in a separate cell. Please upload this **Notebook** with your solutions to your GitHub repository in your SUBMISSIONS/week_07 folder by 11:59PM PST the night before the Unit 9 class (you have two weeks to complete this assignment)."
   ]
  },
  {
   "cell_type": "markdown",
   "metadata": {
    "deletable": false,
    "editable": false,
    "nbgrader": {
     "cell_type": "markdown",
     "checksum": "cadccc143ff9bf2d28a6f48ce9a1aba0",
     "grade": false,
     "grade_id": "cell-1b44a7b98ed62731",
     "locked": true,
     "schema_version": 3,
     "solution": false
    }
   },
   "source": [
    "## Objectives:\n",
    "\n",
    "- Demonstrate how to define classes\n",
    "- Design and implement class objects and class interactions\n",
    "- Understand how to call methods from both inside and outside of classes\n",
    "- Understand how to set internal attribute within a class"
   ]
  },
  {
   "cell_type": "markdown",
   "metadata": {
    "deletable": false,
    "editable": false,
    "nbgrader": {
     "cell_type": "markdown",
     "checksum": "029f43f95b4d8354c834666c22708489",
     "grade": false,
     "grade_id": "cell-cfac900eae3841cc",
     "locked": true,
     "schema_version": 3,
     "solution": false
    }
   },
   "source": [
    "## General Guidelines:\n",
    "\n",
    "- All calculations need to be done in the classes (that includes any formatting of the output)\n",
    "- Name your classes exactly as written in the problem statement\n",
    "- Do NOT make separate input() statements.  The classes will be passed the input as shown in the examples\n",
    "- The examples are using the '>>>' as the command entered into a Jupyter coding cell with the example output shown below it. Your program will be run on other tests not just the example provided.\n",
    "- The examples given are samples of how we will test/grade your code. Please ensure your classes output the same information\n",
    "- Answer format is graded - please match the examples\n",
    "- Inputs to classes and methods do need to be validated or checked where the problem or examples specifically state to check for inputs. Otherwise, you can assume that the correct input will be sent as shown in the examples.\n",
    "- Comments in your code are strongly suggested but won't be graded\n",
    "- This homework is mostly auto-graded. The blank code blocks are the auto-grading scripts - please do not delete these!\n",
    "- Your code needs to be written in the #Your Code Here blocks or it wont be graded correctly.\n",
    "- `__str__` and `__repr__` methods are discussed in Unit 8. "
   ]
  },
  {
   "cell_type": "markdown",
   "metadata": {
    "deletable": false,
    "editable": false,
    "nbgrader": {
     "cell_type": "markdown",
     "checksum": "deedf1ff2a60447c36d8b0a142412153",
     "grade": false,
     "grade_id": "cell-783896db972e3f83",
     "locked": true,
     "schema_version": 3,
     "solution": false
    }
   },
   "source": [
    "## Project Proposal\n",
    "\n",
    "**Reminder!** Please complete your project proposal, as discussed in class and outlined in the project_1 folder.  Submit your 1-2 page proposal as a PDF in your SUBMISSIONS repo under the project_1 folder.\n",
    "\n",
    "This is worth 10 points of your **project** grade (not the grade for this homework)."
   ]
  },
  {
   "cell_type": "markdown",
   "metadata": {
    "deletable": false,
    "editable": false,
    "nbgrader": {
     "cell_type": "markdown",
     "checksum": "45d7a5f1c7528dc6a9be0bb8a5502ccb",
     "grade": false,
     "grade_id": "cell-696344d235251439",
     "locked": true,
     "schema_version": 3,
     "solution": false
    }
   },
   "source": [
    "## 7-1 A Quick Reading (20 points)\n",
    "\n",
    "Please read the following article and write a couple sentences (~100 words) of reaction. What is the most interesting part?\n",
    "\n",
    "<a href=\"http://programmingisterrible.com/post/139222674273/write-code-that-is-easy-to-delete-not-easy-to\">Write code that is easy to delete, not easy to extend</a> \n",
    "\n",
    "This article is to explain an \"architectural\" perspective towards thinking about writing in large code bases. This might not really apply to the work that you are doing now but should provide some food for thought on upcoming projects. Think about the author's perspective and why he seems to have come to it. Please don't worry about knowing all the terminology or programs/systems that he refers to. We want you to extract what he's trying to say about writing code rather than the intricacies of the low-level systems that is referring to.\n"
   ]
  },
  {
   "cell_type": "markdown",
   "metadata": {
    "deletable": false,
    "nbgrader": {
     "cell_type": "markdown",
     "checksum": "a7015f0e83e7f04451f4e0b75aee2716",
     "grade": true,
     "grade_id": "cell-ec8be46bbe5effd3",
     "locked": false,
     "points": 20,
     "schema_version": 3,
     "solution": true
    }
   },
   "source": [
    "YOUR ANSWER HERE\n",
    "\n",
    "Please see my answer below:\n",
    "\n",
    "\n",
    "The author goes not detail to let the reader know that you will never writ ethe perfect code especially the first time. The author also acknowledges that good code is code that does not get in the way later in the life of the program. Good code is east to delete, which means that updating, removing or change the functionality of the code is not hard. The author mentions that trying to design the perfect solution to the challenge at had may not be the best approach. It is a better approach to write something that solves the problem and then comeback and update or delete the code later. It better to try and code solutions that isolate the difficult parts to try and keep the hard ode away from the more flexible code.  \n"
   ]
  },
  {
   "cell_type": "markdown",
   "metadata": {
    "deletable": false,
    "editable": false,
    "nbgrader": {
     "cell_type": "markdown",
     "checksum": "0f9e4be5528937acb7c3459c7d4b08bc",
     "grade": false,
     "grade_id": "cell-7804e7ebc0429dcc",
     "locked": true,
     "schema_version": 3,
     "solution": false
    }
   },
   "source": [
    "--------------------------------------------------------------------------------------------------------------------------------\n",
    "# Please do two out of the three parts below (80 points - 40 points each)  \n",
    "# That is, please do two of the three questions (7-2, 7-3 & 7-4)! \n",
    "\n",
    "If you want to do all three parts please write a comment on which two parts to grade. If a comment isn't found, Questions 7-2 & 7-3 will be graded."
   ]
  },
  {
   "cell_type": "markdown",
   "metadata": {
    "deletable": false,
    "editable": false,
    "nbgrader": {
     "cell_type": "markdown",
     "checksum": "b52d84bb83e9e2b5c6a0e13e788348b6",
     "grade": false,
     "grade_id": "cell-03f9229475d9a257",
     "locked": true,
     "schema_version": 3,
     "solution": false
    }
   },
   "source": [
    "## 7-2 Deck of Cards\n",
    "\n",
    "Please design two classes in this notebook as follows:\n",
    "\n",
    "1\\. Please create a class called **PlayingCard**. This class should have: <br>\n",
    "- An attribute, \"rank\" that takes a value of \"2\", \"3\", \"4\", \"5\", \"6\", \"7\", \"8\", \"9\", \"10\", \"J\", \"Q\", \"K\", or \"A\"<br>\n",
    "- An attribute, \"suit\" that takes a value of \"♠\" \"♥\" \"♦\" or \"♣\". (If you don't know how to make these characters you can cut and paste from this block)<br>  \n",
    "- An __init__ function that:\n",
    "    -  Accepts as parameters a specific rank (as a string) and suit (as a string).\n",
    "    -  Gives an appropriate response when a rank or suit is not valid.\n",
    "\n",
    "2\\. Please create a class called **Deck**.  This class should have: <br>\n",
    "- An attribute, \"cards\", that holds a list of PlayingCard objects. <br>\n",
    "- An __init__ function that: \n",
    "\n",
    "    - By default stores a full deck of 52 playing card (with proper numbers and suits) in the \"cards\" list. Each cards will be  of the class PlayingCard above<br>\n",
    "    - Allows the user to specify a specific suit (of the 4 - \"♠\" \"♥\" \"♦\" or \"♣\").  In this case, the program should only populate the deck with the 13 cards of that suit.\n",
    "    - After the cards object is initialized, call the \"shuffle_deck()\" function (below).<br>\n",
    "    \n",
    "- A \"shuffle_deck()\" function that randomly changes the order of cards in the deck.<br>\n",
    "    - You can import the random library to 'shuffle' the deck: https://docs.python.org/3.7/library/random.html\n",
    "    - If you import random, please import it at the top of your block instead of inside the class / methods.\n",
    "\n",
    "- A \"deal_card(card_count)\" function that removes the first card_count cards from the deck and returns them as a list.<br>\n",
    "    - Make sure this function gives an appropriate response when the deck is out of cards.\n",
    "    \n",
    "3\\. You might have to write ```__str__ or __repr__``` methods to display the cards correctly in either or both classes.\n",
    "\n",
    "\n",
    "Example:\n",
    "```\n",
    ">>> card1 = PlayingCard(\"A\", \"♠\")\n",
    ">>> print(card1)\n",
    "A of ♠\n",
    "\n",
    ">>> card2 = PlayingCard(\"15\", \"♠\")\n",
    "Invalid rank!\n",
    "\n",
    ">>> card2 = PlayingCard(\"10\", \"bunnies\")\n",
    "Invalid suit!\n",
    "\n",
    ">>> deck1 = Deck()\n",
    ">>> print(deck1.cards)\n",
    "[K of ♠, A of ♥, 6 of ♣, 7 of ♠, J of ♦, 6 of ♠, Q of ♦, 5 of ♣, 10 of ♦, 2 of ♥, 8 of ♣, 8 of ♦, 4 of ♦, 7 of ♦, 3 of ♣, K of ♣, 9 of ♠, 4 of ♥, 10 of ♥, 10 of ♣, A of ♠, 9 of ♥, 7 of ♥, 9 of ♣, 7 of ♣, 5 of ♠, 3 of ♦, 10 of ♠, Q of ♥, J of ♣, 5 of ♥, K of ♥, K of ♦, 2 of ♠, 8 of ♠, Q of ♣, 3 of ♠, 6 of ♥, 6 of ♦, A of ♣, A of ♦, 3 of ♥, J of ♠, 4 of ♣, 5 of ♦, 2 of ♦, 4 of ♠, 2 of ♣, Q of ♠, J of ♥, 8 of ♥, 9 of ♦] \n",
    "\n",
    ">>> deck2 = Deck('♠')\n",
    ">>> deck2.shuffle_deck()\n",
    ">>> print(deck2.cards)\n",
    "[A of ♠, 10 of ♠, 3 of ♠, 7 of ♠, 5 of ♠, 4 of ♠, 8 of ♠, J of ♠, 9 of ♠, Q of ♠, 6 of ♠, 2 of ♠, K of ♠]\n",
    "\n",
    ">>> deck2.deal_card(7)\n",
    "[A of ♠, 10 of ♠, 3 of ♠, 7 of ♠, 5 of ♠, 4 of ♠, 8 of ♠]\n",
    "\n",
    ">>> deck2.deal_card(7)\n",
    "Cannot deal 7 cards. The deck only has 6 cards left!\n",
    "```"
   ]
  },
  {
   "cell_type": "code",
   "execution_count": 1,
   "metadata": {
    "deletable": false,
    "nbgrader": {
     "cell_type": "code",
     "checksum": "065c7730f5f4def3d7b686213c4515c3",
     "grade": false,
     "grade_id": "cell-1a340c9ca6b682a1",
     "locked": false,
     "schema_version": 3,
     "solution": true
    }
   },
   "outputs": [],
   "source": [
    "# YOUR CODE HERE\n",
    "\n",
    "# PLEASE GRADE THIS QUESTION FOR HW CREDIT\n",
    "\n",
    "import random\n",
    "\n",
    "SUITS = [ '♠', '♥', '♦', '♣']\n",
    "RANKS = ['A', '2', '3', '4', '5', '6', '7', '8', '9', '10', 'J', 'Q', 'K']\n",
    "\n",
    "class PlayingCard:\n",
    "    ''' class that encompasses a playing card '''\n",
    "    # SUITS = [ '♠', '♥', '♦', '♣']\n",
    "    # RANKS = ['A', '2', '3', '4', '5', '6', '7', '8', '9', '10', 'J', 'Q', 'K']\n",
    "       \n",
    "    def __init__(self, rank = None, suit = None):        \n",
    "        \n",
    "        self.rank = rank\n",
    "\n",
    "        if rank not in RANKS:\n",
    "            print('Invalid rank!')\n",
    "\n",
    "        self.suit = suit\n",
    "\n",
    "        if suit not in SUITS:\n",
    "            print('Invalid suit!')\n",
    "\n",
    "    def __str__(self):\n",
    "        return self.rank + \" of \" + self.suit\n",
    "\n",
    "    def __repr__(self):\n",
    "        return self.rank + \" of \" + self.suit\n",
    "    \n",
    "class Deck:\n",
    "    ''' class that encompasses a deck of playing card '''\n",
    "    cards = []\n",
    "\n",
    "    def __init__(self, suit = None):\n",
    "        \n",
    "        self.cards = [] \n",
    "        self.create(suit)\n",
    "\n",
    "    def create(self, suit):\n",
    "        ''' takes in a sit as an argument and cretes a full or partial deck of cards '''\n",
    "        # create a partial deck when users passes in a suit        \n",
    "        if suit != None:\n",
    "            # create a 13 card deck \n",
    "            deck_suit = suit            \n",
    "            # loop all the ranks\n",
    "            for r in RANKS:\n",
    "                # append all the card permutations to the list\n",
    "                self.cards.append(PlayingCard(r, deck_suit))\n",
    "            \n",
    "        else:\n",
    "            # create a 52 card deck\n",
    "            # loop all the suits\n",
    "            for s in SUITS:\n",
    "                # loop all the ranks\n",
    "                for r in RANKS:\n",
    "                    # append all the card permutations to the list\n",
    "                    self.cards.append(PlayingCard(r, s))\n",
    "    \n",
    "    def __str__(self):\n",
    "\n",
    "        lst = ''\n",
    "        length = len(self.cards)\n",
    "        \n",
    "        # loop all the cards in the deck\n",
    "        for i in range(length):\n",
    "            # save the cards to the list\n",
    "            lst += str(self.cards[i])\n",
    "\n",
    "        return lst\n",
    "\n",
    "    def fifty_two_pickup (self):\n",
    "        ''' utility print method '''\n",
    "        # loop all print the deck of cards\n",
    "        for c in self.cards:\n",
    "            print(c)\n",
    "\n",
    "    def shuffle_deck(self):\n",
    "        ''' method to shuffle the deck of cards '''\n",
    "        # random.shuffle(x[, random])\n",
    "        # Shuffle the sequence x in place.\n",
    "        # use Python built in lib to shuffle the deck\n",
    "        random.shuffle(self.cards)        \n",
    "    \n",
    "    def deal_card(self, card_count):\n",
    "        ''' takes a card count vlaue of the cards to pop; function pops the required cards off the deck '''\n",
    "        \n",
    "        length = len(self.cards)\n",
    "        \n",
    "        if length < card_count:\n",
    "            \n",
    "            print('Cannot deal ' + str(card_count) + ' cards. The deck only has ' + str(length) + ' cards left!')\n",
    "        \n",
    "        else:\n",
    "            # loop the deck\n",
    "            for c in range(card_count):\n",
    "                # pop a card off the deck\n",
    "                self.cards.pop(c)\n",
    "                \n",
    "            print(self.cards)\n",
    "            \n",
    "        return self.cards\n",
    "\n"
   ]
  },
  {
   "cell_type": "code",
   "execution_count": 5,
   "metadata": {
    "deletable": false,
    "editable": false,
    "nbgrader": {
     "cell_type": "code",
     "checksum": "f786562143725de0819d161a8f54f9ca",
     "grade": true,
     "grade_id": "cell-6bd309bb7346977e",
     "locked": true,
     "points": 0,
     "schema_version": 3,
     "solution": false
    }
   },
   "outputs": [
    {
     "name": "stdout",
     "output_type": "stream",
     "text": [
      "A of ♠\n",
      "True\n"
     ]
    }
   ],
   "source": [
    "# Autograde cell - do not erase/delete\n",
    "# Here we implement some tests for you to compare your code with the output we expect.\n",
    "import random\n",
    "import subprocess\n",
    "from nose.tools import assert_equal \n",
    "from nose.tools import assert_true\n",
    "\n",
    "# String representation of PlayingCard class matches expected output?\n",
    "print(PlayingCard('A', '♠'))\n",
    "print(str(PlayingCard('A', '♠')) == 'A of ♠')\n"
   ]
  },
  {
   "cell_type": "code",
   "execution_count": 6,
   "metadata": {
    "deletable": false,
    "editable": false,
    "nbgrader": {
     "cell_type": "code",
     "checksum": "0fa120b748e19eb2392d0c7230bee3df",
     "grade": true,
     "grade_id": "cell-f3dd93876f39de63",
     "locked": true,
     "points": 0,
     "schema_version": 3,
     "solution": false
    }
   },
   "outputs": [
    {
     "name": "stdout",
     "output_type": "stream",
     "text": [
      "A of ♠ in solution list? True\n",
      "2 of ♠ in solution list? True\n",
      "3 of ♠ in solution list? True\n",
      "4 of ♠ in solution list? True\n",
      "5 of ♠ in solution list? True\n",
      "6 of ♠ in solution list? True\n",
      "7 of ♠ in solution list? True\n",
      "8 of ♠ in solution list? True\n",
      "9 of ♠ in solution list? True\n",
      "10 of ♠ in solution list? True\n",
      "J of ♠ in solution list? True\n",
      "Q of ♠ in solution list? True\n",
      "K of ♠ in solution list? True\n",
      "------------------------------\n",
      "Are any cards left in the deck? []\n"
     ]
    }
   ],
   "source": [
    "# Autograde cell - do not erase/delete\n",
    "# Here we implement some tests for you to compare your code with the output we expect.\n",
    "\n",
    "# Does your deck class initialize as expected?\n",
    "\n",
    "D = Deck(\"♠\")\n",
    "\n",
    "solution = ['A of ♠', '8 of ♠', '4 of ♠', 'K of ♠', 'J of ♠', \n",
    "            '5 of ♠', '6 of ♠', '9 of ♠', 'Q of ♠', '3 of ♠', \n",
    "            '7 of ♠', '10 of ♠', '2 of ♠']\n",
    "\n",
    "for i in D.cards:\n",
    "    test = str(i) in solution\n",
    "    print(str(i) + ' in solution list?', test)\n",
    "    \n",
    "    if test:\n",
    "        solution.remove(str(i))\n",
    "\n",
    "print(10 * '---')\n",
    "print('Are any cards left in the deck?', solution)"
   ]
  },
  {
   "cell_type": "code",
   "execution_count": 5,
   "metadata": {
    "deletable": false,
    "editable": false,
    "nbgrader": {
     "cell_type": "code",
     "checksum": "9f4ec937febc33f6f8fcb4eaa7b68909",
     "grade": true,
     "grade_id": "cell-b253eb962f2579b8",
     "locked": true,
     "points": 2,
     "schema_version": 3,
     "solution": false
    }
   },
   "outputs": [],
   "source": [
    "# Autograde cell - do not erase/delete\n",
    "# Here and in the following cells we implemented some hidden tests.\n",
    "# This means: Check your code for other inputs as well! Does it match with what you would expect?\n",
    "# Test the other methods you implemented. Do they work as expected?\n"
   ]
  },
  {
   "cell_type": "code",
   "execution_count": 6,
   "metadata": {
    "deletable": false,
    "editable": false,
    "nbgrader": {
     "cell_type": "code",
     "checksum": "98b305f15dcac7a2d0067b186392e7e5",
     "grade": true,
     "grade_id": "cell-1a695b8f0fba34a2",
     "locked": true,
     "points": 2,
     "schema_version": 3,
     "solution": false
    }
   },
   "outputs": [],
   "source": [
    "# Autograde cell - do not erase/delete"
   ]
  },
  {
   "cell_type": "code",
   "execution_count": 7,
   "metadata": {
    "deletable": false,
    "editable": false,
    "nbgrader": {
     "cell_type": "code",
     "checksum": "6c602cdc4dafd1650d8b86d5611581f6",
     "grade": true,
     "grade_id": "cell-9ec4298ad117e265",
     "locked": true,
     "points": 3,
     "schema_version": 3,
     "solution": false
    }
   },
   "outputs": [],
   "source": [
    "# Autograde cell - do not erase/delete"
   ]
  },
  {
   "cell_type": "code",
   "execution_count": 8,
   "metadata": {
    "deletable": false,
    "editable": false,
    "nbgrader": {
     "cell_type": "code",
     "checksum": "c2845f212af0f22a0076ed7ed248470d",
     "grade": true,
     "grade_id": "cell-4a3888541bb49c23",
     "locked": true,
     "points": 3,
     "schema_version": 3,
     "solution": false
    }
   },
   "outputs": [],
   "source": [
    "# Autograde cell - do not erase/delete"
   ]
  },
  {
   "cell_type": "code",
   "execution_count": 9,
   "metadata": {
    "deletable": false,
    "editable": false,
    "nbgrader": {
     "cell_type": "code",
     "checksum": "9e2a8f013fe78ae82d6944053004270f",
     "grade": true,
     "grade_id": "cell-7904a48b935e84c2",
     "locked": true,
     "points": 8,
     "schema_version": 3,
     "solution": false
    }
   },
   "outputs": [],
   "source": [
    "# Autograde cell - do not erase/delete"
   ]
  },
  {
   "cell_type": "code",
   "execution_count": 10,
   "metadata": {
    "deletable": false,
    "editable": false,
    "nbgrader": {
     "cell_type": "code",
     "checksum": "0f17442b7ccbfae76e8d1c84fcff6300",
     "grade": true,
     "grade_id": "cell-eddb8a271f9474ac",
     "locked": true,
     "points": 10,
     "schema_version": 3,
     "solution": false
    }
   },
   "outputs": [],
   "source": [
    "# Autograde cell - do not erase/delete"
   ]
  },
  {
   "cell_type": "code",
   "execution_count": 11,
   "metadata": {
    "deletable": false,
    "editable": false,
    "nbgrader": {
     "cell_type": "code",
     "checksum": "bd16817e2321821eba0c0f7e79a83eed",
     "grade": true,
     "grade_id": "cell-323b480c599a17ca",
     "locked": true,
     "points": 5,
     "schema_version": 3,
     "solution": false
    }
   },
   "outputs": [],
   "source": [
    "# Autograde cell - do not erase/delete"
   ]
  },
  {
   "cell_type": "code",
   "execution_count": 12,
   "metadata": {
    "deletable": false,
    "editable": false,
    "nbgrader": {
     "cell_type": "code",
     "checksum": "fe38844e342adc42f3a5e36bf828c54d",
     "grade": true,
     "grade_id": "cell-5bd83bb060e3098d",
     "locked": true,
     "points": 7,
     "schema_version": 3,
     "solution": false
    }
   },
   "outputs": [],
   "source": [
    "# Autograde cell - do not erase/delete"
   ]
  },
  {
   "cell_type": "markdown",
   "metadata": {
    "deletable": false,
    "editable": false,
    "nbgrader": {
     "cell_type": "markdown",
     "checksum": "8fa9ffef29ffb8eb7d6f2dd4b15fe0fe",
     "grade": false,
     "grade_id": "cell-2d3fb17759ce7be6",
     "locked": true,
     "schema_version": 3,
     "solution": false
    }
   },
   "source": [
    "Extra Credit (2 points): Write a method called **war** in the coding cell above under the Deck class that deals a card to the player and a card to the dealer from your deck.  Whomever has the highest ranked card wins; print them a nice message! (2 is the lowest rank and A is the highest).  If it is a tie, print a different message. In the cell below, show three examples of running your **war** method."
   ]
  },
  {
   "cell_type": "code",
   "execution_count": 13,
   "metadata": {
    "deletable": false,
    "nbgrader": {
     "cell_type": "code",
     "checksum": "5570ebf8a3b08dcf6b0de218e7966b37",
     "grade": true,
     "grade_id": "cell-f792b0aacbf4aeb1",
     "locked": false,
     "points": 2,
     "schema_version": 3,
     "solution": true
    }
   },
   "outputs": [],
   "source": [
    "# YOUR CODE HERE"
   ]
  },
  {
   "cell_type": "markdown",
   "metadata": {
    "deletable": false,
    "editable": false,
    "nbgrader": {
     "cell_type": "markdown",
     "checksum": "74d004f46524d3ef7d90286e02f1ed91",
     "grade": false,
     "grade_id": "cell-9fb0d10895402417",
     "locked": true,
     "schema_version": 3,
     "solution": false
    }
   },
   "source": [
    "## 7-3 Galton's Box\n",
    "\n",
    "The following figure depicts Galton's box, a game in which marbles are dropped through N rows of pins.  In row 0, there is one position a marble can be in (labeled 0), in row 1, there are two positions (labeled 0 and 1), and so forth.  Each time the marble bounces from one row to the next, there is a 50% probability it bounces left and a 50% probability it bounces right. \n",
    "\n",
    "<img src=\"Galton_Box.png\">\n",
    "<img src=\"Galton2.jpg\">\n",
    "\n",
    "Notice that if a marble is in position x of row y, and it bounces left, it ends up in position x of row y+1.  If it bounces right, it ends up in position x+1.\n",
    "\n",
    "1\\. Create a class, **Marble**, to represent a single Marble that will drop through Galton's Box. \n",
    "- Include attributes to represent the position of the marble.  \n",
    "- The ```__init__``` method should accept a one-character label for use when printing the Marble.\n",
    "\n",
    "2\\. Create a class, **GaltonBox**, to represent the overall setup.  You should include the following methods:\n",
    "\n",
    "- ```__init__``` - Your initializer should accept the size of the box (number of rows including the start row), N.\n",
    "- ```insert_marble``` - This method should accept a Marble instance and sets its position to position 0, row 0.\n",
    "- ```time_step``` - This method should cause all Marbles in Galton's box to bounce to the next row, dropping left or right with equal probability.  When a marble reaches row N-1 at the bottom of the box, it should not move any more.  Note that you should simply allow marbles to occupy the same position (instead of working out a system to prevent a Marble from entering a position if another Marble is already there).\n",
    "    - You can import the random library to decide which way the marble bounces: https://docs.python.org/3.7/library/random.htm\n",
    "    - If you import random, please import it at the top of your block instead of inside the class / methods.\n",
    "    \n",
    "- `__str__` and `__repr__` - Include methods to display the Marbles currently in the box.  To keep things simple, if there are multiple Marbles in a given position, you only have to display one of the labels.\n",
    "\n",
    "Your classes should mimic the following behavior (except that the horizontal positions are random):\n",
    "\n",
    "```\n",
    ">>> m1 = Marble(\"x\")\n",
    ">>> m2 = Marble(\"o\")\n",
    ">>> box = GaltonBox(3)\n",
    ">>> box.insert_marble(m1)\n",
    ">>> box\n",
    "x\n",
    "--\n",
    "---\n",
    ">>> box.time_step()\n",
    ">>> box\n",
    "-\n",
    "-x\n",
    "---\n",
    ">>> box.insert_marble(m2)\n",
    ">>> box\n",
    "o\n",
    "-x\n",
    "---\n",
    ">>> box.time_step()\n",
    ">>> box\n",
    "-\n",
    "o-\n",
    "-x-\n",
    ">>> box.time_step()\n",
    ">>> box\n",
    "-\n",
    "--\n",
    "ox-\n",
    "```\n",
    "\n"
   ]
  },
  {
   "cell_type": "code",
   "execution_count": 14,
   "metadata": {
    "deletable": false,
    "nbgrader": {
     "cell_type": "code",
     "checksum": "8781b079a4a85535107b3011845cfa2d",
     "grade": false,
     "grade_id": "cell-8dc0d52c853e6e25",
     "locked": false,
     "schema_version": 3,
     "solution": true
    }
   },
   "outputs": [
    {
     "name": "stdout",
     "output_type": "stream",
     "text": [
      "3\n"
     ]
    }
   ],
   "source": [
    "# YOUR CODE HERE"
   ]
  },
  {
   "cell_type": "code",
   "execution_count": null,
   "metadata": {
    "deletable": false,
    "editable": false,
    "nbgrader": {
     "cell_type": "code",
     "checksum": "7f89db84d1d07b75aede8eec14ff04b5",
     "grade": true,
     "grade_id": "cell-d3c80439c09ab209",
     "locked": true,
     "points": 0,
     "schema_version": 3,
     "solution": false
    }
   },
   "outputs": [],
   "source": [
    "# Autograde cell - do not erase/delete\n",
    "# Here we implement some tests for you to compare your code with the output we expect.\n",
    "\n",
    "# Does the string representation match?\n",
    "\n",
    "box = GaltonBox(3)\n",
    "box.insert_marble(Marble(\"o\"))\n",
    "print(box)\n",
    "print(str(box) == 'o\\n--\\n---\\n')"
   ]
  },
  {
   "cell_type": "code",
   "execution_count": null,
   "metadata": {
    "deletable": false,
    "editable": false,
    "nbgrader": {
     "cell_type": "code",
     "checksum": "9ccea9c10e9fd7cbd8f39e84abcd2d3f",
     "grade": true,
     "grade_id": "cell-7db503472fca5fc5",
     "locked": true,
     "points": 0,
     "schema_version": 3,
     "solution": false
    }
   },
   "outputs": [],
   "source": [
    "# Autograde cell - do not erase/delete\n",
    "# Here we implement some tests for you to compare your code with the output we expect.\n",
    "\n",
    "# Does the time-step method work as expected?\n",
    "import random\n",
    "random.seed(1234)\n",
    "\n",
    "box.time_step()\n",
    "print(box)\n",
    "print(str(box) == '-\\n-o\\n---\\n')"
   ]
  },
  {
   "cell_type": "code",
   "execution_count": null,
   "metadata": {
    "deletable": false,
    "editable": false,
    "nbgrader": {
     "cell_type": "code",
     "checksum": "ae05f21c3e097656634c2bf75a6964c0",
     "grade": true,
     "grade_id": "cell-4ef5047c5cc385e7",
     "locked": true,
     "points": 5,
     "schema_version": 3,
     "solution": false
    }
   },
   "outputs": [],
   "source": [
    "# Autograde cell - do not erase/delete\n",
    "# Here and in the following cells we implemented some hidden tests.\n",
    "# This means: Check your code for other inputs as well! Does it match with what you would expect?\n",
    "# Test the other methods you implemented. Do they work as expected?\n"
   ]
  },
  {
   "cell_type": "code",
   "execution_count": null,
   "metadata": {
    "deletable": false,
    "editable": false,
    "nbgrader": {
     "cell_type": "code",
     "checksum": "a8b7750e4f930f7ccb4a115fe9b00557",
     "grade": true,
     "grade_id": "cell-cf2e80a27d490ec5",
     "locked": true,
     "points": 5,
     "schema_version": 3,
     "solution": false
    }
   },
   "outputs": [],
   "source": [
    "# Autograde cell - do not erase/delete"
   ]
  },
  {
   "cell_type": "code",
   "execution_count": null,
   "metadata": {
    "deletable": false,
    "editable": false,
    "nbgrader": {
     "cell_type": "code",
     "checksum": "b28ce8175fc0856bf9d438b99ceab55a",
     "grade": true,
     "grade_id": "cell-4cf5d21d4f7ffb1b",
     "locked": true,
     "points": 5,
     "schema_version": 3,
     "solution": false
    }
   },
   "outputs": [],
   "source": [
    "# Autograde cell - do not erase/delete"
   ]
  },
  {
   "cell_type": "code",
   "execution_count": null,
   "metadata": {
    "deletable": false,
    "editable": false,
    "nbgrader": {
     "cell_type": "code",
     "checksum": "2d62fe9b6350543588383613ffc57d0b",
     "grade": true,
     "grade_id": "cell-a2d7227fd25834ee",
     "locked": true,
     "points": 5,
     "schema_version": 3,
     "solution": false,
     "task": false
    }
   },
   "outputs": [],
   "source": [
    "# Autograde cell - do not erase/delete"
   ]
  },
  {
   "cell_type": "code",
   "execution_count": null,
   "metadata": {
    "deletable": false,
    "editable": false,
    "nbgrader": {
     "cell_type": "code",
     "checksum": "b036fa8899e3c227b86a69d247b3b8e3",
     "grade": true,
     "grade_id": "cell-cecaa549ab10f02b",
     "locked": true,
     "points": 18,
     "schema_version": 3,
     "solution": false
    }
   },
   "outputs": [],
   "source": [
    "# Autograde cell - do not erase/delete"
   ]
  },
  {
   "cell_type": "code",
   "execution_count": null,
   "metadata": {
    "deletable": false,
    "editable": false,
    "nbgrader": {
     "cell_type": "code",
     "checksum": "22bf31f2226c87353f7ce676de190346",
     "grade": true,
     "grade_id": "cell-8e9d43c85efc0ba8",
     "locked": true,
     "points": 2,
     "schema_version": 3,
     "solution": false,
     "task": false
    }
   },
   "outputs": [],
   "source": [
    "# Autograde cell - do not erase/delete"
   ]
  },
  {
   "cell_type": "markdown",
   "metadata": {
    "deletable": false,
    "editable": false,
    "nbgrader": {
     "cell_type": "markdown",
     "checksum": "910cd59c7fb7cd1da7d0b34e42668155",
     "grade": false,
     "grade_id": "cell-0d6fbf3d0326cbc4",
     "locked": true,
     "schema_version": 3,
     "solution": false
    }
   },
   "source": [
    "**Bonus Investigation:** (Extra Credit: 2 points) Once your code is working, write code to create a box with 20 rows, insert a 100 Marbles, and repeatedly call time_step() until all Marbles are at the bottom.  Now adapt the following code to display a histogram of the final Marble positions.  What does the shape of the distribution look like?"
   ]
  },
  {
   "cell_type": "code",
   "execution_count": null,
   "metadata": {
    "deletable": false,
    "editable": false,
    "nbgrader": {
     "cell_type": "code",
     "checksum": "e226d32cb8dee9743e16faf4ac2b1829",
     "grade": false,
     "grade_id": "cell-ff1d95ccd995a9d3",
     "locked": true,
     "schema_version": 3,
     "solution": false
    }
   },
   "outputs": [],
   "source": [
    "# Sample code below - you will have to adjust it to work for your code.\n",
    "\n",
    "%matplotlib inline\n",
    "import matplotlib.pyplot as plt\n",
    "import numpy as np\n",
    "\n",
    "x_positions = (2,3,4,6,7,4,3,2,3,1)\n",
    "cutoffs = np.arange(min(x_positions) - .5, max(x_positions)+.5)\n",
    "plt.hist(x_positions, bins = cutoffs)"
   ]
  },
  {
   "cell_type": "code",
   "execution_count": null,
   "metadata": {
    "deletable": false,
    "nbgrader": {
     "cell_type": "code",
     "checksum": "495bc16160e16b5947cd5524c5bbbc92",
     "grade": true,
     "grade_id": "cell-d4119824e9396a02",
     "locked": false,
     "points": 1,
     "schema_version": 3,
     "solution": true
    }
   },
   "outputs": [],
   "source": [
    "# YOUR CODE HERE"
   ]
  },
  {
   "cell_type": "markdown",
   "metadata": {
    "deletable": false,
    "nbgrader": {
     "cell_type": "markdown",
     "checksum": "234191f8d25e07f5c92cb3d66867b992",
     "grade": true,
     "grade_id": "cell-e86742ae1d24a577",
     "locked": false,
     "points": 1,
     "schema_version": 3,
     "solution": true
    }
   },
   "source": [
    "YOUR ANSWER HERE"
   ]
  },
  {
   "cell_type": "markdown",
   "metadata": {
    "deletable": false,
    "editable": false,
    "nbgrader": {
     "cell_type": "markdown",
     "checksum": "ca5ba024d819355f9e8e03787243d4b8",
     "grade": false,
     "grade_id": "cell-d8aa3306267a8c97",
     "locked": true,
     "schema_version": 3,
     "solution": false
    }
   },
   "source": [
    "## 7-4 Sorting Marbles\n",
    "\n",
    "In a particular board game, there is exactly one row and it comprises N spaces, numbered 0 through N - 1 from left to right. There are also N marbles, numbered 0 through N - 1, initially placed in some arbitrary order. After that, there are two moves available that only can be done one at a time:\n",
    "\n",
    "- Switch: Switch the marbles in positions 0 and 1.\n",
    "- Rotate: Move the marble in position 0 to position N - 1, and move all other marbles one space to the left (one index lower).\n",
    "\n",
    "The objective is to arrange the marbles in order, with each marble i in position i.\n",
    "\n",
    "1\\. Write a class, **MarblesBoard**, to represent the game above. The class should be initialized with a particular sequence of Marbles.  \n",
    "- Write an ```__init__``` function that takes a starting sequence of marbles (the number of each marble listed in the positions from 0 to N - 1). (Notice in the sequence all the marbles are different numbers and are sequential numbered but not in order!)\n",
    "- Next, write switch() and rotate() methods to simulate the player's moves as described above. \n",
    "- Write a method, is_solved(), that returns True if the marbles are in the correct order, False otherwise.\n",
    "- Additionally, write ```__str__ and __repr__``` methods to display the current state of the board. \n",
    "\n",
    "Your class should behave like the following example:\n",
    "```\n",
    ">>> board = MarblesBoard((3,6,7,4,1,0,8,2,5)) \n",
    ">>> board \n",
    "3 6 7 4 1 0 8 2 5 \n",
    ">>> board.switch() \n",
    ">>> board \n",
    "6 3 7 4 1 0 8 2 5 \n",
    ">>> board.rotate() \n",
    ">>> board \n",
    "3 7 4 1 0 8 2 5 6 \n",
    ">>> board.switch() \n",
    ">>> board \n",
    "7 3 4 1 0 8 2 5 6\n",
    "```\n",
    "\n",
    "2\\. Write a second class, **Solver**, that actually plays the MarblesGame. \n",
    "- Your class will take a MarblesBoard in its initializer. \n",
    "- Write a solve() method that repeatedly calls the switch() and rotate() methods of the given MarblesBoard until the game is solved. You should print the state of the board after each move.  Additionally, print out the total number of moves at the end. Remember, you can only do one switch or one rotate per step!\n",
    "- You are to come up with your own algorithm for solving the marbles game. Before you write your solve() method, you may want to practice solving some small versions of the marbles game yourself.\n",
    "- Your Solver should strive to make the algorithm reasonably efficient and strive to be the fastest runtime. (Points are awarded based on algorithm efficiency!)\n",
    "\n",
    "\n",
    "Below is an example:\n",
    "```\n",
    ">>> board2 = MarblesBoard((1,3,0,2))\n",
    ">>> solver = Solver(board2)\n",
    ">>> solver.solve()\n",
    "1 3 0 2 \n",
    "3 0 2 1 \n",
    "0 2 1 3 \n",
    "2 1 3 0 \n",
    "1 2 3 0 \n",
    "2 3 0 1 \n",
    "3 0 1 2 \n",
    "0 1 2 3 \n",
    "total steps: 7\n",
    "```\n",
    "\n",
    "You may be interested to know that your program is a variation of a well-known sorting algorithm called bubble sort.  Bubble sort would normally be used on a list of items, not on a rotating track, but adapting your algorithm to this setting would be straight-forward."
   ]
  },
  {
   "cell_type": "code",
   "execution_count": 10,
   "metadata": {
    "deletable": false,
    "nbgrader": {
     "cell_type": "code",
     "checksum": "cfffb8bf30abfb18983b116b83a8ecfa",
     "grade": false,
     "grade_id": "cell-4591333e9bb4a2db",
     "locked": false,
     "schema_version": 3,
     "solution": true
    }
   },
   "outputs": [],
   "source": [
    "# YOUR CODE HERE\n",
    "\n",
    "# PLEASE GRADE THIS QUESTION FOR HW CREDIT\n",
    "\n",
    "class MarblesBoard:    \n",
    "    '''  MarblesBoard representa game board.\n",
    "    \n",
    "    The class is initialized with a particular sequence of Marbles.  \n",
    "    \n",
    "    Switch - method switches the marbles in positions 0 and 1.  \n",
    "    Rotate - method moves the marble in position 0 to position N - 1, and move all other marbles one space to the left (one index lower).\n",
    "    isSolved - method returns True if the marbles are in the correct order, False otherwise. \n",
    "    '''\n",
    "    def __init__(self, sequence):\n",
    "        ''' method that takes a starting sequence of marbles (the number of each marble listed in the positions \n",
    "            from 0 to N - 1). '''      \n",
    "            \n",
    "        # save a list using the list constructor \n",
    "        self.sequence = list(sequence)\n",
    "    \n",
    "    def switch(self):        \n",
    "        ''' method switches the marbles in positions 0 and 1. '''\n",
    "                \n",
    "        # set the indexes\n",
    "        first_index = 0\n",
    "        second_index = 1\n",
    "        \n",
    "        # safe the first & second values\n",
    "        first_value = self.sequence[first_index]\n",
    "        second_value = self.sequence[second_index]\n",
    "        \n",
    "        # swapp the first and second values in the list\n",
    "        self.sequence[first_index] = second_value\n",
    "        self.sequence[second_index] = first_value        \n",
    "    \n",
    "    def rotate(self):\n",
    "        ''' method moves the marble in position 0 to position N - 1, and move all other marbles one space to the left (one index lower). '''\n",
    "        \n",
    "        # set the indexes\n",
    "        first_index = 0\n",
    "        last_index = len(self.sequence)\n",
    "        \n",
    "        # safe the first value\n",
    "        first_value = self.sequence[first_index]        \n",
    "        \n",
    "        # move all values one space to the left starting at index 1\n",
    "        for x in range(1, len(self.sequence) ):\n",
    "            # move value to the left\n",
    "            self.sequence[x - 1] = self.sequence[x]\n",
    "            \n",
    "        # move the first val to the end of the list\n",
    "        self.sequence[last_index - 1] = first_value\n",
    "    \n",
    "    def is_solved(self):\n",
    "        ''' method returns True if the marbles are in the correct order, False otherwise. '''\n",
    "        \n",
    "        bFlag = True\n",
    "        \n",
    "        # check if the numbers are in the correct order by checking if the vlave = index\n",
    "        # loop the list\n",
    "        for x in range(len(self.sequence)):\n",
    "            \n",
    "            if self.sequence[x] != x:\n",
    "                bFlag = False\n",
    "        \n",
    "        return bFlag\n",
    "    \n",
    "    def __str__(self):\n",
    "        \n",
    "        # concatenate the string reprsentation of the list        \n",
    "        string_of_lists = ' '.join( list ( map ( str, self.sequence ) ) )\n",
    "        \n",
    "        return string_of_lists\n",
    "    \n",
    "    \n",
    "    def __repr__(self):\n",
    "        \n",
    "        # concatenate the string reprsentation of the list \n",
    "        string_of_lists = ' '.join( list ( map ( str, self.sequence ) ) )\n",
    "        \n",
    "        return string_of_lists\n",
    "        \n",
    "    \n",
    "class Solver:\n",
    "    ''' class will take a MarblesBoard in its initializer. \n",
    "        \n",
    "        - solve() method that repeatedly calls the switch() and rotate() methods of the given MarblesBoard until the game is solved. \n",
    "\n",
    "    '''\n",
    "    def __init__(self, board):\n",
    "\n",
    "        self.board = board\n",
    "    \n",
    "    def solve(self):\n",
    "        ''' method that repeatedly calls the switch() and rotate() methods until the game is solved. '''\n",
    "        \n",
    "        counter = 0\n",
    "        \n",
    "        # loop while board not solved\n",
    "        while self.board.is_solved() == False:\n",
    "            \n",
    "            # determine if a switch or rotate is required\n",
    "            # what does switch do? - switches the positions 0 and 1\n",
    "            # what does rotate do? - moves position 0 to position N - 1, and move all others one space to the left            \n",
    "            # switch is a unique case\n",
    "            # check to see if index 0 in the correct position\n",
    "            # check if index 0 value is < than index value 1 if yes no need to swith             \n",
    "            # check if index 0 value is greater than value N - 1 value if yes rotate\n",
    "            # all other cases just rotate!\n",
    "            \n",
    "            if (self.board.sequence[0] > self.board.sequence[1]) and (self.board.sequence[0] != len(self.board.sequence) - 1):\n",
    "                \n",
    "                self.board.switch()\n",
    "                # print(self.board)\n",
    "            \n",
    "            else:\n",
    "                \n",
    "                self.board.rotate()\n",
    "                # print(self.board)\n",
    "            \n",
    "            # print board status \n",
    "            print(self.board)\n",
    "            counter += 1\n",
    "                        \n",
    "            # check for base case\n",
    "            if self.board.is_solved() == True:\n",
    "                \n",
    "                print('board is solved')\n",
    "                break;\n",
    "            \n",
    "        print('Total steps = ', counter)\n",
    "                    "
   ]
  },
  {
   "cell_type": "code",
   "execution_count": 11,
   "metadata": {
    "deletable": false,
    "editable": false,
    "nbgrader": {
     "cell_type": "code",
     "checksum": "f0c43111e2c1b45ee64c8b7086405333",
     "grade": true,
     "grade_id": "cell-e2a73c3d3b12b2f3",
     "locked": true,
     "points": 0,
     "schema_version": 3,
     "solution": false
    }
   },
   "outputs": [
    {
     "name": "stdout",
     "output_type": "stream",
     "text": [
      "1 2 4 3 0\n",
      "True\n"
     ]
    }
   ],
   "source": [
    "# Autograde cell - do not erase/delete\n",
    "# Here we implement some tests for you to compare your code with the output we expect.\n",
    "\n",
    "# Does the marble board's string representation match?\n",
    "board = MarblesBoard((1,2,4,3,0)) \n",
    "print(board)\n",
    "print(str(board) == '1 2 4 3 0')\n"
   ]
  },
  {
   "cell_type": "code",
   "execution_count": 12,
   "metadata": {
    "deletable": false,
    "editable": false,
    "nbgrader": {
     "cell_type": "code",
     "checksum": "4a47f8c695121c5d636c197d34d022b6",
     "grade": true,
     "grade_id": "cell-5ccbb066942dd7d2",
     "locked": true,
     "points": 0,
     "schema_version": 3,
     "solution": false
    }
   },
   "outputs": [
    {
     "name": "stdout",
     "output_type": "stream",
     "text": [
      "2 1 4 3 0\n",
      "1 4 3 0 2\n",
      "True\n"
     ]
    }
   ],
   "source": [
    "# Autograde cell - do not erase/delete\n",
    "# Here we implement some tests for you to compare your code with the output we expect.\n",
    "\n",
    "# Does the switch and rotate methods work?\n",
    "board.switch()\n",
    "print(board)\n",
    "board.rotate()\n",
    "print(board)\n",
    "print(str(board) == '1 4 3 0 2')\n"
   ]
  },
  {
   "cell_type": "code",
   "execution_count": null,
   "metadata": {
    "deletable": false,
    "editable": false,
    "nbgrader": {
     "cell_type": "code",
     "checksum": "a171a972685b9f557fc251aa59e53d2c",
     "grade": true,
     "grade_id": "cell-8303e69f8df7a9bb",
     "locked": true,
     "points": 5,
     "schema_version": 3,
     "solution": false,
     "task": false
    }
   },
   "outputs": [],
   "source": [
    "# Autograde cell - do not erase/delete\n",
    "# Here and in the following cells we implemented some hidden tests.\n",
    "# This means: Check your code for other inputs as well! Does it match with what you would expect?"
   ]
  },
  {
   "cell_type": "code",
   "execution_count": null,
   "metadata": {
    "deletable": false,
    "editable": false,
    "nbgrader": {
     "cell_type": "code",
     "checksum": "a97626e6c6f07728b65031774efc9970",
     "grade": true,
     "grade_id": "cell-4fb9194c51a4218d",
     "locked": true,
     "points": 5,
     "schema_version": 3,
     "solution": false
    }
   },
   "outputs": [],
   "source": [
    "# Autograde cell - do not erase/delete\n"
   ]
  },
  {
   "cell_type": "code",
   "execution_count": null,
   "metadata": {
    "deletable": false,
    "editable": false,
    "nbgrader": {
     "cell_type": "code",
     "checksum": "b4ce035419137a8a582b82ce00aceb8a",
     "grade": true,
     "grade_id": "cell-7453b5dbb1ec30fd",
     "locked": true,
     "points": 5,
     "schema_version": 3,
     "solution": false
    }
   },
   "outputs": [],
   "source": [
    "# Autograde cell - do not erase/delete"
   ]
  },
  {
   "cell_type": "code",
   "execution_count": null,
   "metadata": {
    "deletable": false,
    "editable": false,
    "nbgrader": {
     "cell_type": "code",
     "checksum": "0235934e4f6bd1614f220df2f7436f4f",
     "grade": true,
     "grade_id": "cell-66c5e7635b517fa8",
     "locked": true,
     "points": 5,
     "schema_version": 3,
     "solution": false
    }
   },
   "outputs": [],
   "source": [
    "# Autograde cell - do not erase/delete"
   ]
  },
  {
   "cell_type": "code",
   "execution_count": null,
   "metadata": {
    "deletable": false,
    "editable": false,
    "nbgrader": {
     "cell_type": "code",
     "checksum": "09dbc3183b751b34fd658cf05fde0687",
     "grade": true,
     "grade_id": "cell-5bdc859879cfd92e",
     "locked": true,
     "points": 20,
     "schema_version": 3,
     "solution": false
    }
   },
   "outputs": [],
   "source": [
    "# Autograde cell - do not erase/delete"
   ]
  },
  {
   "cell_type": "markdown",
   "metadata": {
    "deletable": false,
    "editable": false,
    "nbgrader": {
     "cell_type": "markdown",
     "checksum": "71b17ded21693694789f1f52a63b3dfe",
     "grade": false,
     "grade_id": "cell-e55bf2766c88246f",
     "locked": true,
     "schema_version": 3,
     "solution": false
    }
   },
   "source": [
    "Extra Credit (2 points): Describe in big-O notation the complexity of your algorithm."
   ]
  },
  {
   "cell_type": "markdown",
   "metadata": {
    "deletable": false,
    "nbgrader": {
     "cell_type": "markdown",
     "checksum": "018b6bfd2c58eaae672aa2f5e954a4a3",
     "grade": true,
     "grade_id": "cell-fc4969c14c4704e8",
     "locked": false,
     "points": 2,
     "schema_version": 3,
     "solution": true
    }
   },
   "source": [
    "YOUR ANSWER HERE"
   ]
  }
 ],
 "metadata": {
  "interpreter": {
   "hash": "b3ba2566441a7c06988d0923437866b63cedc61552a5af99d1f4fb67d367b25f"
  },
  "kernelspec": {
   "display_name": "Python 3.8.8 32-bit ('base': conda)",
   "name": "python3"
  },
  "language_info": {
   "codemirror_mode": {
    "name": "ipython",
    "version": 3
   },
   "file_extension": ".py",
   "mimetype": "text/x-python",
   "name": "python",
   "nbconvert_exporter": "python",
   "pygments_lexer": "ipython3",
   "version": "3.8.8"
  }
 },
 "nbformat": 4,
 "nbformat_minor": 1
}
