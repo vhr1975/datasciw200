{
 "cells": [
  {
   "cell_type": "markdown",
   "metadata": {},
   "source": [
    "## Week 12 Assignment - W200 Introduction to Data Science Programming, UC Berkeley MIDS\n",
    "\n",
    "Write code in this Jupyter Notebook to solve the following problems. This assignment addresses material covered in Unit 11. Please upload this **Notebook** with your solutions to your GitHub repository in your SUBMISSIONS/week_12 folder by 11:59PM PST the night before class. Do **NOT** push/upload the data file. If you turn-in anything on ISVC please do so under the Week 12 Assignment category. "
   ]
  },
  {
   "cell_type": "markdown",
   "metadata": {},
   "source": [
    "## Objectives\n",
    "\n",
    "- Explore and glean insights from a real dataset using pandas\n",
    "- Practice using pandas for exploratory analysis, information gathering, and discovery\n",
    "- Practice using matplotlib for data visualization"
   ]
  },
  {
   "cell_type": "markdown",
   "metadata": {},
   "source": [
    "## Dataset\n",
    "\n",
    "You are to analyze campaign contributions to the 2016 U.S. presidential primary races made in California. Use the csv file located here: https://drive.google.com/file/d/1Lgg-PwXQ6TQLDowd6XyBxZw5g1NGWPjB/view?usp=sharing. You should download and save this file in the same folder as this notebook is stored.  This file originally came from the U.S. Federal Election Commission (https://www.fec.gov/).\n",
    "\n",
    "**DO NOT PUSH THIS FILE TO YOUR GITHUB REPO!**\n",
    "\n",
    "- Best practice is to not have DATA files in your code repo. As shown below, the default load is outside of the folder this notebook is in. If you change the folder where the file is stored please update the first cell!\n",
    "- If you do accidentally push the file to your github repo - follow the directions here to fix it: https://docs.google.com/document/d/15Irgb5V5G7pKPWgAerH7FPMpKeQRunbNflaW-hR2hTA/edit?usp=sharing\n",
    "\n",
    "Documentation for this data can be found here: https://drive.google.com/file/d/11o_SByceenv0NgNMstM-dxC1jL7I9fHL/view?usp=sharing"
   ]
  },
  {
   "cell_type": "markdown",
   "metadata": {},
   "source": [
    "## General Guidelines:\n",
    "\n",
    "- This is a **real** dataset and so it may contain errors and other pecularities to work through\n",
    "- This dataset is ~218mb, which will take some time to load (and probably won't load in Google Sheets or Excel)\n",
    "- If you make assumptions, annotate them in your responses\n",
    "- While there is one code/markdown cell positioned after each question as a placeholder, some of your code/responses may require multiple cells\n",
    "- Double-click the markdown cells that say YOUR ANSWER HERE to enter your written answers. If you need more cells for your written answers, make them markdown cells (rather than code cells)"
   ]
  },
  {
   "cell_type": "markdown",
   "metadata": {},
   "source": [
    "## Setup\n",
    "\n",
    "Run the two cells below. \n",
    "\n",
    "The first cell will load the data into a pandas dataframe named `contrib`. Note that a custom date parser is defined to speed up loading. If Python were to guess the date format, it would take even longer to load.  \n",
    "\n",
    "The second cell subsets the dataframe to focus on just the primary period through May 2016. Otherwise, we would see general election donations which would make it harder to draw conclusions about the primaries."
   ]
  },
  {
   "cell_type": "code",
   "execution_count": 2,
   "metadata": {
    "collapsed": true
   },
   "outputs": [
    {
     "name": "stderr",
     "output_type": "stream",
     "text": [
      "C:\\Users\\Victor\\AppData\\Roaming\\Python\\Python38\\site-packages\\IPython\\core\\interactiveshell.py:3169: DtypeWarning: Columns (6,11,12) have mixed types.Specify dtype option on import or set low_memory=False.\n",
      "  has_raised = await self.run_ast_nodes(code_ast.body, cell_name,\n",
      "<ipython-input-2-dd347e7b406c>:11: FutureWarning: The pandas.datetime class is deprecated and will be removed from pandas in a future version. Import from datetime module instead.\n",
      "  d = lambda x: pd.datetime.strptime(x, '%d-%b-%y')\n"
     ]
    },
    {
     "name": "stdout",
     "output_type": "stream",
     "text": [
      "(1125659, 18)\n"
     ]
    }
   ],
   "source": [
    "import pandas as pd\n",
    "import matplotlib.pyplot as plt\n",
    "import datetime\n",
    "\n",
    "# These commands below set some options for pandas and to have matplotlib show the charts in the notebook\n",
    "pd.set_option('display.max_rows', 1000)\n",
    "pd.options.display.float_format = '{:,.2f}'.format\n",
    "%matplotlib inline\n",
    "\n",
    "# Define a date parser to pass to read_csv\n",
    "d = lambda x: pd.datetime.strptime(x, '%d-%b-%y')\n",
    "\n",
    "# Load the data\n",
    "# We have this defaulted to the folder OUTSIDE of your repo - please change it as needed\n",
    "contrib = pd.read_csv('../../P00000001-CA.csv', index_col=False, parse_dates=['contb_receipt_dt'], date_parser=d)\n",
    "print(contrib.shape)\n",
    "\n",
    "# Note - for now, it is okay to ignore the warning about mixed types. "
   ]
  },
  {
   "cell_type": "code",
   "execution_count": 3,
   "metadata": {
    "collapsed": true
   },
   "outputs": [
    {
     "name": "stdout",
     "output_type": "stream",
     "text": [
      "(654502, 18)\n"
     ]
    }
   ],
   "source": [
    "# Subset data to primary period \n",
    "contrib = contrib.copy()[contrib['contb_receipt_dt'] <= datetime.datetime(2016, 5, 31)]\n",
    "print(contrib.shape)"
   ]
  },
  {
   "cell_type": "markdown",
   "metadata": {},
   "source": [
    "## 1. Data  Exploration (20 points)\n",
    "\n",
    "**1a. First, take a preliminary look at the data.**\n",
    "- Print the *shape* of the data. What does this tell you about the number of variables and rows you have?\n",
    "- Print a list of column names. \n",
    "- Review the documentation for this data (link above). Do you have all of the columns you expect to have?\n",
    "- Sometimes variable names are not clear unless we read the documentation. In your own words, based on the documentation, what information does the `election_tp` variable contain?"
   ]
  },
  {
   "cell_type": "code",
   "execution_count": 4,
   "metadata": {
    "deletable": false,
    "nbgrader": {
     "checksum": "9f7a7938e43b14d3c7c49d6a278b0bb1",
     "grade": true,
     "grade_id": "cell-5d017805206f18b1",
     "locked": false,
     "points": 0,
     "schema_version": 1,
     "solution": true
    }
   },
   "outputs": [
    {
     "name": "stdout",
     "output_type": "stream",
     "text": [
      "(654502, 18)\n",
      "Index(['cmte_id', 'cand_id', 'cand_nm', 'contbr_nm', 'contbr_city',\n",
      "       'contbr_st', 'contbr_zip', 'contbr_employer', 'contbr_occupation',\n",
      "       'contb_receipt_amt', 'contb_receipt_dt', 'receipt_desc', 'memo_cd',\n",
      "       'memo_text', 'form_tp', 'file_num', 'tran_id', 'election_tp'],\n",
      "      dtype='object')\n"
     ]
    },
    {
     "data": {
      "text/plain": [
       "82793229.50999999"
      ]
     },
     "execution_count": 4,
     "metadata": {},
     "output_type": "execute_result"
    }
   ],
   "source": [
    "# 1a YOUR CODE HERE\n",
    "\n",
    "# print shape of data\n",
    "print(contrib.shape)\n",
    "\n",
    "df = pd.DataFrame(contrib)\n",
    "# print list of col names\n",
    "print(df.columns)\n",
    "\n",
    "df['contb_receipt_amt'].sum()\n"
   ]
  },
  {
   "cell_type": "markdown",
   "metadata": {
    "deletable": false,
    "nbgrader": {
     "checksum": "e6a198453ec4b0171a064fef0bd7c678",
     "grade": true,
     "grade_id": "cell-3bc26919169bf4aa",
     "locked": false,
     "points": 5,
     "schema_version": 1,
     "solution": true
    }
   },
   "source": [
    "`1a YOUR RESPONSE HERE`\n",
    "\n",
    "Review the documentation for this data (link above). Do you have all of the columns you expect to have?\n",
    "**Answer = I do have all the expected columns.**\n",
    "\n",
    "Sometimes variable names are not clear unless we read the documentation. In your own words, based on the \n",
    "documentation, what information does the `election_tp` variable contain?\n",
    "\n",
    "**Answer = The 'election_tp' is a string that represents the year and type of election.**"
   ]
  },
  {
   "cell_type": "markdown",
   "metadata": {},
   "source": [
    "**1b. Print the first 5 rows from the dataset to manually check some of the data.** \n",
    "\n",
    "This is a good idea to ensure the data loaded and the columns parsed correctly!"
   ]
  },
  {
   "cell_type": "code",
   "execution_count": 5,
   "metadata": {
    "deletable": false,
    "nbgrader": {
     "checksum": "4fbf682f1c78b3614832c6f48ecd88c7",
     "grade": true,
     "grade_id": "cell-72bc97601b84f17d",
     "locked": false,
     "points": 5,
     "schema_version": 1,
     "solution": true
    }
   },
   "outputs": [
    {
     "data": {
      "text/html": [
       "<div>\n",
       "<style scoped>\n",
       "    .dataframe tbody tr th:only-of-type {\n",
       "        vertical-align: middle;\n",
       "    }\n",
       "\n",
       "    .dataframe tbody tr th {\n",
       "        vertical-align: top;\n",
       "    }\n",
       "\n",
       "    .dataframe thead th {\n",
       "        text-align: right;\n",
       "    }\n",
       "</style>\n",
       "<table border=\"1\" class=\"dataframe\">\n",
       "  <thead>\n",
       "    <tr style=\"text-align: right;\">\n",
       "      <th></th>\n",
       "      <th>cmte_id</th>\n",
       "      <th>cand_id</th>\n",
       "      <th>cand_nm</th>\n",
       "      <th>contbr_nm</th>\n",
       "      <th>contbr_city</th>\n",
       "      <th>contbr_st</th>\n",
       "      <th>contbr_zip</th>\n",
       "      <th>contbr_employer</th>\n",
       "      <th>contbr_occupation</th>\n",
       "      <th>contb_receipt_amt</th>\n",
       "      <th>contb_receipt_dt</th>\n",
       "      <th>receipt_desc</th>\n",
       "      <th>memo_cd</th>\n",
       "      <th>memo_text</th>\n",
       "      <th>form_tp</th>\n",
       "      <th>file_num</th>\n",
       "      <th>tran_id</th>\n",
       "      <th>election_tp</th>\n",
       "    </tr>\n",
       "  </thead>\n",
       "  <tbody>\n",
       "    <tr>\n",
       "      <th>0</th>\n",
       "      <td>C00575795</td>\n",
       "      <td>P00003392</td>\n",
       "      <td>Clinton, Hillary Rodham</td>\n",
       "      <td>AULL, ANNE</td>\n",
       "      <td>LARKSPUR</td>\n",
       "      <td>CA</td>\n",
       "      <td>949,391,913.00</td>\n",
       "      <td>NaN</td>\n",
       "      <td>RETIRED</td>\n",
       "      <td>50.00</td>\n",
       "      <td>2016-04-26</td>\n",
       "      <td>NaN</td>\n",
       "      <td>X</td>\n",
       "      <td>* HILLARY VICTORY FUND</td>\n",
       "      <td>SA18</td>\n",
       "      <td>1091718</td>\n",
       "      <td>C4768722</td>\n",
       "      <td>P2016</td>\n",
       "    </tr>\n",
       "    <tr>\n",
       "      <th>1</th>\n",
       "      <td>C00575795</td>\n",
       "      <td>P00003392</td>\n",
       "      <td>Clinton, Hillary Rodham</td>\n",
       "      <td>CARROLL, MARYJEAN</td>\n",
       "      <td>CAMBRIA</td>\n",
       "      <td>CA</td>\n",
       "      <td>934,284,638.00</td>\n",
       "      <td>NaN</td>\n",
       "      <td>RETIRED</td>\n",
       "      <td>200.00</td>\n",
       "      <td>2016-04-20</td>\n",
       "      <td>NaN</td>\n",
       "      <td>X</td>\n",
       "      <td>* HILLARY VICTORY FUND</td>\n",
       "      <td>SA18</td>\n",
       "      <td>1091718</td>\n",
       "      <td>C4747242</td>\n",
       "      <td>P2016</td>\n",
       "    </tr>\n",
       "    <tr>\n",
       "      <th>2</th>\n",
       "      <td>C00575795</td>\n",
       "      <td>P00003392</td>\n",
       "      <td>Clinton, Hillary Rodham</td>\n",
       "      <td>GANDARA, DESIREE</td>\n",
       "      <td>FONTANA</td>\n",
       "      <td>CA</td>\n",
       "      <td>923,371,507.00</td>\n",
       "      <td>NaN</td>\n",
       "      <td>RETIRED</td>\n",
       "      <td>5.00</td>\n",
       "      <td>2016-04-02</td>\n",
       "      <td>NaN</td>\n",
       "      <td>X</td>\n",
       "      <td>* HILLARY VICTORY FUND</td>\n",
       "      <td>SA18</td>\n",
       "      <td>1091718</td>\n",
       "      <td>C4666603</td>\n",
       "      <td>P2016</td>\n",
       "    </tr>\n",
       "    <tr>\n",
       "      <th>3</th>\n",
       "      <td>C00577130</td>\n",
       "      <td>P60007168</td>\n",
       "      <td>Sanders, Bernard</td>\n",
       "      <td>LEE, ALAN</td>\n",
       "      <td>CAMARILLO</td>\n",
       "      <td>CA</td>\n",
       "      <td>930,111,214.00</td>\n",
       "      <td>AT&amp;T GOVERNMENT SOLUTIONS</td>\n",
       "      <td>SOFTWARE ENGINEER</td>\n",
       "      <td>40.00</td>\n",
       "      <td>2016-03-04</td>\n",
       "      <td>NaN</td>\n",
       "      <td>NaN</td>\n",
       "      <td>* EARMARKED CONTRIBUTION: SEE BELOW</td>\n",
       "      <td>SA17A</td>\n",
       "      <td>1077404</td>\n",
       "      <td>VPF7BKWA097</td>\n",
       "      <td>P2016</td>\n",
       "    </tr>\n",
       "    <tr>\n",
       "      <th>4</th>\n",
       "      <td>C00577130</td>\n",
       "      <td>P60007168</td>\n",
       "      <td>Sanders, Bernard</td>\n",
       "      <td>LEONELLI, ODETTE</td>\n",
       "      <td>REDONDO BEACH</td>\n",
       "      <td>CA</td>\n",
       "      <td>902,784,310.00</td>\n",
       "      <td>VERICOR ENTERPRISES INC.</td>\n",
       "      <td>PHARMACIST</td>\n",
       "      <td>35.00</td>\n",
       "      <td>2016-03-05</td>\n",
       "      <td>NaN</td>\n",
       "      <td>NaN</td>\n",
       "      <td>* EARMARKED CONTRIBUTION: SEE BELOW</td>\n",
       "      <td>SA17A</td>\n",
       "      <td>1077404</td>\n",
       "      <td>VPF7BKX3MB3</td>\n",
       "      <td>P2016</td>\n",
       "    </tr>\n",
       "  </tbody>\n",
       "</table>\n",
       "</div>"
      ],
      "text/plain": [
       "     cmte_id    cand_id                  cand_nm          contbr_nm  \\\n",
       "0  C00575795  P00003392  Clinton, Hillary Rodham         AULL, ANNE   \n",
       "1  C00575795  P00003392  Clinton, Hillary Rodham  CARROLL, MARYJEAN   \n",
       "2  C00575795  P00003392  Clinton, Hillary Rodham   GANDARA, DESIREE   \n",
       "3  C00577130  P60007168         Sanders, Bernard          LEE, ALAN   \n",
       "4  C00577130  P60007168         Sanders, Bernard   LEONELLI, ODETTE   \n",
       "\n",
       "     contbr_city contbr_st     contbr_zip            contbr_employer  \\\n",
       "0       LARKSPUR        CA 949,391,913.00                        NaN   \n",
       "1        CAMBRIA        CA 934,284,638.00                        NaN   \n",
       "2        FONTANA        CA 923,371,507.00                        NaN   \n",
       "3      CAMARILLO        CA 930,111,214.00  AT&T GOVERNMENT SOLUTIONS   \n",
       "4  REDONDO BEACH        CA 902,784,310.00   VERICOR ENTERPRISES INC.   \n",
       "\n",
       "   contbr_occupation  contb_receipt_amt contb_receipt_dt receipt_desc memo_cd  \\\n",
       "0            RETIRED              50.00       2016-04-26          NaN       X   \n",
       "1            RETIRED             200.00       2016-04-20          NaN       X   \n",
       "2            RETIRED               5.00       2016-04-02          NaN       X   \n",
       "3  SOFTWARE ENGINEER              40.00       2016-03-04          NaN     NaN   \n",
       "4         PHARMACIST              35.00       2016-03-05          NaN     NaN   \n",
       "\n",
       "                             memo_text form_tp  file_num      tran_id  \\\n",
       "0               * HILLARY VICTORY FUND    SA18   1091718     C4768722   \n",
       "1               * HILLARY VICTORY FUND    SA18   1091718     C4747242   \n",
       "2               * HILLARY VICTORY FUND    SA18   1091718     C4666603   \n",
       "3  * EARMARKED CONTRIBUTION: SEE BELOW   SA17A   1077404  VPF7BKWA097   \n",
       "4  * EARMARKED CONTRIBUTION: SEE BELOW   SA17A   1077404  VPF7BKX3MB3   \n",
       "\n",
       "  election_tp  \n",
       "0       P2016  \n",
       "1       P2016  \n",
       "2       P2016  \n",
       "3       P2016  \n",
       "4       P2016  "
      ]
     },
     "execution_count": 5,
     "metadata": {},
     "output_type": "execute_result"
    }
   ],
   "source": [
    "# 1b YOUR CODE HERE\n",
    "df.head(5)\n"
   ]
  },
  {
   "cell_type": "markdown",
   "metadata": {},
   "source": [
    "**1c. Pick three variables from the dataset above and run some quick sanity checks.**\n",
    "\n",
    "When working with a new dataset, it is important to explore and sanity check your variables. For example, you may want to examine the maximum and minimum values, a frequency count, or something else. Use the three markdown cells below to explain if your **three** chosen variables \"pass\" your sanity checks or if you have concerns about the integrity of your data and why. "
   ]
  },
  {
   "cell_type": "code",
   "execution_count": 6,
   "metadata": {
    "deletable": false,
    "nbgrader": {
     "checksum": "0ec29a2cabd52709322d1cfd650babe7",
     "grade": true,
     "grade_id": "cell-23b51536d24c1645",
     "locked": false,
     "points": 0,
     "schema_version": 1,
     "solution": true
    }
   },
   "outputs": [
    {
     "name": "stdout",
     "output_type": "stream",
     "text": [
      "654502\n",
      "-10000.0\n"
     ]
    }
   ],
   "source": [
    "# 1c YOUR CODE HERE for variable #1\n",
    "length = len(df)\n",
    "print(length)\n",
    "df.describe()\n",
    "# min of the contb_receipt_amt col\n",
    "min = df['contb_receipt_amt'].min()\n",
    "print(min)"
   ]
  },
  {
   "cell_type": "code",
   "execution_count": 7,
   "metadata": {},
   "outputs": [
    {
     "name": "stdout",
     "output_type": "stream",
     "text": [
      "126.4980542611056\n"
     ]
    }
   ],
   "source": [
    "# 1c YOUR CODE HERE for variable #2\n",
    "\n",
    "mean = df['contb_receipt_amt'].mean()\n",
    "# mean of the contb_receipt_amt col\n",
    "print(mean)\n"
   ]
  },
  {
   "cell_type": "code",
   "execution_count": 8,
   "metadata": {},
   "outputs": [
    {
     "name": "stdout",
     "output_type": "stream",
     "text": [
      "10800.0\n"
     ]
    }
   ],
   "source": [
    "# 1c YOUR CODE HERE for variable #3\n",
    "\n",
    "max = df['contb_receipt_amt'].max()\n",
    "# max of the contb_receipt_amt col\n",
    "print(max)"
   ]
  },
  {
   "cell_type": "markdown",
   "metadata": {
    "deletable": false,
    "nbgrader": {
     "checksum": "cfa64002e64474584dc1442b5a39b460",
     "grade": true,
     "grade_id": "cell-8a320c2ff7c24d98",
     "locked": false,
     "points": 0,
     "schema_version": 1,
     "solution": true
    }
   },
   "source": [
    "`1c YOUR RESPONSE HERE`\n",
    "\n",
    "I have reviewed the contb_receipt_amt col very closely. I calculated the contribution dollar amount’s minimum, mean, and max. There is a large negative dollar amount which leads to believe that the large negative number will skew the mean. "
   ]
  },
  {
   "cell_type": "markdown",
   "metadata": {},
   "source": [
    "**1d. Plotting a histogram** \n",
    "\n",
    "Make a histogram of **one** of the variables you picked above. What are some insights that you can see from this histogram? \n",
    "Remember to include on your histogram:\n",
    "- Include a title\n",
    "- Include axis labels\n",
    "- The correct number of bins to see the breakout of values\n",
    "- Hint: For some variables the range of values is very large. To do a better exploration, make the initial histogram the full range and then you can make a smaller histogram 'zoomed' in on a discreet range."
   ]
  },
  {
   "cell_type": "code",
   "execution_count": 9,
   "metadata": {},
   "outputs": [
    {
     "data": {
      "text/plain": [
       "Text(0, 0.5, 'Donors')"
      ]
     },
     "execution_count": 9,
     "metadata": {},
     "output_type": "execute_result"
    },
    {
     "data": {
      "image/png": "[encoded data removed]",
      "text/plain": [
       "<Figure size 432x288 with 1 Axes>"
      ]
     },
     "metadata": {
      "needs_background": "light"
     },
     "output_type": "display_data"
    }
   ],
   "source": [
    "# 1d YOUR CODE HERE\n",
    "\n",
    "plt.suptitle('Contribution Amounts')\n",
    "\n",
    "# df['contb_receipt_amt'].hist(bins=4)\n",
    "# plt.hist(df['contb_receipt_amt'])\n",
    "plt.hist(df['contb_receipt_amt'], bins=[0, 10, 20, 30, 40, 50, 60, 70, 80, 90, 100, 110, 120, 130, 140, 150, 160, 200, 250, 300, 350, 400, 500, 550])\n",
    "plt.xlabel('Contribution Dollar Amounts')\n",
    "plt.ylabel('Donors')\n",
    "         \n"
   ]
  },
  {
   "cell_type": "markdown",
   "metadata": {},
   "source": [
    "`1d YOUR RESPONSE HERE`\n",
    "\n",
    "I noticed that most donation are under $100.00. So adjusting the histogram bin was very key. "
   ]
  },
  {
   "cell_type": "markdown",
   "metadata": {},
   "source": [
    "## 2. Exploring Campaign Contributions (30 points)\n",
    "\n",
    "Let's investigate the donations to the candidates.\n",
    "\n",
    "**2a. Present a table that shows the number of donations to each candidate sorted by number of donations.**\n",
    "\n",
    "- When presenting data as a table, it is often best to sort the data in a meaningful way. This makes it easier for your reader to examine what you've done and to glean insights.  From now on, all tables that you present in this assignment (and course) should be sorted.\n",
    "- Hint: Use the `groupby` method. Groupby is explained in Unit 13: async 13.3 & 13.5\n",
    "- Hint: Use the `sort_values` method to sort the data so that candidates with the largest number of donations appear on top.\n",
    "\n",
    "Which candidate received the largest number of contributions (variable 'contb_receipt_amt')?"
   ]
  },
  {
   "cell_type": "code",
   "execution_count": 10,
   "metadata": {
    "deletable": false,
    "nbgrader": {
     "checksum": "442b24601da06376c43cbe6ef5c5348a",
     "grade": true,
     "grade_id": "cell-6a453219105384dd",
     "locked": false,
     "points": 0,
     "schema_version": 1,
     "solution": true
    }
   },
   "outputs": [
    {
     "name": "stdout",
     "output_type": "stream",
     "text": [
      "                           contb_receipt_amt\n",
      "cand_nm                                     \n",
      "Sanders, Bernard                      371795\n",
      "Clinton, Hillary Rodham               163509\n",
      "Cruz, Rafael Edward 'Ted'              57136\n",
      "Carson, Benjamin S.                    27342\n",
      "Rubio, Marco                           14089\n",
      "Fiorina, Carly                          4696\n",
      "Paul, Rand                              4256\n",
      "Bush, Jeb                               3114\n",
      "Kasich, John R.                         2988\n",
      "Trump, Donald J.                        2255\n",
      "Walker, Scott                            713\n",
      "Huckabee, Mike                           531\n",
      "O'Malley, Martin Joseph                  397\n",
      "Lessig, Lawrence                         372\n",
      "Graham, Lindsey O.                       342\n",
      "Christie, Christopher J.                 333\n",
      "Stein, Jill                              197\n",
      "Perry, James R. (Rick)                   116\n",
      "Webb, James Henry Jr.                    106\n",
      "Santorum, Richard J.                      84\n",
      "Johnson, Gary                             77\n",
      "Jindal, Bobby                             31\n",
      "Pataki, George E.                         20\n",
      "Gilmore, James S III                       3\n"
     ]
    }
   ],
   "source": [
    "# 2a YOUR CODE HERE\n",
    "\n",
    "df_donation_count = pd.DataFrame(df.groupby(by=['cand_nm'])['contb_receipt_amt'].count().sort_values(ascending=False))\n",
    "print(df_donation_count)"
   ]
  },
  {
   "cell_type": "markdown",
   "metadata": {
    "deletable": false,
    "nbgrader": {
     "checksum": "c5a1b7f30648cced7269ccb9b1532bd6",
     "grade": true,
     "grade_id": "cell-90c49bd6471a3dc9",
     "locked": false,
     "points": 0,
     "schema_version": 1,
     "solution": true
    }
   },
   "source": [
    "`2a YOUR RESPONSE HERE`\n",
    "Sanders, Bernard recieved the most individual donations, 371795"
   ]
  },
  {
   "cell_type": "markdown",
   "metadata": {},
   "source": [
    "**2b. Now, present a table that shows the total value of donations to each candidate. sorted by total value of the donations**\n",
    "\n",
    "Which candidate raised the most money in California?"
   ]
  },
  {
   "cell_type": "code",
   "execution_count": 11,
   "metadata": {
    "collapsed": true
   },
   "outputs": [
    {
     "name": "stdout",
     "output_type": "stream",
     "text": [
      "                           contb_receipt_amt\n",
      "cand_nm                                     \n",
      "Clinton, Hillary Rodham        39,368,777.01\n",
      "Sanders, Bernard               18,773,871.31\n",
      "Cruz, Rafael Edward 'Ted'       6,286,460.34\n",
      "Rubio, Marco                    4,846,483.72\n",
      "Bush, Jeb                       3,325,536.83\n",
      "Carson, Benjamin S.             2,952,109.00\n",
      "Kasich, John R.                 1,553,823.54\n",
      "Fiorina, Carly                  1,468,489.42\n",
      "Trump, Donald J.                  893,356.89\n",
      "Paul, Rand                        797,624.29\n",
      "Walker, Scott                     495,006.90\n",
      "Christie, Christopher J.          456,066.00\n",
      "Graham, Lindsey O.                408,595.00\n",
      "O'Malley, Martin Joseph           297,834.26\n",
      "Huckabee, Mike                    230,890.60\n",
      "Perry, James R. (Rick)            208,400.00\n",
      "Lessig, Lawrence                  186,144.50\n",
      "Webb, James Henry Jr.              76,568.16\n",
      "Johnson, Gary                      41,187.60\n",
      "Santorum, Richard J.               36,304.88\n",
      "Pataki, George E.                  30,450.00\n",
      "Stein, Jill                        27,918.00\n",
      "Jindal, Bobby                      23,231.26\n",
      "Gilmore, James S III                8,100.00\n"
     ]
    }
   ],
   "source": [
    "# 2b YOUR CODE HERE\n",
    "\n",
    "df_donation_amount = pd.DataFrame(df.groupby(by=['cand_nm'])['contb_receipt_amt'].sum().sort_values(ascending=False))\n",
    "print(df_donation_amount)"
   ]
  },
  {
   "cell_type": "markdown",
   "metadata": {
    "deletable": false,
    "nbgrader": {
     "checksum": "60d3e303837e9603de5b96e32af7d806",
     "grade": true,
     "grade_id": "cell-447dc63eff8ebc5f",
     "locked": false,
     "points": 0,
     "schema_version": 1,
     "solution": true
    }
   },
   "source": [
    "`2b YOUR RESPONSE HERE`\n",
    "Clinton, Hillary Rodham raised to most money, $39,368,777.01"
   ]
  },
  {
   "cell_type": "markdown",
   "metadata": {},
   "source": [
    "**2c. Combine the tables (sorted by either a or b above).**\n",
    "\n",
    "- Looking at the two tables you presented above - if those tables are Series convert them to DataFrames.\n",
    "- Rename the variable (column) names to accurately describe what is presented.\n",
    "- Merge together your tables to show the *count* and the *value* of donations to each candidate in one table.\n",
    "- Hint: Use the `merge` method."
   ]
  },
  {
   "cell_type": "code",
   "execution_count": 12,
   "metadata": {
    "collapsed": true
   },
   "outputs": [
    {
     "name": "stdout",
     "output_type": "stream",
     "text": [
      "                           Donation_Count  Donation_Amount\n",
      "cand_nm                                                   \n",
      "Sanders, Bernard                   371795    18,773,871.31\n",
      "Clinton, Hillary Rodham            163509    39,368,777.01\n",
      "Cruz, Rafael Edward 'Ted'           57136     6,286,460.34\n",
      "Carson, Benjamin S.                 27342     2,952,109.00\n",
      "Rubio, Marco                        14089     4,846,483.72\n",
      "Fiorina, Carly                       4696     1,468,489.42\n",
      "Paul, Rand                           4256       797,624.29\n",
      "Bush, Jeb                            3114     3,325,536.83\n",
      "Kasich, John R.                      2988     1,553,823.54\n",
      "Trump, Donald J.                     2255       893,356.89\n",
      "Walker, Scott                         713       495,006.90\n",
      "Huckabee, Mike                        531       230,890.60\n",
      "O'Malley, Martin Joseph               397       297,834.26\n",
      "Lessig, Lawrence                      372       186,144.50\n",
      "Graham, Lindsey O.                    342       408,595.00\n",
      "Christie, Christopher J.              333       456,066.00\n",
      "Stein, Jill                           197        27,918.00\n",
      "Perry, James R. (Rick)                116       208,400.00\n",
      "Webb, James Henry Jr.                 106        76,568.16\n",
      "Santorum, Richard J.                   84        36,304.88\n",
      "Johnson, Gary                          77        41,187.60\n",
      "Jindal, Bobby                          31        23,231.26\n",
      "Pataki, George E.                      20        30,450.00\n",
      "Gilmore, James S III                    3         8,100.00\n"
     ]
    }
   ],
   "source": [
    "# 2c YOUR CODE HERE\n",
    "\n",
    "df_donation_count = df_donation_count.rename({'contb_receipt_amt' : 'Donation_Count' }, axis=1)\n",
    "df_donation_amount = df_donation_amount.rename({'contb_receipt_amt' : 'Donation_Amount'}, axis=1)\n",
    "df_combined = pd.merge(df_donation_count, df_donation_amount, on='cand_nm')\n",
    "print(df_combined)\n"
   ]
  },
  {
   "cell_type": "markdown",
   "metadata": {},
   "source": [
    "**2d. Calculate and add a new variable to the table from 2c that shows the average \\$ per donation. Print this table sorted by the average donation**"
   ]
  },
  {
   "cell_type": "code",
   "execution_count": 13,
   "metadata": {
    "collapsed": true
   },
   "outputs": [
    {
     "name": "stdout",
     "output_type": "stream",
     "text": [
      "                           Donation_Count  Donation_Amount  Average_Donation\n",
      "cand_nm                                                                     \n",
      "Sanders, Bernard                   371795    18,773,871.31             50.50\n",
      "Carson, Benjamin S.                 27342     2,952,109.00            107.97\n",
      "Cruz, Rafael Edward 'Ted'           57136     6,286,460.34            110.03\n",
      "Stein, Jill                           197        27,918.00            141.72\n",
      "Paul, Rand                           4256       797,624.29            187.41\n",
      "Clinton, Hillary Rodham            163509    39,368,777.01            240.77\n",
      "Fiorina, Carly                       4696     1,468,489.42            312.71\n",
      "Rubio, Marco                        14089     4,846,483.72            343.99\n",
      "Trump, Donald J.                     2255       893,356.89            396.17\n",
      "Santorum, Richard J.                   84        36,304.88            432.20\n",
      "Huckabee, Mike                        531       230,890.60            434.82\n",
      "Lessig, Lawrence                      372       186,144.50            500.39\n",
      "Kasich, John R.                      2988     1,553,823.54            520.02\n",
      "Johnson, Gary                          77        41,187.60            534.90\n",
      "Walker, Scott                         713       495,006.90            694.26\n",
      "Webb, James Henry Jr.                 106        76,568.16            722.34\n",
      "Jindal, Bobby                          31        23,231.26            749.40\n",
      "O'Malley, Martin Joseph               397       297,834.26            750.21\n",
      "Bush, Jeb                            3114     3,325,536.83          1,067.93\n",
      "Graham, Lindsey O.                    342       408,595.00          1,194.72\n",
      "Christie, Christopher J.              333       456,066.00          1,369.57\n",
      "Pataki, George E.                      20        30,450.00          1,522.50\n",
      "Perry, James R. (Rick)                116       208,400.00          1,796.55\n",
      "Gilmore, James S III                    3         8,100.00          2,700.00\n"
     ]
    }
   ],
   "source": [
    "# 2d YOUR CODE HERE\n",
    "\n",
    "df_combined['Average_Donation'] = df_combined['Donation_Amount'].divide(df_combined['Donation_Count'].values)\n",
    "df_combined.sort_values(by=['Average_Donation'], inplace=True)\n",
    "print(df_combined)\n",
    "\n"
   ]
  },
  {
   "cell_type": "markdown",
   "metadata": {},
   "source": [
    "**2e. Plotting a Bar Chart**\n",
    "\n",
    "Make a single bar chart that shows two different bars per candidate with one bar as the total value of the donations and the other as average $ per donation. \n",
    "- Show the Candidates Name on the x-axis\n",
    "- Show the amount on the y-axis\n",
    "- Include a title\n",
    "- Include axis labels\n",
    "- Hint: Make the y-axis a log-scale to show both numbers! (matplotlib docs: https://matplotlib.org/3.1.1/api/_as_gen/matplotlib.pyplot.yscale.html )"
   ]
  },
  {
   "cell_type": "code",
   "execution_count": 14,
   "metadata": {},
   "outputs": [
    {
     "name": "stdout",
     "output_type": "stream",
     "text": [
      "Index(['Donation_Count', 'Donation_Amount', 'Average_Donation'], dtype='object')\n"
     ]
    },
    {
     "data": {
      "text/plain": [
       "<AxesSubplot:title={'center':'Total Donation Amounts, Average Donations per Candidate'}, xlabel='Candidates', ylabel='Total Amounts'>"
      ]
     },
     "execution_count": 14,
     "metadata": {},
     "output_type": "execute_result"
    },
    {
     "data": {
      "image/png": "[encoded data removed]",
      "text/plain": [
       "<Figure size 1440x720 with 1 Axes>"
      ]
     },
     "metadata": {
      "needs_background": "light"
     },
     "output_type": "display_data"
    }
   ],
   "source": [
    "# 2e YOUR CODE HERE\n",
    "\n",
    "print(df_combined.columns)\n",
    "\n",
    "df_combined.plot(    \n",
    "    y=['Donation_Amount', 'Average_Donation'], kind='bar', logy= True, \n",
    "    figsize=(20,10), title= 'Total Donation Amounts, Average Donations per Candidate', ylabel='Total Amounts', xlabel = 'Candidates') \n"
   ]
  },
  {
   "cell_type": "markdown",
   "metadata": {},
   "source": [
    "**2f. Comment on the results of your data analysis in a short paragraph.**\n",
    "\n",
    "- There are several interesting conclusions you can draw from the table you have created.\n",
    "- What have you learned about campaign contributions in California?\n",
    "- We are looking for data insights here rather than comments on the code!"
   ]
  },
  {
   "cell_type": "markdown",
   "metadata": {},
   "source": [
    "`2f YOUR RESPONSE HERE`\n",
    "\n",
    "A lot of money was raised in CA. The total funds raised in CA were $82,793,229.51. I also discovered that even though some candidates received a lot of lower dollar donations, they also received a high count of donors. With these two insights we can see that some candidates still raised a lot of money.\n"
   ]
  },
  {
   "cell_type": "markdown",
   "metadata": {},
   "source": [
    "## 3. Exploring Donor Occupations (30 points)\n",
    "\n",
    "Above in part 2, we saw that some simple data analysis can give us insights into the campaigns of our candidates. Now let's quickly look to see what *kind* of person is donating to each campaign using the `contbr_occupation` variable."
   ]
  },
  {
   "cell_type": "markdown",
   "metadata": {},
   "source": [
    "**3a. Show the top 5 occupations of individuals that contributed to Hillary Clinton.** \n",
    "\n",
    "- Subset your data to create a dataframe with only donations for Hillary Clinton.\n",
    "- Then use the `value_counts` and `head` methods to present the top 5 occupations (`contbr_occupation`) for her donors.\n",
    "- Note: we are just interested in the count of donations, not the value of those donations."
   ]
  },
  {
   "cell_type": "code",
   "execution_count": 15,
   "metadata": {
    "collapsed": true,
    "deletable": false,
    "nbgrader": {
     "checksum": "20a71229316bf24a2ce62c52f72d8142",
     "grade": true,
     "grade_id": "cell-963603c5ed346a99",
     "locked": false,
     "points": 0,
     "schema_version": 1,
     "solution": true
    }
   },
   "outputs": [
    {
     "data": {
      "text/html": [
       "<div>\n",
       "<style scoped>\n",
       "    .dataframe tbody tr th:only-of-type {\n",
       "        vertical-align: middle;\n",
       "    }\n",
       "\n",
       "    .dataframe tbody tr th {\n",
       "        vertical-align: top;\n",
       "    }\n",
       "\n",
       "    .dataframe thead th {\n",
       "        text-align: right;\n",
       "    }\n",
       "</style>\n",
       "<table border=\"1\" class=\"dataframe\">\n",
       "  <thead>\n",
       "    <tr style=\"text-align: right;\">\n",
       "      <th></th>\n",
       "      <th>contbr_occupation</th>\n",
       "    </tr>\n",
       "  </thead>\n",
       "  <tbody>\n",
       "    <tr>\n",
       "      <th>RETIRED</th>\n",
       "      <td>33450</td>\n",
       "    </tr>\n",
       "    <tr>\n",
       "      <th>ATTORNEY</th>\n",
       "      <td>7315</td>\n",
       "    </tr>\n",
       "    <tr>\n",
       "      <th>INFORMATION REQUESTED</th>\n",
       "      <td>4742</td>\n",
       "    </tr>\n",
       "    <tr>\n",
       "      <th>TEACHER</th>\n",
       "      <td>3591</td>\n",
       "    </tr>\n",
       "    <tr>\n",
       "      <th>HOMEMAKER</th>\n",
       "      <td>3436</td>\n",
       "    </tr>\n",
       "  </tbody>\n",
       "</table>\n",
       "</div>"
      ],
      "text/plain": [
       "                       contbr_occupation\n",
       "RETIRED                            33450\n",
       "ATTORNEY                            7315\n",
       "INFORMATION REQUESTED               4742\n",
       "TEACHER                             3591\n",
       "HOMEMAKER                           3436"
      ]
     },
     "execution_count": 15,
     "metadata": {},
     "output_type": "execute_result"
    }
   ],
   "source": [
    "# 3a YOUR CODE HERE\n",
    "\n",
    "df_clinton = pd.DataFrame( df[ (df.cand_nm == 'Clinton, Hillary Rodham') ] )\n",
    "\n",
    "# sort the dataframe by the contribution amount\n",
    "df_count_clinton = pd.DataFrame(df_clinton['contbr_occupation'].value_counts(ascending=False))\n",
    "\n",
    "# list top 5 \n",
    "df_count_clinton.head(5)\n"
   ]
  },
  {
   "cell_type": "markdown",
   "metadata": {
    "deletable": false,
    "nbgrader": {
     "checksum": "426b589a9d6457f38381eb1c77678d4f",
     "grade": true,
     "grade_id": "cell-b6fc3f7c906c95a2",
     "locked": false,
     "points": 0,
     "schema_version": 1,
     "solution": true
    }
   },
   "source": [
    "**3b. Write a function called `get_donors`.**\n",
    "\n",
    "Imagine that you want to do the previous operation on several candidates.  To keep your work neat, you want to take the work you did on the Clinton-subset and wrap it in a function that you can apply to other subsets of the data.\n",
    "\n",
    "- The function should take a DataFrame as a parameter, and return a Series containing the counts for the top 5 occupations contained in that DataFrame."
   ]
  },
  {
   "cell_type": "code",
   "execution_count": 16,
   "metadata": {
    "collapsed": true,
    "deletable": false,
    "nbgrader": {
     "checksum": "81ebf2a2f96961b4464f6c35d2143427",
     "grade": true,
     "grade_id": "cell-bea2cf7a6fff8565",
     "locked": false,
     "points": 0,
     "schema_version": 1,
     "solution": true
    }
   },
   "outputs": [],
   "source": [
    "def get_donors(df):\n",
    "    \"\"\"This function takes a dataframe that contains a variable named contbr_occupation.\n",
    "    It outputs a Series containing the counts for the 5 most common values of that\n",
    "    variable.\"\"\"\n",
    "    \n",
    "    # 3b YOUR CODE HERE\n",
    "    ds_top_cand = df.value_counts()\n",
    "            \n",
    "    return ds_top_cand\n"
   ]
  },
  {
   "cell_type": "markdown",
   "metadata": {},
   "source": [
    "**3c. Now run the `get_donors` function on subsets of the dataframe corresponding to three candidates. Show each of the three candidates below.**\n",
    "\n",
    "- Hillary Clinton\n",
    "- Bernie Sanders\n",
    "- Donald Trump"
   ]
  },
  {
   "cell_type": "code",
   "execution_count": 17,
   "metadata": {
    "collapsed": true,
    "deletable": false,
    "nbgrader": {
     "checksum": "bffd2778d22127102347386bfb6f5b20",
     "grade": true,
     "grade_id": "cell-4ad1da24176f0450",
     "locked": false,
     "points": 0,
     "schema_version": 1,
     "solution": true
    }
   },
   "outputs": [
    {
     "name": "stdout",
     "output_type": "stream",
     "text": [
      "Clinton Top Donors\n",
      "RETIRED                      33450\n",
      "ATTORNEY                      7315\n",
      "INFORMATION REQUESTED         4742\n",
      "TEACHER                       3591\n",
      "HOMEMAKER                     3436\n",
      "                             ...  \n",
      "DEPUTY CLERK                     1\n",
      "CALIFORNIA STATE ASSEMBLY        1\n",
      "CMO STUBHUB                      1\n",
      "ATTORNEY/ACADEMIC                1\n",
      "DIVISION DIRECTOR                1\n",
      "Name: contbr_occupation, Length: 6719, dtype: int64\n",
      "Sanders Top Donors\n",
      "NOT EMPLOYED                   96371\n",
      "RETIRED                        15048\n",
      "TEACHER                        10167\n",
      "SOFTWARE ENGINEER               7861\n",
      "ENGINEER                        7094\n",
      "                               ...  \n",
      "SELF CONTRACTOR                    1\n",
      "CHARACTER DESIGNER                 1\n",
      "VOCALIST, SINGER/SONGWRITER        1\n",
      "ENVIRONMENTAL DESIGNER             1\n",
      "GFX ARTIST                         1\n",
      "Name: contbr_occupation, Length: 8571, dtype: int64\n",
      "Trump Top Donors\n",
      "RETIRED                                   849\n",
      "INFORMATION REQUESTED                      70\n",
      "CEO                                        57\n",
      "OWNER                                      51\n",
      "PRESIDENT                                  35\n",
      "ATTORNEY                                   34\n",
      "HOMEMAKER                                  31\n",
      "SALES                                      31\n",
      "PHYSICIAN                                  23\n",
      "CONTRACTOR                                 22\n",
      "MANAGER                                    20\n",
      "ABLE                                       19\n",
      "DRIVER                                     18\n",
      "CPA                                        16\n",
      "EXECUTIVE                                  15\n",
      "BUSINESS OWNER                             15\n",
      "REAL ESTATE DEVELOPER                      15\n",
      "CHAIRMAN                                   15\n",
      "REAL ESTATE                                14\n",
      "ENGINEER                                   14\n",
      "REALTOR                                    13\n",
      "LAWYER                                     12\n",
      "REAL ESTATE INVESTOR                       12\n",
      "FARMER                                     12\n",
      "CONSULTANT                                 11\n",
      "RANCHER                                    10\n",
      "INVESTMENT ADVISOR                         10\n",
      "REAL ESTATE BROKER                         10\n",
      "TRUCK DRIVER                                9\n",
      "ACCOUNTANT                                  9\n",
      "LANDLORD                                    9\n",
      "PILOT                                       8\n",
      "REGISTERED NURSE                            8\n",
      "STUDENT                                     7\n",
      "REGIONAL SUPPORT ENGINEER                   7\n",
      "INVESTOR                                    7\n",
      "SELF-EMPLOYED                               7\n",
      "DEVELOPER                                   7\n",
      "EMPLOYEE                                    6\n",
      "BANK EXECUTIVE                              6\n",
      "TEACHER                                     6\n",
      "CHAIRMAN AND CEO                            6\n",
      "INSURANCE                                   6\n",
      "FABRICATER--INSTALLER                       6\n",
      "BROKER                                      6\n",
      "CHAIRMAN & CEO                              6\n",
      "AUTOMATION SPECIALIST                       6\n",
      "COMPUTER ANALYST                            5\n",
      "REAL ESTATE DEVELOPMENT                     5\n",
      "CONSTRUCTION                                5\n",
      "CONTROLLER                                  5\n",
      "CLASSICAL EGYPTIAN DANCER                   5\n",
      "HOUSEWIFE                                   5\n",
      "WRITER                                      4\n",
      "DOCTORAL GRAD STUDENT                       4\n",
      "GENERAL CONTRACTOR                          4\n",
      "SR EXECUTIVE BANKER                         4\n",
      "BUSINESSMAN                                 4\n",
      "DENTIST                                     4\n",
      "REAL ESTATE APPRAISER                       4\n",
      "PRINCIPAL                                   4\n",
      "MANAGER, ANALYTICS                          4\n",
      "FINANCIAL ADVISOR                           4\n",
      "SOFTWARE ENGINEER                           4\n",
      "SELF EMPLOYED                               4\n",
      "PROPERTY MANAGER                            4\n",
      "DOCTOR                                      4\n",
      "ANALYST                                     4\n",
      "DATA SCIENTIST-SOFTWARE ENGINEER            3\n",
      "PROGRAM MANAGER                             3\n",
      "DIRECT SALES                                3\n",
      "JANITORIAL CONTRACTOR                       3\n",
      "ADMINISTRATOR                               3\n",
      "PHILANTHROPIST                              3\n",
      "COMPUTER ENGINEER                           3\n",
      "AQUARIUM MAINTENANCE                        3\n",
      "ELECTRONICS TECHNICIAN                      3\n",
      "PROJECT MANAGER                             3\n",
      "COMMERCIAL REAL ESTATE                      3\n",
      "FINANCE                                     3\n",
      "ATTORNEY AT LAW                             3\n",
      "SALES DIRECTOR                              3\n",
      "CHIEF ENGINEER                              3\n",
      "OFFICE MANAGER                              3\n",
      "MACHINIST                                   3\n",
      "POOL BUILDER                                3\n",
      "SVP                                         3\n",
      "FOUNDER                                     3\n",
      "DESIGNER                                    3\n",
      "PRIVATE EQUITY                              3\n",
      "HEALTH SCIENCE                              3\n",
      "INSURANCE AGENT                             3\n",
      "VETERINARIAN                                3\n",
      "LAWYER LEGAL CONSULTANT                     3\n",
      "OWNER/CFO                                   3\n",
      "EMERGENCY SERVICES                          3\n",
      "SALES ENGINEER                              3\n",
      "CLERK AT DMV                                3\n",
      "ADMIN                                       3\n",
      "RESEARCHER                                  3\n",
      "ENTREPRENEUR                                3\n",
      "DELIVERY DRIVER                             2\n",
      "MORTGAGE BANKER                             2\n",
      "PURCHASING                                  2\n",
      "ELECTRICIAN                                 2\n",
      "CAPTAIN                                     2\n",
      "COMMERCIAL REAL ESTASTE INVESTOR            2\n",
      "CORPORATE JET BROKERAGE AND MANAGEMENT      2\n",
      "TECH GUY                                    2\n",
      "WEDDINGS/FARM                               2\n",
      "NURSE                                       2\n",
      "PRESIDENT/CEO                               2\n",
      "INVESTMENT/OWNER                            2\n",
      "OWNER/DEVELOPER                             2\n",
      "OPERATING ENGINEER                          2\n",
      "WATER WELL DRILLER                          2\n",
      "PHOTOGRAPHER                                2\n",
      "SUPERVISOR OF MAINTENANCE OPERATIONS        2\n",
      "VENDING MACHINE OWNER/OPERATOR              2\n",
      "PROPRIETOR                                  2\n",
      "EXECUTIVE CHAIRMAN & CHIEF CREATIVE OF      2\n",
      "VP OF PRODUCT MANAGEMENT                    2\n",
      "PSYCHIATRIST                                2\n",
      "TELEPHONE TECH                              2\n",
      "ARTIST                                      2\n",
      "HORSE TRAINER                               2\n",
      "HEAVY EQUITMENT MECHANIC                    2\n",
      "PRODUCER                                    2\n",
      "APPRAISER                                   2\n",
      "ARCHITECTURE                                2\n",
      "BIOMEDICAL EQUIPMENT TECHNICIAN             2\n",
      "POLICE OFFICER                              2\n",
      "SALESPERSON                                 2\n",
      "TERMITE & PEST CONTROL                      2\n",
      "ELECTRICAL CONTRACTOR                       2\n",
      "INDUSTRIAL REAL ESTATE                      2\n",
      "CHAIRMAN OF THE BOARD                       2\n",
      "RANCHER/DEVELOPER                           2\n",
      "SENIOR PROGRAM MANAGER                      2\n",
      "TREASURER                                   2\n",
      "CONTRACT MANAGER                            2\n",
      "STORE MANAGER                               2\n",
      "DIGITAL                                     2\n",
      "MEDICAL SCIENTIST                           2\n",
      "CHAIRMAN AND FOUNDER                        2\n",
      "CPA LITIGATION CONSULTING                   2\n",
      "CEO/MGR                                     2\n",
      "TAM                                         2\n",
      "SALES MANAGER                               2\n",
      "FARMING                                     2\n",
      "CEO & CHAIRMAN                              2\n",
      "INSURANCE BROKERAGE AND RISK MANAGEMEN      2\n",
      "COMPUTER PROGRAMMER                         2\n",
      "NOT EMPLOYED                                2\n",
      "EDUCATION ADVOCATE                          2\n",
      "ACCOUNT MANAGER SALES                       2\n",
      "INVESTMENTS                                 2\n",
      "CHIEF OPERATING OFFICER                     2\n",
      "SENIOR PORTFOLIO MANAGER                    2\n",
      "PR. SCIENTIST                               2\n",
      "PRESIDENT & CEO                             2\n",
      "FUNERAL SERVICE PROVIDER                    2\n",
      "HARPIST                                     2\n",
      "GENERAL MANAGER                             2\n",
      "ACTOR                                       2\n",
      "SECURITY PROFESSIONAL                       2\n",
      "ADMIN ASSISTANT                             2\n",
      "WEALTH MANAGER                              2\n",
      "BANK INVESTMENT SALES                       2\n",
      "ASSET MANAGER                               2\n",
      "INSURANCE UNDERWRITER                       2\n",
      "MECHANICAL ENGINEER                         2\n",
      "FOODSERVICE                                 2\n",
      "PLASTIC SURGEON                             2\n",
      "CO-CHAIRMAN                                 2\n",
      "ROOFING CONTRACTOR                          2\n",
      "INTERIOR DESIGN                             2\n",
      "DERMATOLOGIST                               2\n",
      "REAL ESTATE SALES                           2\n",
      "MGR. MATERIALS                              2\n",
      "REAL ESTATE FINANCE                         2\n",
      "IENTERPRISE TECHNOLOGIES INC.               2\n",
      "BUSINESSWOMAN                               2\n",
      "TRUCKING                                    2\n",
      "PRESIDENT & COO                             2\n",
      "CLINICAL SCIENTIST                          1\n",
      "PET CREMATION                               1\n",
      "CNA                                         1\n",
      "PROFESSIONAL SALES                          1\n",
      "ENGINEER ASSOCIATE                          1\n",
      "CERTIFIED REGISTERED NURSE ANESTHETIST      1\n",
      "PURCHASER                                   1\n",
      "MANAGER, IT                                 1\n",
      "DETECTIVE                                   1\n",
      "EMT                                         1\n",
      "TRAVEL                                      1\n",
      "SOCIAL SCIENCE TEACHER                      1\n",
      "PRINTING                                    1\n",
      "EXECUTIVE ASSISTANT                         1\n",
      "FILM LOCATIONS BROKER                       1\n",
      "DEPUTY TAX COLLECTOR                        1\n",
      "SR. CONTROLS TECH                           1\n",
      "AUTOMOTIVE                                  1\n",
      "TAX PREPARER/FINANCIAL PLANNER              1\n",
      "GROCER                                      1\n",
      "RETAIL OWNER                                1\n",
      "RN CASE MANAGER                             1\n",
      "INSURANCE SALES                             1\n",
      "CLINICAL PSYCHOLOGIST                       1\n",
      "MORTGAGE                                    1\n",
      "XYZ                                         1\n",
      "CERTIFIED COURT REPORTER                    1\n",
      "TECHNICIAN                                  1\n",
      "INSURANCE APPRAISER                         1\n",
      "CPA/ADVISOR/QUALIFIED KINGDOM ADVISOR       1\n",
      "TECHNICAL ENGINEER                          1\n",
      "WATER TREATMENT OPERATOR                    1\n",
      "HEARING AID SPECIALIST                      1\n",
      "LOCOMOTIVE ENGINEER                         1\n",
      "SMALL BUSINESS OWNER / OPERATOR             1\n",
      "INVESTMENT BANKER                           1\n",
      "HVAC CONTRACTOR                             1\n",
      "PURCHASING MANAGER                          1\n",
      "SUPERINTENDENT                              1\n",
      "BANKING                                     1\n",
      "AEROSPACE ENGINEER                          1\n",
      "NEUROSURGEON                                1\n",
      "ATTORNEY/MEDIATOR                           1\n",
      "GROUP MANAGER                               1\n",
      "HOUSEHOLD ENGINEER                          1\n",
      "MECHANICAL DESIGNER/ DESIGNER/OWNER         1\n",
      "FABRICATION                                 1\n",
      "BUSS OWNER                                  1\n",
      "TROUBLEMAN                                  1\n",
      "PHYSICIAN/INVENTOR                          1\n",
      "SERGEANT                                    1\n",
      "STAFF COUNSELOR                             1\n",
      "PROFESSOR                                   1\n",
      "AECI                                        1\n",
      "CARETAKER                                   1\n",
      "STOCK BROKER                                1\n",
      "SELF EMPLOYED WRITER                        1\n",
      "MECHANICAL DESIGNER                         1\n",
      "ADVISORE/OWNER                              1\n",
      "CIVIL SERVICE                               1\n",
      "SERVICE DISPATCHER                          1\n",
      "FARMER/BUSINESSMAN                          1\n",
      "MUSICAL PRODUCER                            1\n",
      "LAND LEVELING                               1\n",
      "CHILDREN'S ORPHANAGE EMPLOYEE               1\n",
      "EXECUTIVE VP                                1\n",
      "GEOLOGIST/CORPORATION PRESIDENT             1\n",
      "DIESEL ENGINE SALES AND SERVICE             1\n",
      "PRESIDENT OF A SUB CHAPTER S INC.           1\n",
      "AUTO PARTS                                  1\n",
      "CHAPLAIN                                    1\n",
      "IT TECH                                     1\n",
      "C;ERICAL SUPERVISOR                         1\n",
      "VP                                          1\n",
      "OFFICER/TROOPER                             1\n",
      "SVP & CIO                                   1\n",
      "SR. CONSULTANT: TECHNICAL ACCOUNT MGMT      1\n",
      "TV PERSONALITY BAIL BONDSMAN / BOUNTY       1\n",
      "LOGGING                                     1\n",
      "CONSTRUCTION.                               1\n",
      "RE BROKER                                   1\n",
      "REAL ESTATE PROFESSIONAL                    1\n",
      "ADVERTISING & MARKETING                     1\n",
      "PRIVATE SECURITY PATROL                     1\n",
      "INSURANCE BROKER                            1\n",
      "MEDIATOR                                    1\n",
      "CREATIVE DIRECTOR                           1\n",
      "GENERAL COUNSEL                             1\n",
      "NUMISMATIST                                 1\n",
      "DOCTOR OF CHIROPRACTIC                      1\n",
      "CS                                          1\n",
      "COMMERCIAL REAL ESTATE SALES                1\n",
      "PASTRY CHEF                                 1\n",
      "SELF                                        1\n",
      "INTERIOR-EXTERIOR DESIGNER                  1\n",
      "PHYSICIAN , ANESTHESIOLOGIST                1\n",
      "COIN DEALER                                 1\n",
      "PM                                          1\n",
      "THERAPIST                                   1\n",
      "SERVER                                      1\n",
      "PRESIDENT AND CEO                           1\n",
      "IT                                          1\n",
      "ADVERTISING SALES MANAGER                   1\n",
      "DESIGNER/CONTRACTOR                         1\n",
      "REVENUE MAINTAINER III                      1\n",
      "AGRICULTURAL CONSULTANT                     1\n",
      "STOCKBROKER                                 1\n",
      "UNEMPLOYED                                  1\n",
      "TAX COLLECTOR                               1\n",
      "MATERIALS HANDLER                           1\n",
      "EXEC.                                       1\n",
      "RN                                          1\n",
      "POWER GENERATION CONSULTANT                 1\n",
      "BOOK KEEPER                                 1\n",
      "ANESTHESIOLOGIST , MD                       1\n",
      "NETWORK ANALYST                             1\n",
      "FAMILY PHYSICIAN                            1\n",
      "ARTOSPACE                                   1\n",
      "ADMINISTRATIVE ASSISTANT                    1\n",
      "OFFICE TECHNICIAN (TYPING)                  1\n",
      "VICE PRESIDENT                              1\n",
      "PATIENT ADVOCATE                            1\n",
      "SR. SYSTEMS ANALYST                         1\n",
      "VP BRANCH SALES MANAGER                     1\n",
      "MANAGEMENT                                  1\n",
      "BUSINESS DEVELOPMENT                        1\n",
      "SUPERVISOR                                  1\n",
      "MD - PHYSICIAN                              1\n",
      "TAX PAYER                                   1\n",
      "LAW CLERK & STUDENT                         1\n",
      "GOVERNMENT CONTRACTOR                       1\n",
      "HIGH SCHOOL GIRLS ASSISTANT GOLF COACH      1\n",
      "PROCESS OPERATOR                            1\n",
      "EDUCATOR                                    1\n",
      "NAVAL OFFICER                               1\n",
      "REAL ESTATE AND CONSTRUCTION                1\n",
      "HVAC                                        1\n",
      "CTO                                         1\n",
      "EXECUTIVE VICE PRESIDENT                    1\n",
      "TECNICAL SUPPORT SPECIALIST                 1\n",
      "DRUG TESTING                                1\n",
      "INTERNATIONAL FREIGHT FORWARDER             1\n",
      "PRESIDENT/OWNER                             1\n",
      "TV COMERCIAL PRODUCER                       1\n",
      "ORTHODONTIST                                1\n",
      "S/E                                         1\n",
      "SOFTWARE ARCHITECT                          1\n",
      "CEO, BRAND STRATEGIST                       1\n",
      "TECH MARKETING EXECUTIVE                    1\n",
      "FUNERAL SERVICES PROVIDER                   1\n",
      "CHEMIST                                     1\n",
      "AIR RESOURCES ENGINEER                      1\n",
      "SOLAR POWER CONTRACTOR                      1\n",
      "BUISNESS OWNER                              1\n",
      "NURSE PRACTITIONER                          1\n",
      "TOWING                                      1\n",
      "INSIDE SALES CORRUGATED                     1\n",
      "PUBLIC RELATIONS                            1\n",
      "CONSULTANT/MANAGER                          1\n",
      "SR SCIENTIST                                1\n",
      "PEACE OFFICER (LIEUTENANT)                  1\n",
      "TECHNICAL ACCOUNT MANAGER                   1\n",
      "ENDODONTIST                                 1\n",
      "R E BROKER                                  1\n",
      "OWNER/ENGINEER                              1\n",
      "ATTORNEY/OWNER                              1\n",
      "ACOUNT MANAGER                              1\n",
      "REAL ESTATE MOBILE HOME PARKS               1\n",
      "SOLDIER                                     1\n",
      "SENIOR ADVISOR                              1\n",
      "JANITOR                                     1\n",
      "CROP DUSTING BUSINESS                       1\n",
      "COUNSELOR                                   1\n",
      "FINANCE/ACCOUNTING                          1\n",
      "FILM PRODUCER                               1\n",
      "COLLEGE PROFESSOR/WRITER                    1\n",
      "STEEL WORKER                                1\n",
      "MGM                                         1\n",
      "CALARI CONTRACTORS                          1\n",
      "PAINTING CONTRACTOR                         1\n",
      "RAMP SUPERVISOR                             1\n",
      "VINTAGE FERRARI DEALER                      1\n",
      "MARKETING                                   1\n",
      "BUSINESS EXEC                               1\n",
      "BUSINESS EXECUTIVE                          1\n",
      "ENTERPRISE NETWORK CONSULTANT               1\n",
      "OPERATIONS MANAGER                          1\n",
      "PIPELINE                                    1\n",
      "SR MGR  R&D/QA                              1\n",
      "ART DIRECTOR FOR MOTION PICTURES            1\n",
      "FINANCIAL COUNSELOR                         1\n",
      "AGRIBUSINESS                                1\n",
      "PLUMBER                                     1\n",
      "SR VP                                       1\n",
      "LIFE INSURANCE SALES                        1\n",
      "SR. MECHANICAL DESIGNER                     1\n",
      "VP PRODUCT MANAGEMENT                       1\n",
      "OWNER/DIRECTOR                              1\n",
      "PRESIDENT / OWNER                           1\n",
      "FAMILY COUNSELOR                            1\n",
      "TITANIUM MELTER                             1\n",
      "ER PHYSICIAN                                1\n",
      "HAIR STYLIST                                1\n",
      "GOLF CO                                     1\n",
      "INSURANCE EXECUTIVE                         1\n",
      "OPERATIONS SUPERVISOR                       1\n",
      "FOUNDER AND OWNER                           1\n",
      "FACTORY WORKER                              1\n",
      "SECURITY PROFSSIONAL                        1\n",
      "CERTIFIED NURSE ASSISTANT                   1\n",
      "WEDDING VENUE                               1\n",
      "PRIVATE INVESTIGATOR                        1\n",
      "PROPERTY  OWNER/MANAGEMENT                  1\n",
      "TELECOM                                     1\n",
      "BALLET TEACHER/CHOREOGRAPHER                1\n",
      "ATTORNEY/REAL ESTATE BROKER                 1\n",
      "MANAGEMENT ASSOCIATE                        1\n",
      "MANAGER-ATTORNEY                            1\n",
      "LAWYER/ DOCTOR                              1\n",
      "PROPERTY MANAGEMENT                         1\n",
      "SURETY BONDING                              1\n",
      "SMALL BUSINESS OWNERS                       1\n",
      "WASTE AUDITING/SERVICES                     1\n",
      "MANUFACTURER                                1\n",
      "REAL ESTATE CONSULTANT                      1\n",
      "HEALTH FOOD STORE                           1\n",
      "PRESIDENT, CEO                              1\n",
      "POSTAL WORKER                               1\n",
      "PORTER                                      1\n",
      "SENIOR VP                                   1\n",
      "MEDICAL ADMINISTRATOR                       1\n",
      "PARTNER                                     1\n",
      "DIRECTOR OF TALENT ACQUISITION              1\n",
      "STOCK TRADER                                1\n",
      "DEVELOPMENT                                 1\n",
      "HOME AUTOMATION                             1\n",
      "DISABLED                                    1\n",
      "PLUMBING CONTRACTOR                         1\n",
      "PROFESSOR OF LAW                            1\n",
      "LEGAL ASSISTANT                             1\n",
      "CHIEF DATA OFFICER                          1\n",
      "BOOKKEEPER                                  1\n",
      "VICE-PRESIDENT                              1\n",
      "BUSINESS BROKER                             1\n",
      "STATE ANALYST                               1\n",
      "FIDUCIARY                                   1\n",
      "NURSING INSTRUCTOR                          1\n",
      "ADMINISTRATION                              1\n",
      "READYMIX DRIVER/TEAMSTER                    1\n",
      "AUDIOLOGIST                                 1\n",
      "GAS SERVICE REP                             1\n",
      "DESKTOP PUBLISHER                           1\n",
      "THIRD MATE - UNITED STATES MERCHANT MA      1\n",
      "PARTNER, CPA                                1\n",
      "BATTERY SALES                               1\n",
      "POONSLAYER                                  1\n",
      "UBER                                        1\n",
      "OWNER/ HAIR STYLIST                         1\n",
      "ASSESSOR/RECORDER                           1\n",
      "EXECUTIVE CITRIX SYSTEMS, INC.              1\n",
      "TV TECH                                     1\n",
      "BUSIINESS OWNER                             1\n",
      "C.E.O.                                      1\n",
      "OWNER-PRESIDENT                             1\n",
      "VITICULTURIST/INVESTOR                      1\n",
      "CO-OWNER                                    1\n",
      "INDEPENDENT CONTRACTOR                      1\n",
      "PROFESSIONAL COPYWRITER                     1\n",
      "REFRIGERATION, HVAC & FOOD SERVICE          1\n",
      "SR. IT INFRASTRUCTURE ENGINEER              1\n",
      "HOSPITAL CHIEF FINANCIAL OFFICER            1\n",
      "DISABLED VETERAN                            1\n",
      "SR ELECTRICAL INPSECTOR                     1\n",
      "ATTORNEY/CPA                                1\n",
      "AFFORDABLE HOUSING DEVELOPMENT              1\n",
      "EATING PIZZA                                1\n",
      "BUSINESS                                    1\n",
      "COMM'L RE BROKER                            1\n",
      "BUILDER                                     1\n",
      "SALES - SOIL STABILIZER                     1\n",
      "TURKEY BROKER                               1\n",
      "RESEARCH DIRECTOR                           1\n",
      "CONSULTING PSYCHOLOGIST                     1\n",
      "PRES                                        1\n",
      "SENIOR VICE PRESIDENT                       1\n",
      "EMERGENCY PHYSICIAN                         1\n",
      "NIGHT CLUB OWNER                            1\n",
      "INVESTOR RELATIONS                          1\n",
      "NEUROLOGIST                                 1\n",
      "SONGWRITER                                  1\n",
      "ROBOTICS                                    1\n",
      "PRESIDENT & CFO                             1\n",
      "DIRECTOR OF ACCOUNTING                      1\n",
      "OCCUPATION                                  1\n",
      "BROKER/OWNER                                1\n",
      "CONTEACTOR                                  1\n",
      "LEGAL SECRETARY                             1\n",
      "AUTO                                        1\n",
      "CLOUD COMPUTING ENGINEER                    1\n",
      "ADJUSTOR                                    1\n",
      "REGIONAL MARKETING CONSULTANT               1\n",
      "POLITICAL CHAIR                             1\n",
      "INTERNET RADIO AND TV PRODUCER              1\n",
      "PUB SPEC                                    1\n",
      "Name: contbr_occupation, dtype: int64\n"
     ]
    }
   ],
   "source": [
    "# 3c YOUR CODE HERE\n",
    "\n",
    "df_clinton = pd.DataFrame( df[ (df.cand_nm == 'Clinton, Hillary Rodham') ] )\n",
    "ds_clinton = get_donors(df_clinton['contbr_occupation'])\n",
    "print('Clinton Top Donors')\n",
    "print(ds_clinton)\n",
    "\n",
    "df_sanders = pd.DataFrame( df[ (df.cand_nm == 'Sanders, Bernard') ] )\n",
    "ds_sanders = get_donors(df_sanders['contbr_occupation'])\n",
    "print('Sanders Top Donors')\n",
    "print(ds_sanders)\n",
    "\n",
    "df_trump = pd.DataFrame( df[ (df.cand_nm == 'Trump, Donald J.') ] )\n",
    "ds_trump = get_donors(df_trump['contbr_occupation'])\n",
    "print('Trump Top Donors')\n",
    "print(ds_trump)\n"
   ]
  },
  {
   "cell_type": "markdown",
   "metadata": {},
   "source": [
    "**3d. Finally, use `groupby` to separate the entire dataset by candidate.**\n",
    "\n",
    "- Call .apply(get_donors) on your groupby object, which will apply the function you wrote to each subset of your data.\n",
    "- Look at your output and marvel at what pandas can do in just one line!"
   ]
  },
  {
   "cell_type": "code",
   "execution_count": 18,
   "metadata": {
    "collapsed": true
   },
   "outputs": [
    {
     "data": {
      "text/plain": [
       "cand_nm                                        \n",
       "Bush, Jeb              RETIRED                     996\n",
       "                       HOMEMAKER                   180\n",
       "                       ATTORNEY                     92\n",
       "                       Q.A.                         89\n",
       "                       PRESIDENT                    84\n",
       "                                                  ... \n",
       "Webb, James Henry Jr.  PHYSICIAN                     1\n",
       "                       HEALTH CARE                   1\n",
       "                       ENGINEERING MANAGER           1\n",
       "                       INVESTMENT MANAGEMENT         1\n",
       "                       ADMINISTRATIVE LAW JUDGE      1\n",
       "Name: contbr_occupation, Length: 23303, dtype: int64"
      ]
     },
     "execution_count": 18,
     "metadata": {},
     "output_type": "execute_result"
    }
   ],
   "source": [
    "# 3d YOUR CODE HERE\n",
    "\n",
    "# group all data by candidate name\n",
    "df_group = df.groupby('cand_nm')\n",
    "\n",
    "# apply function to all data\n",
    "df_group.apply(lambda x: get_donors(x['contbr_occupation']))\n"
   ]
  },
  {
   "cell_type": "markdown",
   "metadata": {
    "collapsed": true,
    "deletable": false,
    "nbgrader": {
     "checksum": "14c2855e3d59f0da6b1afd5cf0da2da8",
     "grade": true,
     "grade_id": "cell-fd840cdd19d2bd2a",
     "locked": false,
     "points": 0,
     "schema_version": 1,
     "solution": true
    }
   },
   "source": [
    "**3e. Comment on your data insights & findings in a short paragraph.**"
   ]
  },
  {
   "cell_type": "markdown",
   "metadata": {
    "deletable": false,
    "nbgrader": {
     "checksum": "43ce3d15cee7ab73f53fd8f054c9826c",
     "grade": true,
     "grade_id": "cell-dce8d3107c1463ca",
     "locked": false,
     "points": 0,
     "schema_version": 1,
     "solution": true
    }
   },
   "source": [
    "`3e YOUR RESPONSE HERE`\n",
    "\n",
    "With the rich data set from the 2016 election cycle, I was able to produce great insights. I was able to find the largest donations to each candidate. I could dig deep into other attributes about the data, like what occupations donated to each candidate. Discovering the donation count and average donation amount was very eye opening. \n"
   ]
  },
  {
   "cell_type": "markdown",
   "metadata": {},
   "source": [
    "**3f. Think about your findings in section 3 vs. your findings in section 2 of this assignment.**\n",
    "\n",
    "Do you have any new data insights into the results you saw in section 2 now that you see the top occupations for each candidate?"
   ]
  },
  {
   "cell_type": "markdown",
   "metadata": {
    "deletable": false,
    "nbgrader": {
     "checksum": "a5f4e6df0f32e24c492a9589ec87fef6",
     "grade": true,
     "grade_id": "cell-9e3f68b21dac8e10",
     "locked": false,
     "points": 0,
     "schema_version": 1,
     "solution": true
    }
   },
   "source": [
    "`3f YOUR RESPONSE HERE`\n",
    "\n",
    "Understanding which occupations donated to which candidates was very insightful. We could cross correlate with other features to really understand where candidates could focus their attention to win new voters. "
   ]
  },
  {
   "cell_type": "markdown",
   "metadata": {},
   "source": [
    "\n",
    "## 4. Plotting Data (20 points)\n",
    "\n",
    "There is an important element that we have not yet explored in this dataset - time."
   ]
  },
  {
   "cell_type": "markdown",
   "metadata": {},
   "source": [
    "**4a. Present a single line chart with the following elements.**\n",
    "\n",
    "- Show the date on the x-axis\n",
    "- Show the contribution amount on the y-axis\n",
    "- Include a title\n",
    "- Include axis labels"
   ]
  },
  {
   "cell_type": "code",
   "execution_count": 5,
   "metadata": {
    "deletable": false,
    "nbgrader": {
     "checksum": "4f1a9e7ee0ded9d2b5af5777cb85e505",
     "grade": true,
     "grade_id": "cell-c14fbed9d72d54e3",
     "locked": false,
     "points": 0,
     "schema_version": 1,
     "solution": true
    }
   },
   "outputs": [
    {
     "data": {
      "text/plain": [
       "<AxesSubplot:title={'center':'Donations by Time'}, xlabel='Dates', ylabel='Amounts'>"
      ]
     },
     "execution_count": 5,
     "metadata": {},
     "output_type": "execute_result"
    },
    {
     "data": {
      "image/png": "[encoded data removed]",
      "text/plain": [
       "<Figure size 864x360 with 1 Axes>"
      ]
     },
     "metadata": {
      "needs_background": "light"
     },
     "output_type": "display_data"
    }
   ],
   "source": [
    "# 4a YOUR CODE HERE\n",
    "\n",
    "df.plot(x ='contb_receipt_dt', y='contb_receipt_amt', kind = 'line', \n",
    "        figsize=(12,5), title= 'Donations by Time', ylabel='Amounts', xlabel = 'Dates')\t\n"
   ]
  },
  {
   "cell_type": "markdown",
   "metadata": {},
   "source": [
    "**4b. Make a better time-series line chart**\n",
    "\n",
    "This chart is messy and it is hard to gain insights from it.  Improve the chart from 4a so that your new chart shows a specific insight. In the spot provided, write the insight(s) that can be gained from this new time-series line chart."
   ]
  },
  {
   "cell_type": "code",
   "execution_count": 17,
   "metadata": {
    "deletable": false,
    "nbgrader": {
     "checksum": "6dc1481a003cdd752c5edfa9ac400879",
     "grade": true,
     "grade_id": "cell-f7a01ce9c5b10ac7",
     "locked": false,
     "points": 0,
     "schema_version": 1,
     "solution": true
    }
   },
   "outputs": [
    {
     "data": {
      "text/plain": [
       "<AxesSubplot:title={'center':'Donations by Time'}, xlabel='Dates', ylabel='Amounts'>"
      ]
     },
     "execution_count": 17,
     "metadata": {},
     "output_type": "execute_result"
    },
    {
     "data": {
      "image/png": "[encoded data removed]",
      "text/plain": [
       "<Figure size 1440x360 with 1 Axes>"
      ]
     },
     "metadata": {
      "needs_background": "light"
     },
     "output_type": "display_data"
    }
   ],
   "source": [
    "# 4b YOUR CODE HERE\n",
    "\n",
    "# df.set_index('contb_receipt_dt').plot()\n",
    "\n",
    "df.plot(x ='contb_receipt_dt', y='contb_receipt_amt', kind = 'line', \n",
    "        figsize=(20,5), title= 'Donations by Time', ylabel='Amounts', xlabel = 'Dates', ylim=(0, 10500), xlim=('2015-03', '2016-06') )\n",
    "\n",
    "\n",
    "# plt.suptitle('Contribution Amounts')\n",
    "# plt.xlabel('contb_receipt_dt')\n",
    "# plt.ylabel('contb_receipt_amt')\n",
    "# plt.ylim(0,10)\n",
    "# plt.xlim(0,10)\n",
    "# plt.plot(df['contb_receipt_dt'], df['contb_receipt_amt']) # , bins=[0, 10, 20, 30, 40, 50, 60, 70, 80, 90, 100, 110, 120, 130, 140, 150, 160, 200, 250, 300, 350, 400, 500, 550])\n",
    "\n",
    "# plt.plot(df['contb_receipt_amt'], bins=[0, 10, 20, 30, 40, 50, 60, 70, 80, 90, 100, 110, 120, 130, 140, 150, 160, 200, 250, 300, 350, 400, 500, 550])\n",
    "\n",
    "\n"
   ]
  },
  {
   "cell_type": "markdown",
   "metadata": {
    "deletable": false,
    "nbgrader": {
     "checksum": "010f5de5f6af4c7f830d1cf7a81bbc0f",
     "grade": true,
     "grade_id": "cell-5617179133b06d0c",
     "locked": false,
     "points": 0,
     "schema_version": 1,
     "solution": true
    }
   },
   "source": [
    "`4b YOUR RESPONSE HERE`\n",
    "\n",
    "As you can see between March 2015 and the end of the election is when most of the activity happens. We can also see that the ave donation amount is low compared t some high donor individuals. \n"
   ]
  },
  {
   "cell_type": "markdown",
   "metadata": {},
   "source": [
    "## If you have feedback for this homework, please submit it using the link below:\n",
    "\n",
    "http://goo.gl/forms/74yCiQTf6k"
   ]
  }
 ],
 "metadata": {
  "kernelspec": {
   "display_name": "Python 3",
   "language": "python",
   "name": "python3"
  },
  "language_info": {
   "codemirror_mode": {
    "name": "ipython",
    "version": 3
   },
   "file_extension": ".py",
   "mimetype": "text/x-python",
   "name": "python",
   "nbconvert_exporter": "python",
   "pygments_lexer": "ipython3",
   "version": "3.8.8"
  }
 },
 "nbformat": 4,
 "nbformat_minor": 2
}
