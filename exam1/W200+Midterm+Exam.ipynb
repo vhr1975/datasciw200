{
 "cells": [
  {
   "cell_type": "markdown",
   "metadata": {},
   "source": [
    "## MIDTERM - W200 Introduction to Data Science Programming, UC Berkeley MIDS"
   ]
  },
  {
   "cell_type": "markdown",
   "metadata": {},
   "source": [
    "## Instructions\n",
    "The midterm exam is designed to evaluate your grasp of Python theory as well as Python coding.\n",
    "\n",
    "- This is an individual open book exam.\n",
    "- You have 48 hours to complete the exam and upload it back to ISVC, starting from the point when you first accessed it on ISVC.\n",
    "- You may use any libraries from the Python Standard Library for this exam: https://docs.python.org/3/library/\n",
    "\n",
    "For the coding questions, follow best practices.  Partial credit may be given for submissions that are clearly commented and well organized."
   ]
  },
  {
   "cell_type": "markdown",
   "metadata": {},
   "source": [
    "# 1. Short Questions (15 pts)\n",
    "\n",
    "1.1. Python's dynamic typing allows one variable to refer to multiple types of objects within the same program execution.  This can speed program development.  Name one disadvantage of dynamic typing."
   ]
  },
  {
   "cell_type": "markdown",
   "metadata": {
    "collapsed": true
   },
   "source": [
    "**Your answer here**\n",
    "\n",
    "One of the main disadvantages of dynamic typing is run-time errors / failures. \n"
   ]
  },
  {
   "cell_type": "markdown",
   "metadata": {},
   "source": [
    "1.2. Compiled languages typically offer faster performance than interpreted languages. List two reasons why would you choose an interpreted language like Python for the purpose of analyzing a data set instead of a compiled language."
   ]
  },
  {
   "cell_type": "markdown",
   "metadata": {
    "collapsed": true
   },
   "source": [
    "**Your answer here**\n",
    "\n",
    "An interpreted language will be more flexible, smaller program size, and platform independent. Another advantage will be the ease of use for a data scientist that might not have a CS background. The interpreted language will be easier to learn."
   ]
  },
  {
   "cell_type": "markdown",
   "metadata": {},
   "source": [
    "1.3. We have gone over FOR and WHILE loops.  Discuss one reason to use a for loop over a while loop and one reason to use a while loop over a for loop. Please elaborate beyond a single word."
   ]
  },
  {
   "cell_type": "markdown",
   "metadata": {
    "collapsed": true
   },
   "source": [
    "**Your answer here**\n",
    "\n",
    "If you require all elements to be inspected or have a predefine iteration count, a for loop will guaranteed that every element will inspected / processed. \n",
    "\n",
    "If you have a dynamic iteration count, a while loop can control the iteration count. This will allow you the flexibility to control the loop on the fly. \n"
   ]
  },
  {
   "cell_type": "markdown",
   "metadata": {},
   "source": [
    "# 2. Programming Styles (10 pts)\n",
    "\n",
    "We have taught you a number of ways to program in Python. These have included using scripts versus functions and using Jupyter notebooks versus calling .py files from the command line. Describe a scenario in which you would use .py files from the command line over a Jupyter notebook and the opposite. Describe a scenario in which you would use a script versus a function and the opposite.  There are four cases and each answer should be about 1-2 sentences, explain why!"
   ]
  },
  {
   "cell_type": "markdown",
   "metadata": {},
   "source": [
    "2.1. I would use a Jupyter notebook:"
   ]
  },
  {
   "cell_type": "markdown",
   "metadata": {},
   "source": [
    "**Your answer here**\n",
    "\n",
    "I would use a Jupyter notebook when a full data science integrated development environment is required. The IDE provides data visualization, documentation, and code caching. "
   ]
  },
  {
   "cell_type": "markdown",
   "metadata": {},
   "source": [
    "2.2. I would use .py files over a Jupyter notebook:"
   ]
  },
  {
   "cell_type": "markdown",
   "metadata": {},
   "source": [
    "**Your answer here**\n",
    "\n",
    "The .py file is a self-contained program / code file. This can be run or edited from any IDE. The .py file can also be run independently from the command line. \n",
    "\n",
    "I would use a Jupyter note over a .py file when data visualization and readability are required. "
   ]
  },
  {
   "cell_type": "markdown",
   "metadata": {},
   "source": [
    "2.3. I would use a script over a function:"
   ]
  },
  {
   "cell_type": "markdown",
   "metadata": {},
   "source": [
    "**Your answer here**\n",
    "\n",
    "A script file is much easier the debug than a Jupyter notebook. A script file is easier to organize and maintain than a Jupyter notebook. \n",
    "\n",
    "I would use a function over a script when all logic should be self-contained in one file for readability. \n"
   ]
  },
  {
   "cell_type": "markdown",
   "metadata": {},
   "source": [
    "2.4. I would use a function over a script:"
   ]
  },
  {
   "cell_type": "markdown",
   "metadata": {},
   "source": [
    "**Your answer here**\n",
    "\n",
    "A function would be used to organize, reuse, and extend a piece of code within the same code file. \n",
    "\n",
    "I would use a script over a function when the code should be able to independently run from the command line for automation purposes. \n"
   ]
  },
  {
   "cell_type": "markdown",
   "metadata": {},
   "source": [
    "# 3. Dictionaries vs Lists (10 pts)\n",
    "\n",
    "Suppose we have the following problem.  We have a dictionary of names and ages and we would like to find the oldest person.\n",
    "\n",
    "```\n",
    "ages_dict = {'Bill':34, 'Fred':45, 'Alice':14, 'Betty':17}\n",
    "```"
   ]
  },
  {
   "cell_type": "markdown",
   "metadata": {},
   "source": [
    "### Dictionary approach\n",
    "Here is a loop that shows how to iterate through the dictionary:"
   ]
  },
  {
   "cell_type": "code",
   "execution_count": 1,
   "metadata": {},
   "outputs": [
    {
     "name": "stdout",
     "output_type": "stream",
     "text": [
      "Fred is the oldest.\n"
     ]
    }
   ],
   "source": [
    "ages_dict = {'Bill':34, 'Fred':45, 'Alice':14, 'Betty':17}\n",
    "\n",
    "max_age = 0\n",
    "max_name = ''\n",
    "for name,age in ages_dict.items():\n",
    "    if age > max_age:\n",
    "        max_age = age\n",
    "        max_name = name\n",
    "        \n",
    "print(max_name, \"is the oldest.\")    "
   ]
  },
  {
   "cell_type": "markdown",
   "metadata": {},
   "source": [
    "### List approach \n",
    "\n",
    "Your friend comes to you and thinks that this dictionary is difficult to deal with and instead offers a different plan using two lists.\n",
    "\n",
    "```\n",
    "names = ['Bill', 'Fred', 'Alice', 'Betty']\n",
    "ages = [34, 45, 14, 17]\n",
    "```"
   ]
  },
  {
   "cell_type": "markdown",
   "metadata": {},
   "source": [
    "Instead of using a loop, your friend writes this code to find the oldest person."
   ]
  },
  {
   "cell_type": "code",
   "execution_count": 2,
   "metadata": {},
   "outputs": [
    {
     "name": "stdout",
     "output_type": "stream",
     "text": [
      "Fred is the oldest.\n"
     ]
    }
   ],
   "source": [
    "names = ['Bill', 'Fred', 'Alice', 'Betty']\n",
    "ages = [34, 45, 14, 17]\n",
    "\n",
    "max_age = max(ages)\n",
    "index_max = ages.index(max_age)\n",
    "max_name = names[index_max]\n",
    "\n",
    "print(max_name, 'is the oldest.')"
   ]
  },
  {
   "cell_type": "markdown",
   "metadata": {},
   "source": [
    "### Discussion\n",
    "Discuss the advantages and disadvantages of each of the approaches.  \n",
    "\n",
    "3.1. Is one more efficient (i.e. faster in Big O notation) than the other?"
   ]
  },
  {
   "cell_type": "markdown",
   "metadata": {},
   "source": [
    "**Your answer here**\n",
    "\n",
    "Dictionaries are much faster because they are implement using hash tables. They have a time complexity of Big O (1). \n",
    "\n",
    "Lists are slower because they are implemented as an ordered sequence of objects. They have a time complexity of Big O (n). "
   ]
  },
  {
   "cell_type": "markdown",
   "metadata": {},
   "source": [
    "3.2. Why would you prefer the dictionary?"
   ]
  },
  {
   "cell_type": "markdown",
   "metadata": {},
   "source": [
    "**Your answer here**\n",
    "\n",
    "If speed is required, the dictionary key access approach would be the best option "
   ]
  },
  {
   "cell_type": "markdown",
   "metadata": {},
   "source": [
    "3.3. Why would you prefer the two lists?"
   ]
  },
  {
   "cell_type": "markdown",
   "metadata": {},
   "source": [
    "**Your answer here**\n",
    "\n",
    "If sequence and order are required, the lists would be the best option "
   ]
  },
  {
   "cell_type": "markdown",
   "metadata": {},
   "source": [
    "# 4. Mutability Surprises (15 pts)\n",
    "\n",
    "4.1. In the asynchronous sessions, we discussed mutability. Please describe, in your own words, why mutability is a useful feature in Python lists and dictionaries."
   ]
  },
  {
   "cell_type": "markdown",
   "metadata": {},
   "source": [
    "**Your answer here**\n",
    "\n",
    "Mutability in lists and dictionaries are useful features because your data size can change in size. With mutable data types like list and dictionaries it is easy to change the data structures size dynamically. "
   ]
  },
  {
   "cell_type": "markdown",
   "metadata": {},
   "source": [
    "Mutability can also lead to unexpected behavior - specifically when multiple variables point to the same object or when mutable objects are nested inside each other. \n",
    "\n",
    "4.2. Please write some code demonstrating a situation where mutability could lead to unexpected behavior. Specifically, show how updating just one object (list_a) can change the value when you print a second variable (list_b)."
   ]
  },
  {
   "cell_type": "code",
   "execution_count": 10,
   "metadata": {
    "collapsed": true
   },
   "outputs": [
    {
     "name": "stdout",
     "output_type": "stream",
     "text": [
      "Grade C low range = 70\n",
      "Grade B low range = 70\n"
     ]
    }
   ],
   "source": [
    "# Your code here\n",
    "\n",
    "list_a = ['A', 'B', 'C', 'D', 'F']\n",
    "list_b = ['90', '80', '70', '60', '50']\n",
    "\n",
    "# expected result\n",
    "print('Grade', list_a[2], 'low range =', list_b[2])\n",
    "\n",
    "# list updated\n",
    "list_a = ['A+', 'A', 'B', 'C', 'D', 'F']\n",
    "\n",
    "# unexpected result\n",
    "print('Grade', list_a[2], 'low range =', list_b[2])\n"
   ]
  },
  {
   "cell_type": "markdown",
   "metadata": {},
   "source": [
    "4.3. Show how \"copy\" or \"deepcopy\" could be used to prevent the unexpected problem you described, above."
   ]
  },
  {
   "cell_type": "code",
   "execution_count": 11,
   "metadata": {
    "collapsed": true
   },
   "outputs": [
    {
     "name": "stdout",
     "output_type": "stream",
     "text": [
      "Grade C low range = 70\n",
      "Grade C low range = 70\n"
     ]
    }
   ],
   "source": [
    "# Your code here\n",
    "\n",
    "import copy\n",
    "\n",
    "list_a = ['A', 'B', 'C', 'D', 'F']\n",
    "list_b = ['90', '80', '70', '60', '50']\n",
    "\n",
    "# expected result\n",
    "print('Grade', list_a[2], 'low range =', list_b[2])\n",
    "\n",
    "# use deepcopy to deep copy\n",
    "list_a_deep_copy = copy.deepcopy(list_a)\n",
    "\n",
    "# list updated\n",
    "list_a = ['A+', 'A', 'B', 'C', 'D', 'F']\n",
    "\n",
    "# still the expected result\n",
    "print('Grade', list_a_deep_copy[2], 'low range =', list_b[2])"
   ]
  },
  {
   "cell_type": "markdown",
   "metadata": {},
   "source": [
    "4.4. Now, show the same problem using two dictionaries. Again show how \"copy\" or \"deepcopy\" can fix the issue."
   ]
  },
  {
   "cell_type": "code",
   "execution_count": 5,
   "metadata": {
    "collapsed": true
   },
   "outputs": [
    {
     "name": "stdout",
     "output_type": "stream",
     "text": [
      "Grade C low range = C\n",
      "Grade C low range = C\n"
     ]
    }
   ],
   "source": [
    "# Your code here\n",
    "\n",
    "dict_a = {'first':'A', 'second':'B','third':'C','fouth':'D','fifth':'F'}\n",
    "dict_b = {'first':'A', 'second':'B','third':'C','fouth':'D','fifth':'F'}\n",
    "\n",
    "# expected result\n",
    "print('Grade', list(dict_a.values())[2], 'low range =', list(dict_b.values())[2])\n",
    "\n",
    "# use deepcopy to deep copy\n",
    "dict_a_deep_copy =dict(dict_a)\n",
    "\n",
    "# list updated\n",
    "dict_a = {'first':'A+','first2':'A','second':'B','third':'C','fouth':'D','fifth':'F'}\n",
    "\n",
    "# still the expected result\n",
    "print('Grade', list(dict_a_deep_copy.values())[2], 'low range =', list(dict_a_deep_copy.values())[2])\n"
   ]
  },
  {
   "cell_type": "markdown",
   "metadata": {},
   "source": [
    "4.5. Can this unexpected behavior problem occur with tuples? Why, or why not?"
   ]
  },
  {
   "cell_type": "markdown",
   "metadata": {},
   "source": [
    "**Your answer here**\n",
    "\n",
    "This would not be an issue with Python tuples. Python tuples are immutable meaning we cannot add or delete elements. "
   ]
  },
  {
   "cell_type": "markdown",
   "metadata": {},
   "source": [
    "# 5. Tweet Analysis (15 pts)\n",
    "\n",
    "A tweet is a string that is between 1 and 280 characters long (inclusive). A username is a string of letters and/or digits that is between 1 and 14 characters long (inclusive). A username is mentioned in a tweet by including @username in the tweet (notice the username does not include the `@` symbol). A retweet is way to share another user's tweet, and can be identified by the string RT, followed by the original username who tweeted it.\n",
    "\n",
    "Your job is to fill in the function *count_retweets_by_username* so that it **returns** a frequency dictionary that indicates how many times each retweeted username was retweeted."
   ]
  },
  {
   "cell_type": "code",
   "execution_count": 6,
   "metadata": {
    "collapsed": true
   },
   "outputs": [],
   "source": [
    "tweets = [\"This is great! RT @fakeuser: Can you believe this?\",\n",
    "         \"It's the refs! RT @dubsfan: Boo the refs and stuff wargarbal\",\n",
    "         \"That's right RT @ladodgers: The dodgers are destined to win the west!\",\n",
    "         \"RT @sportball: That sporting event was not cool\",\n",
    "         \"This is just a tweet about things @person, how could you\",\n",
    "         \"RT @ladodgers: The season is looking great!\",\n",
    "         \"RT @dubsfan: I can't believe it!\",\n",
    "         \"I can't believe it either! RT @dubsfan: I can't believe it\"]"
   ]
  },
  {
   "cell_type": "code",
   "execution_count": 23,
   "metadata": {
    "collapsed": true
   },
   "outputs": [],
   "source": [
    "def count_retweets_by_username(tweet_list):\n",
    "    \"\"\" (list of tweets) -> dict of {username: int}\n",
    "    Returns a dictionary in which each key is a username that was \n",
    "    retweeted in tweet_list and each value is the total number of times this \n",
    "    username was retweeted.\n",
    "    \"\"\"\n",
    "    \n",
    "    # method return value\n",
    "    username_dict = {}\n",
    "    # list to track all the usernames\n",
    "    usernames = []\n",
    "    \n",
    "    # loop the list of tweets\n",
    "    for tweet in tweet_list:\n",
    "        \n",
    "        # loop the words in the tweet\n",
    "        for word in tweet.split():\n",
    "                      \n",
    "            # found the beginning of the username\n",
    "            # The startswith() string method checks whether a string starts with a particular substring.\n",
    "            # The endswith() string formatting method can be used to check whether a string ends with \n",
    "            # a particular value.\n",
    "            if word.startswith('@') and word.endswith(':'): \n",
    "                # found the the username\n",
    "                # print(word)     \n",
    "                # save the username \n",
    "                usernames.append(word)\n",
    "    \n",
    "    # count all the username counts and save to the dict\n",
    "    # loop the username list\n",
    "    for uname in usernames:\n",
    "        \n",
    "        # if the username in the dict\n",
    "        if uname in username_dict:\n",
    "            # increment the count by 1\n",
    "            username_dict[uname] += 1\n",
    "        else:\n",
    "            # uname not in the dict\n",
    "            username_dict[uname] = 1\n",
    "        \n",
    "    # write code here and update return statement with your dictionary\n",
    "    return username_dict\n"
   ]
  },
  {
   "cell_type": "code",
   "execution_count": 24,
   "metadata": {
    "collapsed": true
   },
   "outputs": [
    {
     "name": "stdout",
     "output_type": "stream",
     "text": [
      "{'@fakeuser:': 1, '@dubsfan:': 3, '@ladodgers:': 2, '@sportball:': 1}\n"
     ]
    }
   ],
   "source": [
    "# allow this code to work by implementing count_retweets_by_username function above\n",
    "print(count_retweets_by_username(tweets))"
   ]
  },
  {
   "cell_type": "markdown",
   "metadata": {},
   "source": [
    "# 6. Looking for Minerals (20 pts)\n",
    "\n",
    "A mining company conducts a survey of an n-by-n square grid of land.  Each row of land is numbered from 0 to n-1 where 0 is the top and n-1 is the bottom, and each column is also numbered from 0 to n-1 where 0 is the left and n-1 is the right.  The company wishes to record which squares of this grid contain mineral deposits.\n",
    "\n",
    "The company decides to use a list of tuples to store the location of each deposit.  The first item in each tuple is the row of the deposit.  The second item is the column.  The third item is a non-negative number representing the size of the deposit, in tons.  For example, the following code defines a sample representation of a set of deposits in an 8-by-8 grid."
   ]
  },
  {
   "cell_type": "code",
   "execution_count": 2,
   "metadata": {
    "collapsed": true
   },
   "outputs": [],
   "source": [
    "deposits = [(0, 4, .3), (6, 2, 3), (3, 7, 2.2), (5, 5, .5), (3, 5, .8), (7, 7, .3)]"
   ]
  },
  {
   "cell_type": "markdown",
   "metadata": {},
   "source": [
    "6.1. Given a list of deposits like the one above, write a function to create a string representation for a rectangular sub-region of the land.  Your function should take a list of deposits, then a set of parameters denoting the top, bottom, left, and right edges of the sub-grid.  It should **return** (do not print in the function) a multi-line string in which grid squares without deposits are represented by \"-\" and grid squares with a deposit are represented by \"X\"."
   ]
  },
  {
   "cell_type": "code",
   "execution_count": 3,
   "metadata": {
    "collapsed": true
   },
   "outputs": [
    {
     "name": "stdout",
     "output_type": "stream",
     "text": [
      "----X---\n",
      "--------\n",
      "--------\n",
      "-----X-X\n",
      "--------\n",
      "-----X--\n",
      "--X-----\n",
      "-------X\n",
      "\n",
      " \n",
      "X--\n",
      "---\n",
      "--X\n",
      "\n"
     ]
    }
   ],
   "source": [
    "def display(deposits, top, bottom, left, right):\n",
    "    \"\"\"display a subgrid of the land, with rows starting at top and up to \n",
    "    but not including bottom, and columns starting at left and up to but\n",
    "    not including right.\"\"\"\n",
    "    \n",
    "    # string that represents the entire grid\n",
    "    ans = \"\" \n",
    "    bFlag = True\n",
    "     \n",
    "    # construct the grid top to bottom\n",
    "    for x in range(top, bottom):\n",
    "        \n",
    "        # construct the grid left to right                \n",
    "        for y in range(left, right):\n",
    "                                    \n",
    "            # determine if an X is required at this square on the grid\n",
    "            # loop the list            \n",
    "            for (row, col, size) in deposits:\n",
    "                \n",
    "                # reset the flag\n",
    "                bFlag = True\n",
    "                \n",
    "                # The first item in each tuple is the row of the deposit.  \n",
    "                # The second item is the column.  \n",
    "                # The third item is a non-negative number representing the size of the deposit, in tons.\n",
    "                if (x == row) and (y == col):\n",
    "                    \n",
    "                    # must print an X in this location\n",
    "                    # print('x = ', x, 'y = ', y, 'row = ', row, 'col = ', col, 'size = ', size)\n",
    "                    ans = ans + 'X'\n",
    "                    # an X was printed\n",
    "                    bFlag = False\n",
    "                    # only one X can be at this location must break out of the loop\n",
    "                    break;\n",
    "                \n",
    "            # check to determine if a '-' is required\n",
    "            if bFlag:\n",
    "                ans = ans + '-'\n",
    "                \n",
    "            # end of if where the lists processing complets\n",
    "                \n",
    "        # end of for where the cols end\n",
    "        # must add newline to at the end of the cols\n",
    "        ans = ans + '\\n'\n",
    "            \n",
    "    # end of for where the rows end\n",
    "    \n",
    "    return ans\n",
    "\n",
    "print(display(deposits, 0, 8, 0, 8))\n",
    "print(' ')\n",
    "print(display(deposits, 5, 8, 5, 8))\n"
   ]
  },
  {
   "cell_type": "markdown",
   "metadata": {},
   "source": [
    "For example, your function should replicate the following behavior for the example grid:\n",
    "```\n",
    "print(display(deposits, 0, 8, 0, 8))\n",
    "----X---\n",
    "--------\n",
    "--------\n",
    "-----X-X\n",
    "--------\n",
    "-----X--\n",
    "--X-----\n",
    "-------X\n",
    "\n",
    "print(display(deposits, 5, 8, 5, 8))\n",
    "X--\n",
    "---\n",
    "--X\n",
    "\n",
    "```\n"
   ]
  },
  {
   "cell_type": "markdown",
   "metadata": {},
   "source": [
    "6.2. Next, complete the following function to compute the total number of tons in a rectangular sub-region of the grid."
   ]
  },
  {
   "cell_type": "code",
   "execution_count": 4,
   "metadata": {
    "collapsed": true
   },
   "outputs": [
    {
     "name": "stdout",
     "output_type": "stream",
     "text": [
      "454.40000000000094\n"
     ]
    }
   ],
   "source": [
    "def tons_inside(deposits, top, bottom, left, right):\n",
    "    \"\"\"Returns the total number of tons of deposits for which the row is at least top,\n",
    "    but strictly less than bottom, and the column is at least left, but strictly\n",
    "    less than right.\"\"\"\n",
    "    # Do not alter the function header.  \n",
    "    # Just fill in the code so it returns the correct number of tons.\n",
    "    \n",
    "    tons = 0.0 \n",
    "    \n",
    "    # construct the grid top to bottom\n",
    "    for x in range(top, bottom):\n",
    "        \n",
    "        # construct the grid left to right                \n",
    "        for y in range(left, right):\n",
    "            \n",
    "            # loop the list            \n",
    "            for (row, col, size) in deposits:\n",
    "                \n",
    "                # check if a deposit at this location\n",
    "                if size > 0:\n",
    "                    # save and add the tons\n",
    "                    # print ('tons found = ', size)\n",
    "                    # print ('tons = ', tons)\n",
    "                    # print ('size = ', size)\n",
    "                    tons = tons + size\n",
    "    \n",
    "    return tons\n",
    "    \n",
    "    \n",
    "print(tons_inside(deposits, 0, 8, 0, 8))\n"
   ]
  },
  {
   "cell_type": "markdown",
   "metadata": {
    "collapsed": true
   },
   "source": [
    "## 7. Birthday planning (15 pts)\n",
    "\n",
    "Suppose you record a list of birthdays for your classmates, recorded as month day tuples.  An example is given below."
   ]
  },
  {
   "cell_type": "code",
   "execution_count": 7,
   "metadata": {},
   "outputs": [],
   "source": [
    "# The 2nd to last tuple needs the int(2) in it so that it is uniquely stored in memory compared to (2,8)\n",
    "# Under the hood Python 3.7 changed how these are stored so (2,8) and (2,8) are stored in the same location\n",
    "# and then the algorithm below doesn't work\n",
    "\n",
    "dates = [(3,14),(2,8),(10,25),(5,17),(3,2),(7,25),(4,30),(8,7),(int(2),8),(1,22)]"
   ]
  },
  {
   "cell_type": "markdown",
   "metadata": {},
   "source": [
    "You read about the famous birthday problem and you become interested in the number of pairs of classmates that share the same birthday.  Below is an algorithm you write to do this. (Note: the ```is``` operator tests that two operands point to the same object)"
   ]
  },
  {
   "cell_type": "code",
   "execution_count": 8,
   "metadata": {},
   "outputs": [
    {
     "name": "stdout",
     "output_type": "stream",
     "text": [
      "Total birthday pairs: 1\n"
     ]
    }
   ],
   "source": [
    "count = 0\n",
    "\n",
    "for person_a in dates:\n",
    "    for person_b in dates:\n",
    "        # Make sure we have different people        \n",
    "        \n",
    "        if person_a is person_b:\n",
    "            continue\n",
    "            \n",
    "        # Check both month and day\n",
    "        if person_a[0] == person_b[0] and person_a[1] == person_b[1]:\n",
    "            count += 1\n",
    "            \n",
    "# We counted each pair twice (e.g. jane-bob and bob-jane) so divide by 2:\n",
    "print(\"Total birthday pairs:\", count//2)"
   ]
  },
  {
   "cell_type": "markdown",
   "metadata": {},
   "source": [
    "7.1. What is the (tightest) Big-O running time bound for the above algorithm?  You may assume that simple operations like equality check, addition, and print take constant time."
   ]
  },
  {
   "cell_type": "markdown",
   "metadata": {
    "collapsed": true
   },
   "source": [
    "**Your answer here**\n",
    "\n",
    "The time complexity is Big O (n^2)"
   ]
  },
  {
   "cell_type": "markdown",
   "metadata": {},
   "source": [
    "7.2. You notice that your algorithm is inefficient in that it counts each pair twice.  For example, it will increment count once when person_a is Jane and person_b is Bob, and again when person_a is Bob and person_b is Jane.  Below, revise the algorithm so that it only looks at each pair once."
   ]
  },
  {
   "cell_type": "code",
   "execution_count": 4,
   "metadata": {
    "collapsed": true
   },
   "outputs": [
    {
     "name": "stdout",
     "output_type": "stream",
     "text": [
      "Total birthday pairs: 1\n"
     ]
    }
   ],
   "source": [
    "# Your code here\n",
    "\n",
    "dates = [(3,14),(2,8),(10,25),(5,17),(3,2),(7,25),(4,30),(8,7),(int(2),8),(1,22)]\n",
    "\n",
    "count = 0\n",
    "length = len(dates)\n",
    "\n",
    "# loop all the dates\n",
    "for i in range(length):\n",
    "    \n",
    "    # loop to compare the dates\n",
    "    for j in range(i + 1, length):\n",
    "        \n",
    "        # save bdays\n",
    "        person_a = dates[i]\n",
    "        person_b = dates[j]\n",
    "        \n",
    "        # time to optimize only compare diff people\n",
    "        if person_a is person_b:\n",
    "            continue\n",
    "        \n",
    "        # check if birthdays match\n",
    "        if person_a[0] == person_b[0] and person_a[1] == person_b[1]:\n",
    "            # increment count\n",
    "            count += 1\n",
    "\n",
    "# We counted each pair once \n",
    "print(\"Total birthday pairs:\", count)\n"
   ]
  },
  {
   "cell_type": "markdown",
   "metadata": {},
   "source": [
    "7.3. What is the (tightest) Big-O running time bound for your new algorithm?  What does this tell you about whether your revision was worth making?"
   ]
  },
  {
   "cell_type": "markdown",
   "metadata": {},
   "source": [
    "**Your answer here**\n",
    "\n",
    "The time complexity is Big O (n^2)"
   ]
  },
  {
   "cell_type": "markdown",
   "metadata": {},
   "source": [
    "7.4. Finally, create a third revision of your algorithm which has a faster Big-O running time bound that both the previous algorithms."
   ]
  },
  {
   "cell_type": "code",
   "execution_count": 1,
   "metadata": {
    "collapsed": true
   },
   "outputs": [
    {
     "name": "stdout",
     "output_type": "stream",
     "text": [
      "Total birthday pairs: 1\n"
     ]
    }
   ],
   "source": [
    "# Your code here\n",
    "\n",
    "dates = [(3,14),(2,8),(10,25),(5,17),(3,2),(7,25),(4,30),(8,7),(int(2),8),(1,22)]\n",
    "dates.sort()\n",
    "count = 0\n",
    "i = 0\n",
    "length = len(dates)\n",
    "\n",
    "# loop the length of the dates\n",
    "while i < length:\n",
    "    \n",
    "    j = i\n",
    "    frequency = 0\n",
    "    \n",
    "    #finding the frequency \n",
    "    while i<length and dates[i][0]== dates[j][0] and dates[i][1]== dates[j][1]:\n",
    "        \n",
    "        frequency += 1\n",
    "        i += 1\n",
    "    \n",
    "    # use floor division \n",
    "    count +=  (frequency) * (frequency-1) // 2\n",
    "\n",
    "# We counted each pair once \n",
    "print(\"Total birthday pairs:\", count)\n"
   ]
  },
  {
   "cell_type": "markdown",
   "metadata": {},
   "source": [
    "7.5. What is the (tightest) Big-O running time bound for your last algorithm?  Explain what trade-off you made to have a faster running time."
   ]
  },
  {
   "cell_type": "markdown",
   "metadata": {
    "collapsed": true
   },
   "source": [
    "**Your answer here**\n",
    "\n",
    "The time complexity is Big O (nlogn)"
   ]
  }
 ],
 "metadata": {
  "interpreter": {
   "hash": "b3ba2566441a7c06988d0923437866b63cedc61552a5af99d1f4fb67d367b25f"
  },
  "kernelspec": {
   "display_name": "Python 3.8.8 32-bit ('base': conda)",
   "name": "python3"
  },
  "language_info": {
   "codemirror_mode": {
    "name": "ipython",
    "version": 3
   },
   "file_extension": ".py",
   "mimetype": "text/x-python",
   "name": "python",
   "nbconvert_exporter": "python",
   "pygments_lexer": "ipython3",
   "version": "3.8.8"
  },
  "widgets": {
   "state": {},
   "version": "1.1.2"
  }
 },
 "nbformat": 4,
 "nbformat_minor": 1
}
